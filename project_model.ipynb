{
 "cells": [
  {
   "cell_type": "code",
   "execution_count": 1,
   "metadata": {},
   "outputs": [],
   "source": [
    "import pandas as pd\n",
    "import numpy as np\n",
    "import matplotlib.pyplot as plt\n",
    "from sklearn.model_selection import train_test_split\n",
    "from textblob import TextBlob\n",
    "from sklearn.metrics import accuracy_score, classification_report, confusion_matrix\n",
    "from sklearn.feature_extraction.text import CountVectorizer, TfidfVectorizer\n",
    "from sklearn.pipeline import Pipeline\n",
    "from sklearn.metrics import roc_curve, auc\n",
    "from sklearn.svm import LinearSVC\n",
    "from sklearn.svm import SVC\n",
    "from sklearn.decomposition import PCA\n",
    "from sklearn.decomposition import TruncatedSVD\n",
    "from time import time"
   ]
  },
  {
   "cell_type": "code",
   "execution_count": 2,
   "metadata": {},
   "outputs": [],
   "source": [
    "df_train_data = pd.read_csv('data/cleaned_train.csv')\n",
    "df_test_data = pd.read_csv('data/cleaned_test.csv')"
   ]
  },
  {
   "cell_type": "code",
   "execution_count": 3,
   "metadata": {},
   "outputs": [
    {
     "data": {
      "text/html": [
       "<div>\n",
       "<style scoped>\n",
       "    .dataframe tbody tr th:only-of-type {\n",
       "        vertical-align: middle;\n",
       "    }\n",
       "\n",
       "    .dataframe tbody tr th {\n",
       "        vertical-align: top;\n",
       "    }\n",
       "\n",
       "    .dataframe thead th {\n",
       "        text-align: right;\n",
       "    }\n",
       "</style>\n",
       "<table border=\"1\" class=\"dataframe\">\n",
       "  <thead>\n",
       "    <tr style=\"text-align: right;\">\n",
       "      <th></th>\n",
       "      <th>tweet</th>\n",
       "      <th>target</th>\n",
       "    </tr>\n",
       "  </thead>\n",
       "  <tbody>\n",
       "    <tr>\n",
       "      <th>0</th>\n",
       "      <td>dived many times for the ball managed to save ...</td>\n",
       "      <td>0</td>\n",
       "    </tr>\n",
       "    <tr>\n",
       "      <th>1</th>\n",
       "      <td>not the whole crew</td>\n",
       "      <td>0</td>\n",
       "    </tr>\n",
       "    <tr>\n",
       "      <th>2</th>\n",
       "      <td>nope they did not have it</td>\n",
       "      <td>0</td>\n",
       "    </tr>\n",
       "    <tr>\n",
       "      <th>3</th>\n",
       "      <td>spring break in plain city it snowing</td>\n",
       "      <td>0</td>\n",
       "    </tr>\n",
       "    <tr>\n",
       "      <th>4</th>\n",
       "      <td>could not bear to watch it and thought the ua ...</td>\n",
       "      <td>0</td>\n",
       "    </tr>\n",
       "  </tbody>\n",
       "</table>\n",
       "</div>"
      ],
      "text/plain": [
       "                                               tweet  target\n",
       "0  dived many times for the ball managed to save ...       0\n",
       "1                                 not the whole crew       0\n",
       "2                          nope they did not have it       0\n",
       "3              spring break in plain city it snowing       0\n",
       "4  could not bear to watch it and thought the ua ...       0"
      ]
     },
     "execution_count": 3,
     "metadata": {},
     "output_type": "execute_result"
    }
   ],
   "source": [
    "df_train_data.head()"
   ]
  },
  {
   "cell_type": "code",
   "execution_count": 4,
   "metadata": {},
   "outputs": [
    {
     "data": {
      "text/html": [
       "<div>\n",
       "<style scoped>\n",
       "    .dataframe tbody tr th:only-of-type {\n",
       "        vertical-align: middle;\n",
       "    }\n",
       "\n",
       "    .dataframe tbody tr th {\n",
       "        vertical-align: top;\n",
       "    }\n",
       "\n",
       "    .dataframe thead th {\n",
       "        text-align: right;\n",
       "    }\n",
       "</style>\n",
       "<table border=\"1\" class=\"dataframe\">\n",
       "  <thead>\n",
       "    <tr style=\"text-align: right;\">\n",
       "      <th></th>\n",
       "      <th>tweet</th>\n",
       "      <th>target</th>\n",
       "    </tr>\n",
       "  </thead>\n",
       "  <tbody>\n",
       "    <tr>\n",
       "      <th>0</th>\n",
       "      <td>my legs are actually killing me went for bath ...</td>\n",
       "      <td>0</td>\n",
       "    </tr>\n",
       "    <tr>\n",
       "      <th>1</th>\n",
       "      <td>do you need personal chef still working out my...</td>\n",
       "      <td>0</td>\n",
       "    </tr>\n",
       "    <tr>\n",
       "      <th>2</th>\n",
       "      <td>about to do piano exam freaking out</td>\n",
       "      <td>0</td>\n",
       "    </tr>\n",
       "    <tr>\n",
       "      <th>3</th>\n",
       "      <td>tomorrow will be my last day being flohoe gonn...</td>\n",
       "      <td>0</td>\n",
       "    </tr>\n",
       "    <tr>\n",
       "      <th>4</th>\n",
       "      <td>hate thunder</td>\n",
       "      <td>0</td>\n",
       "    </tr>\n",
       "  </tbody>\n",
       "</table>\n",
       "</div>"
      ],
      "text/plain": [
       "                                               tweet  target\n",
       "0  my legs are actually killing me went for bath ...       0\n",
       "1  do you need personal chef still working out my...       0\n",
       "2                about to do piano exam freaking out       0\n",
       "3  tomorrow will be my last day being flohoe gonn...       0\n",
       "4                                       hate thunder       0"
      ]
     },
     "execution_count": 4,
     "metadata": {},
     "output_type": "execute_result"
    }
   ],
   "source": [
    "df_test_data.head()"
   ]
  },
  {
   "cell_type": "markdown",
   "metadata": {},
   "source": [
    "### Split Training and Validation Data"
   ]
  },
  {
   "cell_type": "code",
   "execution_count": 12,
   "metadata": {},
   "outputs": [
    {
     "name": "stdout",
     "output_type": "stream",
     "text": [
      "training data has 552354 entries. 49.63% positive and 50.37% negative\n",
      "validation data has 11273 entries. 49.72% positive and 50.28% negative\n"
     ]
    }
   ],
   "source": [
    "X_train, X_validation, y_train, y_validation = train_test_split(df_train_data.tweet, df_train_data.target, test_size = 0.02, random_state = 1234)\n",
    "\n",
    "print(\"training data has {0} entries. {1:.2f}% positive and {2:.2f}% negative\".format(len(y_train), len(y_train[y_train==1])/len(y_train)*100, len(y_train[y_train==0])/len(y_train)*100))\n",
    "print(\"validation data has {0} entries. {1:.2f}% positive and {2:.2f}% negative\".format(len(y_validation), len(y_validation[y_validation==1])/len(y_validation)*100, len(y_validation[y_validation==0])/len(y_validation)*100))"
   ]
  },
  {
   "cell_type": "code",
   "execution_count": null,
   "metadata": {},
   "outputs": [],
   "source": [
    "print(\"{}. {} appears {} times.\".format(i, key, wordBank[key]))"
   ]
  },
  {
   "cell_type": "code",
   "execution_count": 9,
   "metadata": {},
   "outputs": [
    {
     "data": {
      "text/plain": [
       "0.49634292500823746"
      ]
     },
     "execution_count": 9,
     "metadata": {},
     "output_type": "execute_result"
    }
   ],
   "source": [
    "len(y_train[y_train==1])/len(y_train)"
   ]
  },
  {
   "cell_type": "markdown",
   "metadata": {},
   "source": [
    "### Sentiment Pred with TextBlob"
   ]
  },
  {
   "cell_type": "code",
   "execution_count": 17,
   "metadata": {},
   "outputs": [],
   "source": [
    "tb_sentiment = [TextBlob(i).sentiment.polarity for i in X_validation]\n",
    "tb_sentiment = [0 if x < 0 else 1 for x in tb_sentiment]"
   ]
  },
  {
   "cell_type": "code",
   "execution_count": 26,
   "metadata": {},
   "outputs": [
    {
     "data": {
      "text/plain": [
       "array([[1834, 3834],\n",
       "       [ 612, 4993]], dtype=int64)"
      ]
     },
     "execution_count": 26,
     "metadata": {},
     "output_type": "execute_result"
    }
   ],
   "source": [
    "cm = confusion_matrix(y_validation, tb_sentiment)\n",
    "cm"
   ]
  },
  {
   "cell_type": "code",
   "execution_count": 27,
   "metadata": {},
   "outputs": [
    {
     "name": "stdout",
     "output_type": "stream",
     "text": [
      "accuracy = 0.61\n",
      "              precision    recall  f1-score   support\n",
      "\n",
      "           0       0.75      0.32      0.45      5668\n",
      "           1       0.57      0.89      0.69      5605\n",
      "\n",
      "   micro avg       0.61      0.61      0.61     11273\n",
      "   macro avg       0.66      0.61      0.57     11273\n",
      "weighted avg       0.66      0.61      0.57     11273\n",
      "\n"
     ]
    }
   ],
   "source": [
    "print(\"accuracy = {:.2f}\".format(accuracy_score(y_validation, tb_sentiment)))\n",
    "print(classification_report(y_validation, tb_sentiment))"
   ]
  },
  {
   "cell_type": "markdown",
   "metadata": {},
   "source": [
    "### Naive Bayes Model"
   ]
  },
  {
   "cell_type": "code",
   "execution_count": 47,
   "metadata": {},
   "outputs": [],
   "source": [
    "from sklearn.naive_bayes import MultinomialNB\n",
    "from sklearn.linear_model import LogisticRegression"
   ]
  },
  {
   "cell_type": "code",
   "execution_count": 42,
   "metadata": {},
   "outputs": [],
   "source": [
    "vectorizer = CountVectorizer()\n",
    "clf = MultinomialNB()\n",
    "n_features = np.arange(10000, 100001, 10000)"
   ]
  },
  {
   "cell_type": "code",
   "execution_count": 68,
   "metadata": {},
   "outputs": [],
   "source": [
    "def calc_accuracy(pipeline, X_train, X_test, y_train, y_test):\n",
    "    t0 = time()\n",
    "    sentiment_clf = pipeline.fit(X_train, y_train)\n",
    "    y_pred = sentiment_clf.predict(X_test)\n",
    "    train_test_time = time() - t0\n",
    "    accuracy = accuracy_score(y_test, y_pred)\n",
    "    fpr = dict()\n",
    "    tpr = dict()\n",
    "    roc_auc = dict()\n",
    "\n",
    "    fpr, tpr, _ = roc_curve(y_test, y_pred, pos_label=1)\n",
    "    roc_auc = auc(fpr, tpr)\n",
    "    \n",
    "    print(\"model accuracy : {0:.2f}\".format(accuracy))\n",
    "    print(\"model auc : {0:.2f}\".format(roc_auc))\n",
    "    print(\"train validation time : {0:.2f}s\".format(train_test_time))\n",
    "    print(\"=========================================================\")\n",
    "    \n",
    "    return accuracy, roc_auc, train_test_time"
   ]
  },
  {
   "cell_type": "code",
   "execution_count": 69,
   "metadata": {},
   "outputs": [],
   "source": [
    "def compare_clf_nfeature(X_train, X_test, y_train, y_test, vectorizer=vectorizer, clf=clf, n_features=n_features, stop_words=None, ngram_range = (1,1)):\n",
    "    res = []\n",
    "    print(clf)\n",
    "    for feature in n_features:\n",
    "        vectorizer.set_params(stop_words=stop_words, ngram_range=ngram_range, max_features=feature)\n",
    "        acc_pipeline = Pipeline([('vectorizer', vectorizer), ('classifier', clf)])\n",
    "        print(\"result on model with {} features\".format(feature))\n",
    "        accuracy, auc, time = calc_accuracy(acc_pipeline, X_train, X_test, y_train, y_test)\n",
    "        res.append((feature, accuracy, auc, time))\n",
    "        \n",
    "    return res"
   ]
  },
  {
   "cell_type": "code",
   "execution_count": 73,
   "metadata": {},
   "outputs": [
    {
     "data": {
      "text/html": [
       "<div>\n",
       "<style scoped>\n",
       "    .dataframe tbody tr th:only-of-type {\n",
       "        vertical-align: middle;\n",
       "    }\n",
       "\n",
       "    .dataframe tbody tr th {\n",
       "        vertical-align: top;\n",
       "    }\n",
       "\n",
       "    .dataframe thead th {\n",
       "        text-align: right;\n",
       "    }\n",
       "</style>\n",
       "<table border=\"1\" class=\"dataframe\">\n",
       "  <thead>\n",
       "    <tr style=\"text-align: right;\">\n",
       "      <th></th>\n",
       "      <th>word</th>\n",
       "      <th>neg</th>\n",
       "      <th>pos</th>\n",
       "      <th>total</th>\n",
       "    </tr>\n",
       "  </thead>\n",
       "  <tbody>\n",
       "    <tr>\n",
       "      <th>0</th>\n",
       "      <td>to</td>\n",
       "      <td>313164</td>\n",
       "      <td>252567</td>\n",
       "      <td>565731</td>\n",
       "    </tr>\n",
       "    <tr>\n",
       "      <th>1</th>\n",
       "      <td>the</td>\n",
       "      <td>257870</td>\n",
       "      <td>266013</td>\n",
       "      <td>523883</td>\n",
       "    </tr>\n",
       "    <tr>\n",
       "      <th>2</th>\n",
       "      <td>not</td>\n",
       "      <td>238226</td>\n",
       "      <td>103119</td>\n",
       "      <td>341345</td>\n",
       "    </tr>\n",
       "    <tr>\n",
       "      <th>3</th>\n",
       "      <td>my</td>\n",
       "      <td>190845</td>\n",
       "      <td>125979</td>\n",
       "      <td>316824</td>\n",
       "    </tr>\n",
       "    <tr>\n",
       "      <th>4</th>\n",
       "      <td>it</td>\n",
       "      <td>157482</td>\n",
       "      <td>147804</td>\n",
       "      <td>305286</td>\n",
       "    </tr>\n",
       "  </tbody>\n",
       "</table>\n",
       "</div>"
      ],
      "text/plain": [
       "  word     neg     pos   total\n",
       "0   to  313164  252567  565731\n",
       "1  the  257870  266013  523883\n",
       "2  not  238226  103119  341345\n",
       "3   my  190845  125979  316824\n",
       "4   it  157482  147804  305286"
      ]
     },
     "execution_count": 73,
     "metadata": {},
     "output_type": "execute_result"
    }
   ],
   "source": [
    "df_word_freq = pd.read_csv('data/word_freq.csv')\n",
    "df_word_freq.columns = ['word', 'neg', 'pos', 'total']\n",
    "df_word_freq.head()"
   ]
  },
  {
   "cell_type": "code",
   "execution_count": 82,
   "metadata": {},
   "outputs": [],
   "source": [
    "custom_stop_words = list(df_word_freq.head(20).word)"
   ]
  },
  {
   "cell_type": "markdown",
   "metadata": {},
   "source": [
    "### Investigate stopwords effect"
   ]
  },
  {
   "cell_type": "code",
   "execution_count": 70,
   "metadata": {},
   "outputs": [
    {
     "name": "stdout",
     "output_type": "stream",
     "text": [
      "MultinomialNB(alpha=1.0, class_prior=None, fit_prior=True)\n",
      "result on model with 10000 features\n",
      "model accuracy : 0.77\n",
      "model auc : 0.77\n",
      "train validation time : 9.48s\n",
      "=========================================================\n",
      "result on model with 20000 features\n",
      "model accuracy : 0.77\n",
      "model auc : 0.77\n",
      "train validation time : 9.76s\n",
      "=========================================================\n",
      "result on model with 30000 features\n",
      "model accuracy : 0.77\n",
      "model auc : 0.77\n",
      "train validation time : 10.10s\n",
      "=========================================================\n",
      "result on model with 40000 features\n",
      "model accuracy : 0.77\n",
      "model auc : 0.77\n",
      "train validation time : 10.14s\n",
      "=========================================================\n",
      "result on model with 50000 features\n",
      "model accuracy : 0.77\n",
      "model auc : 0.77\n",
      "train validation time : 12.63s\n",
      "=========================================================\n",
      "result on model with 60000 features\n",
      "model accuracy : 0.77\n",
      "model auc : 0.77\n",
      "train validation time : 12.87s\n",
      "=========================================================\n",
      "result on model with 70000 features\n",
      "model accuracy : 0.77\n",
      "model auc : 0.77\n",
      "train validation time : 10.48s\n",
      "=========================================================\n",
      "result on model with 80000 features\n",
      "model accuracy : 0.77\n",
      "model auc : 0.77\n",
      "train validation time : 10.51s\n",
      "=========================================================\n",
      "result on model with 90000 features\n",
      "model accuracy : 0.77\n",
      "model auc : 0.77\n",
      "train validation time : 10.21s\n",
      "=========================================================\n",
      "result on model with 100000 features\n",
      "model accuracy : 0.77\n",
      "model auc : 0.77\n",
      "train validation time : 10.81s\n",
      "=========================================================\n"
     ]
    }
   ],
   "source": [
    "res_w_sw = compare_clf_nfeature(X_train, X_validation, y_train, y_validation)"
   ]
  },
  {
   "cell_type": "code",
   "execution_count": 71,
   "metadata": {},
   "outputs": [
    {
     "name": "stdout",
     "output_type": "stream",
     "text": [
      "MultinomialNB(alpha=1.0, class_prior=None, fit_prior=True)\n",
      "result on model with 10000 features\n",
      "model accuracy : 0.75\n",
      "model auc : 0.75\n",
      "train validation time : 9.18s\n",
      "=========================================================\n",
      "result on model with 20000 features\n",
      "model accuracy : 0.75\n",
      "model auc : 0.75\n",
      "train validation time : 9.21s\n",
      "=========================================================\n",
      "result on model with 30000 features\n",
      "model accuracy : 0.76\n",
      "model auc : 0.76\n",
      "train validation time : 9.51s\n",
      "=========================================================\n",
      "result on model with 40000 features\n",
      "model accuracy : 0.76\n",
      "model auc : 0.76\n",
      "train validation time : 9.13s\n",
      "=========================================================\n",
      "result on model with 50000 features\n",
      "model accuracy : 0.76\n",
      "model auc : 0.76\n",
      "train validation time : 9.18s\n",
      "=========================================================\n",
      "result on model with 60000 features\n",
      "model accuracy : 0.75\n",
      "model auc : 0.75\n",
      "train validation time : 9.36s\n",
      "=========================================================\n",
      "result on model with 70000 features\n",
      "model accuracy : 0.75\n",
      "model auc : 0.75\n",
      "train validation time : 9.44s\n",
      "=========================================================\n",
      "result on model with 80000 features\n",
      "model accuracy : 0.75\n",
      "model auc : 0.75\n",
      "train validation time : 9.14s\n",
      "=========================================================\n",
      "result on model with 90000 features\n",
      "model accuracy : 0.75\n",
      "model auc : 0.75\n",
      "train validation time : 9.89s\n",
      "=========================================================\n",
      "result on model with 100000 features\n",
      "model accuracy : 0.75\n",
      "model auc : 0.75\n",
      "train validation time : 9.89s\n",
      "=========================================================\n"
     ]
    }
   ],
   "source": [
    "res_wo_sw = compare_clf_nfeature(X_train, X_validation, y_train, y_validation, stop_words='english')"
   ]
  },
  {
   "cell_type": "code",
   "execution_count": 83,
   "metadata": {},
   "outputs": [
    {
     "name": "stdout",
     "output_type": "stream",
     "text": [
      "MultinomialNB(alpha=1.0, class_prior=None, fit_prior=True)\n",
      "result on model with 10000 features\n",
      "model accuracy : 0.76\n",
      "model auc : 0.76\n",
      "train validation time : 10.54s\n",
      "=========================================================\n",
      "result on model with 20000 features\n",
      "model accuracy : 0.76\n",
      "model auc : 0.76\n",
      "train validation time : 10.58s\n",
      "=========================================================\n",
      "result on model with 30000 features\n",
      "model accuracy : 0.76\n",
      "model auc : 0.76\n",
      "train validation time : 10.99s\n",
      "=========================================================\n",
      "result on model with 40000 features\n",
      "model accuracy : 0.77\n",
      "model auc : 0.77\n",
      "train validation time : 10.21s\n",
      "=========================================================\n",
      "result on model with 50000 features\n",
      "model accuracy : 0.77\n",
      "model auc : 0.77\n",
      "train validation time : 10.15s\n",
      "=========================================================\n",
      "result on model with 60000 features\n",
      "model accuracy : 0.77\n",
      "model auc : 0.77\n",
      "train validation time : 10.59s\n",
      "=========================================================\n",
      "result on model with 70000 features\n",
      "model accuracy : 0.77\n",
      "model auc : 0.77\n",
      "train validation time : 10.46s\n",
      "=========================================================\n",
      "result on model with 80000 features\n",
      "model accuracy : 0.77\n",
      "model auc : 0.77\n",
      "train validation time : 10.16s\n",
      "=========================================================\n",
      "result on model with 90000 features\n",
      "model accuracy : 0.76\n",
      "model auc : 0.76\n",
      "train validation time : 10.34s\n",
      "=========================================================\n",
      "result on model with 100000 features\n",
      "model accuracy : 0.76\n",
      "model auc : 0.76\n",
      "train validation time : 9.91s\n",
      "=========================================================\n"
     ]
    }
   ],
   "source": [
    "res_cust_sw = compare_clf_nfeature(X_train, X_validation, y_train, y_validation, stop_words=custom_stop_words)"
   ]
  },
  {
   "cell_type": "code",
   "execution_count": 84,
   "metadata": {},
   "outputs": [],
   "source": [
    "cols = ['n_features', 'val_acc', 'val_auc', 'time']\n",
    "res_w_sw = pd.DataFrame(res_w_sw, columns=cols)\n",
    "res_wo_sw = pd.DataFrame(res_wo_sw, columns=cols)\n",
    "res_cust_sw = pd.DataFrame(res_cust_sw, columns=cols)"
   ]
  },
  {
   "cell_type": "code",
   "execution_count": 90,
   "metadata": {},
   "outputs": [
    {
     "data": {
      "text/plain": [
       "<matplotlib.legend.Legend at 0x24e217d5978>"
      ]
     },
     "execution_count": 90,
     "metadata": {},
     "output_type": "execute_result"
    },
    {
     "data": {
      "image/png": "[encoded data removed]",
      "text/plain": [
       "<Figure size 576x288 with 1 Axes>"
      ]
     },
     "metadata": {
      "needs_background": "light"
     },
     "output_type": "display_data"
    }
   ],
   "source": [
    "plt.figure(figsize=(8,4))\n",
    "plt.plot(res_w_sw.n_features, res_w_sw.val_acc, label='with stopwords')\n",
    "plt.plot(res_wo_sw.n_features, res_wo_sw.val_acc, label='without stopwords')\n",
    "plt.plot(res_cust_sw.n_features, res_cust_sw.val_acc, label='without custom stopwords')\n",
    "plt.title(\"comparison of model performance with and without stopwords\")\n",
    "plt.xlabel(\"num of features\")\n",
    "plt.ylabel(\"model validation accuracy\")\n",
    "plt.legend()"
   ]
  },
  {
   "cell_type": "markdown",
   "metadata": {},
   "source": [
    "### Investigate gram length effect"
   ]
  },
  {
   "cell_type": "code",
   "execution_count": 92,
   "metadata": {},
   "outputs": [
    {
     "name": "stdout",
     "output_type": "stream",
     "text": [
      "MultinomialNB(alpha=1.0, class_prior=None, fit_prior=True)\n",
      "result on model with 10000 features\n",
      "model accuracy : 0.78\n",
      "model auc : 0.78\n",
      "train validation time : 33.83s\n",
      "=========================================================\n",
      "result on model with 20000 features\n",
      "model accuracy : 0.78\n",
      "model auc : 0.78\n",
      "train validation time : 37.55s\n",
      "=========================================================\n",
      "result on model with 30000 features\n",
      "model accuracy : 0.78\n",
      "model auc : 0.78\n",
      "train validation time : 40.02s\n",
      "=========================================================\n",
      "result on model with 40000 features\n",
      "model accuracy : 0.78\n",
      "model auc : 0.78\n",
      "train validation time : 37.86s\n",
      "=========================================================\n",
      "result on model with 50000 features\n",
      "model accuracy : 0.79\n",
      "model auc : 0.79\n",
      "train validation time : 36.06s\n",
      "=========================================================\n",
      "result on model with 60000 features\n",
      "model accuracy : 0.78\n",
      "model auc : 0.78\n",
      "train validation time : 34.42s\n",
      "=========================================================\n",
      "result on model with 70000 features\n",
      "model accuracy : 0.79\n",
      "model auc : 0.79\n",
      "train validation time : 31.55s\n",
      "=========================================================\n",
      "result on model with 80000 features\n",
      "model accuracy : 0.79\n",
      "model auc : 0.79\n",
      "train validation time : 33.47s\n",
      "=========================================================\n",
      "result on model with 90000 features\n",
      "model accuracy : 0.79\n",
      "model auc : 0.79\n",
      "train validation time : 31.47s\n",
      "=========================================================\n",
      "result on model with 100000 features\n",
      "model accuracy : 0.79\n",
      "model auc : 0.79\n",
      "train validation time : 32.92s\n",
      "=========================================================\n"
     ]
    }
   ],
   "source": [
    "res_bigram = compare_clf_nfeature(X_train, X_validation, y_train, y_validation, ngram_range=(1,2))"
   ]
  },
  {
   "cell_type": "code",
   "execution_count": 93,
   "metadata": {},
   "outputs": [
    {
     "name": "stdout",
     "output_type": "stream",
     "text": [
      "MultinomialNB(alpha=1.0, class_prior=None, fit_prior=True)\n",
      "result on model with 10000 features\n",
      "model accuracy : 0.77\n",
      "model auc : 0.77\n",
      "train validation time : 64.33s\n",
      "=========================================================\n",
      "result on model with 20000 features\n",
      "model accuracy : 0.78\n",
      "model auc : 0.78\n",
      "train validation time : 66.61s\n",
      "=========================================================\n",
      "result on model with 30000 features\n",
      "model accuracy : 0.78\n",
      "model auc : 0.78\n",
      "train validation time : 65.97s\n",
      "=========================================================\n",
      "result on model with 40000 features\n",
      "model accuracy : 0.78\n",
      "model auc : 0.78\n",
      "train validation time : 64.03s\n",
      "=========================================================\n",
      "result on model with 50000 features\n",
      "model accuracy : 0.79\n",
      "model auc : 0.79\n",
      "train validation time : 66.67s\n",
      "=========================================================\n",
      "result on model with 60000 features\n",
      "model accuracy : 0.79\n",
      "model auc : 0.79\n",
      "train validation time : 70.58s\n",
      "=========================================================\n",
      "result on model with 70000 features\n",
      "model accuracy : 0.79\n",
      "model auc : 0.79\n",
      "train validation time : 68.12s\n",
      "=========================================================\n",
      "result on model with 80000 features\n",
      "model accuracy : 0.79\n",
      "model auc : 0.79\n",
      "train validation time : 71.89s\n",
      "=========================================================\n",
      "result on model with 90000 features\n",
      "model accuracy : 0.79\n",
      "model auc : 0.79\n",
      "train validation time : 66.05s\n",
      "=========================================================\n",
      "result on model with 100000 features\n",
      "model accuracy : 0.79\n",
      "model auc : 0.79\n",
      "train validation time : 64.78s\n",
      "=========================================================\n"
     ]
    }
   ],
   "source": [
    "res_trigram = compare_clf_nfeature(X_train, X_validation, y_train, y_validation, ngram_range=(1,3))"
   ]
  },
  {
   "cell_type": "code",
   "execution_count": 95,
   "metadata": {},
   "outputs": [],
   "source": [
    "res_bigram = pd.DataFrame(res_bigram, columns=cols)\n",
    "res_trigram = pd.DataFrame(res_trigram, columns=cols)"
   ]
  },
  {
   "cell_type": "code",
   "execution_count": 96,
   "metadata": {},
   "outputs": [
    {
     "data": {
      "text/plain": [
       "<matplotlib.legend.Legend at 0x24e2788ebe0>"
      ]
     },
     "execution_count": 96,
     "metadata": {},
     "output_type": "execute_result"
    },
    {
     "data": {
      "image/png": "[encoded data removed]",
      "text/plain": [
       "<Figure size 576x288 with 1 Axes>"
      ]
     },
     "metadata": {
      "needs_background": "light"
     },
     "output_type": "display_data"
    }
   ],
   "source": [
    "plt.figure(figsize=(8,4))\n",
    "plt.plot(res_w_sw.n_features, res_w_sw.val_acc, label='unigram')\n",
    "plt.plot(res_bigram.n_features, res_bigram.val_acc, label='bigram')\n",
    "plt.plot(res_trigram.n_features, res_trigram.val_acc, label='trigram')\n",
    "plt.title(\"comparison of model performance (n-gram)\")\n",
    "plt.xlabel(\"num of features\")\n",
    "plt.ylabel(\"model validation accuracy\")\n",
    "plt.legend()"
   ]
  },
  {
   "cell_type": "markdown",
   "metadata": {},
   "source": [
    "### Lemmatize"
   ]
  },
  {
   "cell_type": "code",
   "execution_count": 118,
   "metadata": {},
   "outputs": [],
   "source": [
    "from nltk.stem import WordNetLemmatizer"
   ]
  },
  {
   "cell_type": "code",
   "execution_count": 119,
   "metadata": {},
   "outputs": [],
   "source": [
    "normalizer = WordNetLemmatizer()"
   ]
  },
  {
   "cell_type": "code",
   "execution_count": 120,
   "metadata": {},
   "outputs": [],
   "source": [
    "df_train_data_2 = df_train_data.copy()\n",
    "df_train_data_2['tweet'] = [' '.join([normalizer.lemmatize(word) for word in t.split()]) for t in df_train_data_2['tweet'].tolist()]\n",
    "X_train, X_validation, y_train, y_validation = train_test_split(df_train_data.tweet, df_train_data.target, test_size = 0.02, random_state = 1234)"
   ]
  },
  {
   "cell_type": "code",
   "execution_count": 134,
   "metadata": {},
   "outputs": [
    {
     "name": "stdout",
     "output_type": "stream",
     "text": [
      "MultinomialNB(alpha=1.0, class_prior=None, fit_prior=True)\n",
      "result on model with 10000 features\n",
      "model accuracy : 0.77\n",
      "model auc : 0.77\n",
      "train validation time : 61.62s\n",
      "=========================================================\n",
      "result on model with 20000 features\n",
      "model accuracy : 0.78\n",
      "model auc : 0.78\n",
      "train validation time : 60.82s\n",
      "=========================================================\n",
      "result on model with 30000 features\n",
      "model accuracy : 0.78\n",
      "model auc : 0.78\n",
      "train validation time : 60.77s\n",
      "=========================================================\n",
      "result on model with 40000 features\n",
      "model accuracy : 0.78\n",
      "model auc : 0.78\n",
      "train validation time : 61.48s\n",
      "=========================================================\n",
      "result on model with 50000 features\n",
      "model accuracy : 0.79\n",
      "model auc : 0.79\n",
      "train validation time : 60.92s\n",
      "=========================================================\n",
      "result on model with 60000 features\n",
      "model accuracy : 0.79\n",
      "model auc : 0.79\n",
      "train validation time : 62.44s\n",
      "=========================================================\n",
      "result on model with 70000 features\n",
      "model accuracy : 0.79\n",
      "model auc : 0.79\n",
      "train validation time : 61.14s\n",
      "=========================================================\n",
      "result on model with 80000 features\n",
      "model accuracy : 0.79\n",
      "model auc : 0.79\n",
      "train validation time : 61.72s\n",
      "=========================================================\n",
      "result on model with 90000 features\n",
      "model accuracy : 0.79\n",
      "model auc : 0.79\n",
      "train validation time : 61.33s\n",
      "=========================================================\n",
      "result on model with 100000 features\n",
      "model accuracy : 0.79\n",
      "model auc : 0.79\n",
      "train validation time : 64.99s\n",
      "=========================================================\n"
     ]
    }
   ],
   "source": [
    "res_trigram_lemma = compare_clf_nfeature(X_train, X_validation, y_train, y_validation, ngram_range=(1,3))"
   ]
  },
  {
   "cell_type": "markdown",
   "metadata": {},
   "source": [
    "### Stem"
   ]
  },
  {
   "cell_type": "code",
   "execution_count": 121,
   "metadata": {},
   "outputs": [],
   "source": [
    "from nltk.stem import PorterStemmer"
   ]
  },
  {
   "cell_type": "code",
   "execution_count": 135,
   "metadata": {},
   "outputs": [],
   "source": [
    "normalizer = PorterStemmer()"
   ]
  },
  {
   "cell_type": "code",
   "execution_count": 136,
   "metadata": {},
   "outputs": [],
   "source": [
    "df_train_data_2 = df_train_data.copy()\n",
    "df_train_data_2['tweet'] = [' '.join([normalizer.stem(word) for word in t.split()]) for t in df_train_data_2['tweet'].tolist()]\n",
    "X_train, X_validation, y_train, y_validation = train_test_split(df_train_data.tweet, df_train_data.target, test_size = 0.02, random_state = 1234)"
   ]
  },
  {
   "cell_type": "code",
   "execution_count": 141,
   "metadata": {},
   "outputs": [
    {
     "data": {
      "text/html": [
       "<div>\n",
       "<style scoped>\n",
       "    .dataframe tbody tr th:only-of-type {\n",
       "        vertical-align: middle;\n",
       "    }\n",
       "\n",
       "    .dataframe tbody tr th {\n",
       "        vertical-align: top;\n",
       "    }\n",
       "\n",
       "    .dataframe thead th {\n",
       "        text-align: right;\n",
       "    }\n",
       "</style>\n",
       "<table border=\"1\" class=\"dataframe\">\n",
       "  <thead>\n",
       "    <tr style=\"text-align: right;\">\n",
       "      <th></th>\n",
       "      <th>tweet</th>\n",
       "      <th>target</th>\n",
       "    </tr>\n",
       "  </thead>\n",
       "  <tbody>\n",
       "    <tr>\n",
       "      <th>563622</th>\n",
       "      <td>neveer think that you both will get on well wi...</td>\n",
       "      <td>1</td>\n",
       "    </tr>\n",
       "    <tr>\n",
       "      <th>563623</th>\n",
       "      <td>im glad ur do well</td>\n",
       "      <td>1</td>\n",
       "    </tr>\n",
       "    <tr>\n",
       "      <th>563624</th>\n",
       "      <td>wooooo xbox is back</td>\n",
       "      <td>1</td>\n",
       "    </tr>\n",
       "    <tr>\n",
       "      <th>563625</th>\n",
       "      <td>thewdb com veri cool to hear old walt interview</td>\n",
       "      <td>1</td>\n",
       "    </tr>\n",
       "    <tr>\n",
       "      <th>563626</th>\n",
       "      <td>are you readi for your mojo makeov ask me for ...</td>\n",
       "      <td>1</td>\n",
       "    </tr>\n",
       "  </tbody>\n",
       "</table>\n",
       "</div>"
      ],
      "text/plain": [
       "                                                    tweet  target\n",
       "563622  neveer think that you both will get on well wi...       1\n",
       "563623                                 im glad ur do well       1\n",
       "563624                                wooooo xbox is back       1\n",
       "563625    thewdb com veri cool to hear old walt interview       1\n",
       "563626  are you readi for your mojo makeov ask me for ...       1"
      ]
     },
     "execution_count": 141,
     "metadata": {},
     "output_type": "execute_result"
    }
   ],
   "source": [
    "df_train_data_2.tail()"
   ]
  },
  {
   "cell_type": "code",
   "execution_count": 137,
   "metadata": {},
   "outputs": [
    {
     "name": "stdout",
     "output_type": "stream",
     "text": [
      "MultinomialNB(alpha=1.0, class_prior=None, fit_prior=True)\n",
      "result on model with 10000 features\n",
      "model accuracy : 0.77\n",
      "model auc : 0.77\n",
      "train validation time : 61.75s\n",
      "=========================================================\n",
      "result on model with 20000 features\n",
      "model accuracy : 0.78\n",
      "model auc : 0.78\n",
      "train validation time : 62.42s\n",
      "=========================================================\n",
      "result on model with 30000 features\n",
      "model accuracy : 0.78\n",
      "model auc : 0.78\n",
      "train validation time : 60.77s\n",
      "=========================================================\n",
      "result on model with 40000 features\n",
      "model accuracy : 0.78\n",
      "model auc : 0.78\n",
      "train validation time : 60.96s\n",
      "=========================================================\n",
      "result on model with 50000 features\n",
      "model accuracy : 0.79\n",
      "model auc : 0.79\n",
      "train validation time : 61.25s\n",
      "=========================================================\n",
      "result on model with 60000 features\n",
      "model accuracy : 0.79\n",
      "model auc : 0.79\n",
      "train validation time : 61.16s\n",
      "=========================================================\n",
      "result on model with 70000 features\n",
      "model accuracy : 0.79\n",
      "model auc : 0.79\n",
      "train validation time : 65.32s\n",
      "=========================================================\n",
      "result on model with 80000 features\n",
      "model accuracy : 0.79\n",
      "model auc : 0.79\n",
      "train validation time : 61.91s\n",
      "=========================================================\n",
      "result on model with 90000 features\n",
      "model accuracy : 0.79\n",
      "model auc : 0.79\n",
      "train validation time : 60.87s\n",
      "=========================================================\n",
      "result on model with 100000 features\n",
      "model accuracy : 0.79\n",
      "model auc : 0.79\n",
      "train validation time : 60.81s\n",
      "=========================================================\n"
     ]
    }
   ],
   "source": [
    "res_trigram_stem = compare_clf_nfeature(X_train, X_validation, y_train, y_validation, ngram_range=(1,3))"
   ]
  },
  {
   "cell_type": "code",
   "execution_count": 138,
   "metadata": {},
   "outputs": [],
   "source": [
    "res_trigram_lemma = pd.DataFrame(res_trigram_lemma, columns=cols)\n",
    "res_trigram_stem = pd.DataFrame(res_trigram_stem, columns=cols)"
   ]
  },
  {
   "cell_type": "code",
   "execution_count": 139,
   "metadata": {},
   "outputs": [
    {
     "data": {
      "text/plain": [
       "<matplotlib.legend.Legend at 0x24e53101780>"
      ]
     },
     "execution_count": 139,
     "metadata": {},
     "output_type": "execute_result"
    },
    {
     "data": {
      "image/png": "[encoded data removed]",
      "text/plain": [
       "<Figure size 576x288 with 1 Axes>"
      ]
     },
     "metadata": {
      "needs_background": "light"
     },
     "output_type": "display_data"
    }
   ],
   "source": [
    "plt.figure(figsize=(8,4))\n",
    "plt.plot(res_trigram.n_features, res_trigram.val_acc, label='trigram')\n",
    "plt.plot(res_trigram_lemma.n_features, res_trigram_lemma.val_acc, label='lemmatized')\n",
    "plt.plot(res_trigram_stem.n_features, res_trigram_stem.val_acc, label='stemmed')\n",
    "plt.title(\"comparison of model performance (different normalization)\")\n",
    "plt.xlabel(\"num of features\")\n",
    "plt.ylabel(\"model validation accuracy\")\n",
    "plt.legend()"
   ]
  },
  {
   "cell_type": "markdown",
   "metadata": {},
   "source": [
    "### TfIdf"
   ]
  },
  {
   "cell_type": "code",
   "execution_count": 164,
   "metadata": {},
   "outputs": [
    {
     "name": "stdout",
     "output_type": "stream",
     "text": [
      "MultinomialNB(alpha=1.0, class_prior=None, fit_prior=True)\n",
      "result on model with 10000 features\n",
      "model accuracy : 0.77\n",
      "model auc : 0.77\n",
      "train validation time : 62.29s\n",
      "=========================================================\n",
      "result on model with 20000 features\n",
      "model accuracy : 0.78\n",
      "model auc : 0.78\n",
      "train validation time : 62.61s\n",
      "=========================================================\n",
      "result on model with 30000 features\n",
      "model accuracy : 0.78\n",
      "model auc : 0.78\n",
      "train validation time : 63.13s\n",
      "=========================================================\n",
      "result on model with 40000 features\n",
      "model accuracy : 0.79\n",
      "model auc : 0.79\n",
      "train validation time : 62.08s\n",
      "=========================================================\n",
      "result on model with 50000 features\n",
      "model accuracy : 0.79\n",
      "model auc : 0.79\n",
      "train validation time : 73.89s\n",
      "=========================================================\n",
      "result on model with 60000 features\n",
      "model accuracy : 0.79\n",
      "model auc : 0.79\n",
      "train validation time : 79.02s\n",
      "=========================================================\n",
      "result on model with 70000 features\n",
      "model accuracy : 0.79\n",
      "model auc : 0.79\n",
      "train validation time : 73.50s\n",
      "=========================================================\n",
      "result on model with 80000 features\n",
      "model accuracy : 0.79\n",
      "model auc : 0.79\n",
      "train validation time : 76.17s\n",
      "=========================================================\n",
      "result on model with 90000 features\n",
      "model accuracy : 0.79\n",
      "model auc : 0.79\n",
      "train validation time : 101.97s\n",
      "=========================================================\n",
      "result on model with 100000 features\n",
      "model accuracy : 0.79\n",
      "model auc : 0.79\n",
      "train validation time : 82.87s\n",
      "=========================================================\n"
     ]
    }
   ],
   "source": [
    "X_train, X_validation, y_train, y_validation = train_test_split(df_train_data.tweet, df_train_data.target, test_size = 0.02, random_state = 1234)\n",
    "tf_vectorizer = TfidfVectorizer()\n",
    "res_tfidf_trigram = compare_clf_nfeature(X_train, X_validation, y_train, y_validation, ngram_range=(1,3), vectorizer=tf_vectorizer)"
   ]
  },
  {
   "cell_type": "code",
   "execution_count": 165,
   "metadata": {},
   "outputs": [
    {
     "name": "stdout",
     "output_type": "stream",
     "text": [
      "MultinomialNB(alpha=1.0, class_prior=None, fit_prior=True)\n",
      "result on model with 10000 features\n",
      "model accuracy : 0.78\n",
      "model auc : 0.78\n",
      "train validation time : 44.23s\n",
      "=========================================================\n",
      "result on model with 20000 features\n",
      "model accuracy : 0.78\n",
      "model auc : 0.78\n",
      "train validation time : 48.16s\n",
      "=========================================================\n",
      "result on model with 30000 features\n",
      "model accuracy : 0.78\n",
      "model auc : 0.78\n",
      "train validation time : 39.36s\n",
      "=========================================================\n",
      "result on model with 40000 features\n",
      "model accuracy : 0.79\n",
      "model auc : 0.79\n",
      "train validation time : 39.97s\n",
      "=========================================================\n",
      "result on model with 50000 features\n",
      "model accuracy : 0.79\n",
      "model auc : 0.79\n",
      "train validation time : 43.82s\n",
      "=========================================================\n",
      "result on model with 60000 features\n",
      "model accuracy : 0.79\n",
      "model auc : 0.79\n",
      "train validation time : 42.67s\n",
      "=========================================================\n",
      "result on model with 70000 features\n",
      "model accuracy : 0.79\n",
      "model auc : 0.79\n",
      "train validation time : 41.87s\n",
      "=========================================================\n",
      "result on model with 80000 features\n",
      "model accuracy : 0.79\n",
      "model auc : 0.79\n",
      "train validation time : 42.38s\n",
      "=========================================================\n",
      "result on model with 90000 features\n",
      "model accuracy : 0.79\n",
      "model auc : 0.79\n",
      "train validation time : 41.92s\n",
      "=========================================================\n",
      "result on model with 100000 features\n",
      "model accuracy : 0.79\n",
      "model auc : 0.79\n",
      "train validation time : 42.21s\n",
      "=========================================================\n"
     ]
    }
   ],
   "source": [
    "res_tfidf_bigram = compare_clf_nfeature(X_train, X_validation, y_train, y_validation, ngram_range=(1,2), vectorizer=tf_vectorizer)"
   ]
  },
  {
   "cell_type": "code",
   "execution_count": 166,
   "metadata": {},
   "outputs": [
    {
     "name": "stdout",
     "output_type": "stream",
     "text": [
      "MultinomialNB(alpha=1.0, class_prior=None, fit_prior=True)\n",
      "result on model with 10000 features\n",
      "model accuracy : 0.76\n",
      "model auc : 0.76\n",
      "train validation time : 14.77s\n",
      "=========================================================\n",
      "result on model with 20000 features\n",
      "model accuracy : 0.76\n",
      "model auc : 0.76\n",
      "train validation time : 14.33s\n",
      "=========================================================\n",
      "result on model with 30000 features\n",
      "model accuracy : 0.76\n",
      "model auc : 0.76\n",
      "train validation time : 16.02s\n",
      "=========================================================\n",
      "result on model with 40000 features\n",
      "model accuracy : 0.76\n",
      "model auc : 0.76\n",
      "train validation time : 15.08s\n",
      "=========================================================\n",
      "result on model with 50000 features\n",
      "model accuracy : 0.76\n",
      "model auc : 0.76\n",
      "train validation time : 14.57s\n",
      "=========================================================\n",
      "result on model with 60000 features\n",
      "model accuracy : 0.76\n",
      "model auc : 0.76\n",
      "train validation time : 14.62s\n",
      "=========================================================\n",
      "result on model with 70000 features\n",
      "model accuracy : 0.76\n",
      "model auc : 0.76\n",
      "train validation time : 15.12s\n",
      "=========================================================\n",
      "result on model with 80000 features\n",
      "model accuracy : 0.76\n",
      "model auc : 0.76\n",
      "train validation time : 14.61s\n",
      "=========================================================\n",
      "result on model with 90000 features\n",
      "model accuracy : 0.76\n",
      "model auc : 0.76\n",
      "train validation time : 14.82s\n",
      "=========================================================\n",
      "result on model with 100000 features\n",
      "model accuracy : 0.76\n",
      "model auc : 0.76\n",
      "train validation time : 14.61s\n",
      "=========================================================\n"
     ]
    }
   ],
   "source": [
    "res_tfidf_unigram = compare_clf_nfeature(X_train, X_validation, y_train, y_validation, ngram_range=(1,1), vectorizer=tf_vectorizer)"
   ]
  },
  {
   "cell_type": "code",
   "execution_count": 167,
   "metadata": {},
   "outputs": [],
   "source": [
    "res_tfidf_unigram = pd.DataFrame(res_tfidf_unigram, columns=cols)\n",
    "res_tfidf_bigram = pd.DataFrame(res_tfidf_bigram, columns=cols)\n",
    "res_tfidf_trigram = pd.DataFrame(res_tfidf_trigram, columns=cols)"
   ]
  },
  {
   "cell_type": "code",
   "execution_count": 168,
   "metadata": {},
   "outputs": [
    {
     "data": {
      "text/plain": [
       "<matplotlib.legend.Legend at 0x24e39f50860>"
      ]
     },
     "execution_count": 168,
     "metadata": {},
     "output_type": "execute_result"
    },
    {
     "data": {
      "image/png": "[encoded data removed]",
      "text/plain": [
       "<Figure size 576x288 with 1 Axes>"
      ]
     },
     "metadata": {
      "needs_background": "light"
     },
     "output_type": "display_data"
    }
   ],
   "source": [
    "plt.figure(figsize=(8,4))\n",
    "plt.plot(res_w_sw.n_features, res_w_sw.val_acc, label='unigram')\n",
    "plt.plot(res_bigram.n_features, res_bigram.val_acc, label='bigram')\n",
    "plt.plot(res_trigram.n_features, res_trigram.val_acc, label='trigram')\n",
    "plt.plot(res_tfidf_unigram.n_features, res_tfidf_unigram.val_acc, label='unigram tfidf', linestyle=':')\n",
    "plt.plot(res_tfidf_bigram.n_features, res_tfidf_bigram.val_acc, label='bigram tfidf', linestyle=':')\n",
    "plt.plot(res_tfidf_trigram.n_features, res_tfidf_trigram.val_acc, label='trigram tfidf', linestyle=':')\n",
    "plt.title(\"comparison of model performance (n-gram)\")\n",
    "plt.xlabel(\"num of features\")\n",
    "plt.ylabel(\"model validation accuracy\")\n",
    "plt.legend()"
   ]
  },
  {
   "cell_type": "markdown",
   "metadata": {},
   "source": [
    "### Final NB Model"
   ]
  },
  {
   "cell_type": "code",
   "execution_count": 5,
   "metadata": {},
   "outputs": [],
   "source": [
    "def plot_cm(cm):\n",
    "    labels = ['negative', 'positive']\n",
    "    fig = plt.figure()\n",
    "    ax = fig.add_subplot(111)\n",
    "    cax = ax.matshow(cm)\n",
    "    plt.title('Confusion matrix of the sentiment analysis')\n",
    "    fig.colorbar(cax)\n",
    "    ax.set_xticklabels([''] + labels)\n",
    "    ax.set_yticklabels([''] + labels)\n",
    "    plt.xlabel('Predicted')\n",
    "    plt.ylabel('True')\n",
    "    plt.show()"
   ]
  },
  {
   "cell_type": "markdown",
   "metadata": {},
   "source": [
    "#### Count"
   ]
  },
  {
   "cell_type": "code",
   "execution_count": 144,
   "metadata": {},
   "outputs": [],
   "source": [
    "X_train, y_train = df_train_data.tweet, df_train_data.target\n",
    "X_test, y_test = df_test_data.tweet, df_test_data.target"
   ]
  },
  {
   "cell_type": "code",
   "execution_count": 145,
   "metadata": {},
   "outputs": [],
   "source": [
    "clf = MultinomialNB()\n",
    "vectorizer = CountVectorizer(ngram_range=(1,3), max_features=90000)\n",
    "X_train = vectorizer.fit_transform(X_train)\n",
    "X_test = vectorizer.transform(X_test)"
   ]
  },
  {
   "cell_type": "code",
   "execution_count": 146,
   "metadata": {},
   "outputs": [
    {
     "name": "stdout",
     "output_type": "stream",
     "text": [
      "0.795963\n",
      "[[398094 101906]\n",
      " [102131 397869]]\n"
     ]
    }
   ],
   "source": [
    "clf.fit(X_train, y_train)\n",
    "y_pred = clf.predict(X_test)\n",
    "\n",
    "acc_score = accuracy_score(y_test, y_pred)\n",
    "cm = confusion_matrix(y_test, y_pred)\n",
    "\n",
    "print(acc_score)\n",
    "print(cm)"
   ]
  },
  {
   "cell_type": "code",
   "execution_count": 152,
   "metadata": {},
   "outputs": [
    {
     "data": {
      "text/plain": [
       "0.795738"
      ]
     },
     "execution_count": 152,
     "metadata": {},
     "output_type": "execute_result"
    }
   ],
   "source": [
    "397869 / (397869 + 102131 )"
   ]
  },
  {
   "cell_type": "code",
   "execution_count": 154,
   "metadata": {},
   "outputs": [
    {
     "name": "stdout",
     "output_type": "stream",
     "text": [
      "              precision    recall  f1-score   support\n",
      "\n",
      "           0     0.7958    0.7962    0.7960    500000\n",
      "           1     0.7961    0.7957    0.7959    500000\n",
      "\n",
      "   micro avg     0.7960    0.7960    0.7960   1000000\n",
      "   macro avg     0.7960    0.7960    0.7960   1000000\n",
      "weighted avg     0.7960    0.7960    0.7960   1000000\n",
      "\n"
     ]
    },
    {
     "data": {
      "image/png": "[encoded data removed]",
      "text/plain": [
       "<Figure size 432x288 with 1 Axes>"
      ]
     },
     "metadata": {
      "needs_background": "light"
     },
     "output_type": "display_data"
    },
    {
     "data": {
      "image/png": "[encoded data removed]",
      "text/plain": [
       "<Figure size 432x288 with 2 Axes>"
      ]
     },
     "metadata": {
      "needs_background": "light"
     },
     "output_type": "display_data"
    }
   ],
   "source": [
    "print(classification_report(y_test, y_pred, digits=4))\n",
    "fpr = dict()\n",
    "tpr = dict()\n",
    "roc_auc = dict()\n",
    "\n",
    "fpr, tpr, _ = roc_curve(y_test, y_pred, pos_label=1)\n",
    "roc_auc = auc(fpr, tpr)\n",
    "\n",
    "plt.figure()\n",
    "lw = 2\n",
    "plt.plot(fpr, tpr, color='darkorange',\n",
    "         lw=lw, label='ROC curve (area = %0.2f)' % roc_auc)\n",
    "plt.plot([0, 1], [0, 1], color='navy', lw=lw, linestyle='--')\n",
    "plt.xlim([0.0, 1.0])\n",
    "plt.ylim([0.0, 1.05])\n",
    "plt.xlabel('False Positive Rate')\n",
    "plt.ylabel('True Positive Rate')\n",
    "plt.title('Receiver operating characteristic example')\n",
    "plt.legend(loc=\"lower right\")\n",
    "plt.show()\n",
    "\n",
    "plot_cm(cm)"
   ]
  },
  {
   "cell_type": "markdown",
   "metadata": {},
   "source": [
    "#### TF-Idf"
   ]
  },
  {
   "cell_type": "code",
   "execution_count": 169,
   "metadata": {},
   "outputs": [
    {
     "name": "stdout",
     "output_type": "stream",
     "text": [
      "0.797387\n",
      "[[400050  99950]\n",
      " [102663 397337]]\n",
      "              precision    recall  f1-score   support\n",
      "\n",
      "           0     0.7958    0.8001    0.7979    500000\n",
      "           1     0.7990    0.7947    0.7968    500000\n",
      "\n",
      "   micro avg     0.7974    0.7974    0.7974   1000000\n",
      "   macro avg     0.7974    0.7974    0.7974   1000000\n",
      "weighted avg     0.7974    0.7974    0.7974   1000000\n",
      "\n"
     ]
    },
    {
     "data": {
      "image/png": "[encoded data removed]",
      "text/plain": [
       "<Figure size 432x288 with 1 Axes>"
      ]
     },
     "metadata": {
      "needs_background": "light"
     },
     "output_type": "display_data"
    },
    {
     "data": {
      "image/png": "[encoded data removed]",
      "text/plain": [
       "<Figure size 432x288 with 2 Axes>"
      ]
     },
     "metadata": {
      "needs_background": "light"
     },
     "output_type": "display_data"
    }
   ],
   "source": [
    "X_train, y_train = df_train_data.tweet, df_train_data.target\n",
    "X_test, y_test = df_test_data.tweet, df_test_data.target\n",
    "clf = MultinomialNB()\n",
    "tf_vectorizer = TfidfVectorizer(ngram_range=(1,3), max_features=90000)\n",
    "X_train = tf_vectorizer.fit_transform(X_train)\n",
    "X_test = tf_vectorizer.transform(X_test)\n",
    "\n",
    "clf.fit(X_train, y_train)\n",
    "y_pred = clf.predict(X_test)\n",
    "\n",
    "acc_score = accuracy_score(y_test, y_pred)\n",
    "cm = confusion_matrix(y_test, y_pred)\n",
    "\n",
    "print(acc_score)\n",
    "print(cm)\n",
    "\n",
    "print(classification_report(y_test, y_pred, digits=4))\n",
    "fpr = dict()\n",
    "tpr = dict()\n",
    "roc_auc = dict()\n",
    "\n",
    "fpr, tpr, _ = roc_curve(y_test, y_pred, pos_label=1)\n",
    "roc_auc = auc(fpr, tpr)\n",
    "\n",
    "plt.figure()\n",
    "lw = 2\n",
    "plt.plot(fpr, tpr, color='darkorange',\n",
    "         lw=lw, label='ROC curve (area = %0.2f)' % roc_auc)\n",
    "plt.plot([0, 1], [0, 1], color='navy', lw=lw, linestyle='--')\n",
    "plt.xlim([0.0, 1.0])\n",
    "plt.ylim([0.0, 1.05])\n",
    "plt.xlabel('False Positive Rate')\n",
    "plt.ylabel('True Positive Rate')\n",
    "plt.title('Receiver operating characteristic example')\n",
    "plt.legend(loc=\"lower right\")\n",
    "plt.show()\n",
    "\n",
    "plot_cm(cm)"
   ]
  },
  {
   "cell_type": "markdown",
   "metadata": {},
   "source": [
    "### Final Model SVM"
   ]
  },
  {
   "cell_type": "code",
   "execution_count": 6,
   "metadata": {},
   "outputs": [],
   "source": [
    "def plot_auc(label, prediction):\n",
    "    fpr = dict()\n",
    "    tpr = dict()\n",
    "    roc_auc = dict()\n",
    "\n",
    "    fpr, tpr, _ = roc_curve(label, prediction, pos_label=1)\n",
    "    roc_auc = auc(fpr, tpr)\n",
    "\n",
    "    plt.figure()\n",
    "    lw = 2\n",
    "    plt.plot(fpr, tpr, color='darkorange',\n",
    "             lw=lw, label='ROC curve (area = %0.2f)' % roc_auc)\n",
    "    plt.plot([0, 1], [0, 1], color='navy', lw=lw, linestyle='--')\n",
    "    plt.xlim([0.0, 1.0])\n",
    "    plt.ylim([0.0, 1.05])\n",
    "    plt.xlabel('False Positive Rate')\n",
    "    plt.ylabel('True Positive Rate')\n",
    "    plt.title('Receiver operating characteristic example')\n",
    "    plt.legend(loc=\"lower right\")\n",
    "    plt.show()"
   ]
  },
  {
   "cell_type": "code",
   "execution_count": 28,
   "metadata": {},
   "outputs": [],
   "source": [
    "def sentiment_svm(train, test, C, frac = 1, max_features = None, kernel='linear', ngram_range=(1,3), gamma=0):\n",
    "    X_train, y_train = train.sample(frac=frac, random_state=1234).tweet, train.sample(frac=frac, random_state=1234).target\n",
    "    X_test, y_test = test.sample(frac=frac, random_state=1234).tweet, test.sample(frac=frac, random_state=1234).target\n",
    "\n",
    "    tf_vectorizer = TfidfVectorizer(ngram_range=ngram_range, max_features=max_features)\n",
    "    X_train = tf_vectorizer.fit_transform(X_train)\n",
    "    X_test = tf_vectorizer.transform(X_test)\n",
    "\n",
    "    #svd = TruncatedSVD(n_components=10)\n",
    "    #X_train = svd.fit_transform(X_train)\n",
    "    #X_test = svd.transform(X_test)\n",
    "    \n",
    "    if kernel == 'linear':\n",
    "        svm = LinearSVC(C=C)\n",
    "    else:\n",
    "        svm = SVC(C=C, gamma=gamma)\n",
    "        \n",
    "    print(svm)    \n",
    "    \n",
    "    t0 = time()\n",
    "    svm.fit(X_train, y_train)\n",
    "    train_test_time = time() - t0\n",
    "    print(\"training time: {0:.2f}s\".format(train_test_time))\n",
    "    \n",
    "    y_pred = svm.predict(X_test)\n",
    "\n",
    "    acc_score = accuracy_score(y_test, y_pred)\n",
    "    cm = confusion_matrix(y_test, y_pred)\n",
    "    print(\"Model accuracy = {0:.3f}%\".format(acc_score*100))\n",
    "    print(classification_report(y_test, y_pred, digits=4))\n",
    "\n",
    "    plot_auc(y_test, y_pred)\n",
    "    plot_cm(cm)"
   ]
  },
  {
   "cell_type": "code",
   "execution_count": 29,
   "metadata": {},
   "outputs": [
    {
     "name": "stdout",
     "output_type": "stream",
     "text": [
      "LinearSVC(C=0.5, class_weight=None, dual=True, fit_intercept=True,\n",
      "     intercept_scaling=1, loss='squared_hinge', max_iter=1000,\n",
      "     multi_class='ovr', penalty='l2', random_state=None, tol=0.0001,\n",
      "     verbose=0)\n",
      "training time: 144.73s\n",
      "Model accuracy = 82.026%\n",
      "              precision    recall  f1-score   support\n",
      "\n",
      "           0     0.8093    0.8380    0.8234    500000\n",
      "           1     0.8320    0.8025    0.8170    500000\n",
      "\n",
      "   micro avg     0.8203    0.8203    0.8203   1000000\n",
      "   macro avg     0.8207    0.8203    0.8202   1000000\n",
      "weighted avg     0.8207    0.8203    0.8202   1000000\n",
      "\n"
     ]
    },
    {
     "data": {
      "image/png": "[encoded data removed]",
      "text/plain": [
       "<Figure size 432x288 with 1 Axes>"
      ]
     },
     "metadata": {
      "needs_background": "light"
     },
     "output_type": "display_data"
    },
    {
     "data": {
      "image/png": "[encoded data removed]",
      "text/plain": [
       "<Figure size 432x288 with 2 Axes>"
      ]
     },
     "metadata": {
      "needs_background": "light"
     },
     "output_type": "display_data"
    }
   ],
   "source": [
    "sentiment_svm(df_train_data, df_test_data, 0.5)"
   ]
  },
  {
   "cell_type": "code",
   "execution_count": 13,
   "metadata": {},
   "outputs": [
    {
     "name": "stdout",
     "output_type": "stream",
     "text": [
      "SVC(C=10, cache_size=200, class_weight=None, coef0=0.0,\n",
      "  decision_function_shape='ovr', degree=3, gamma=0.1, kernel='rbf',\n",
      "  max_iter=-1, probability=False, random_state=None, shrinking=True,\n",
      "  tol=0.001, verbose=False)\n",
      "Model accuracy = 77.604%\n",
      "              precision    recall  f1-score   support\n",
      "\n",
      "           0     0.7606    0.8090    0.7841     25129\n",
      "           1     0.7938    0.7427    0.7674     24871\n",
      "\n",
      "   micro avg     0.7760    0.7760    0.7760     50000\n",
      "   macro avg     0.7772    0.7759    0.7757     50000\n",
      "weighted avg     0.7771    0.7760    0.7758     50000\n",
      "\n"
     ]
    },
    {
     "data": {
      "image/png": "[encoded data removed]",
      "text/plain": [
       "<Figure size 432x288 with 1 Axes>"
      ]
     },
     "metadata": {
      "needs_background": "light"
     },
     "output_type": "display_data"
    },
    {
     "data": {
      "image/png": "[encoded data removed]",
      "text/plain": [
       "<Figure size 432x288 with 2 Axes>"
      ]
     },
     "metadata": {
      "needs_background": "light"
     },
     "output_type": "display_data"
    }
   ],
   "source": [
    "sentiment_svm(df_train_data, df_test_data, C=10, frac=0.05, kernel='rbf', gamma=0.1)"
   ]
  },
  {
   "cell_type": "code",
   "execution_count": 25,
   "metadata": {},
   "outputs": [
    {
     "name": "stdout",
     "output_type": "stream",
     "text": [
      "SVC(C=10, cache_size=200, class_weight=None, coef0=0.0,\n",
      "  decision_function_shape='ovr', degree=3, gamma=0.1, kernel='rbf',\n",
      "  max_iter=-1, probability=False, random_state=None, shrinking=True,\n",
      "  tol=0.001, verbose=False)\n",
      "Model accuracy = 60.915%\n",
      "              precision    recall  f1-score   support\n",
      "\n",
      "           0     0.6093    0.6099    0.6096     50036\n",
      "           1     0.6090    0.6084    0.6087     49964\n",
      "\n",
      "   micro avg     0.6091    0.6091    0.6091    100000\n",
      "   macro avg     0.6091    0.6091    0.6091    100000\n",
      "weighted avg     0.6091    0.6091    0.6091    100000\n",
      "\n"
     ]
    },
    {
     "data": {
      "image/png": "[encoded data removed]",
      "text/plain": [
       "<Figure size 432x288 with 1 Axes>"
      ]
     },
     "metadata": {
      "needs_background": "light"
     },
     "output_type": "display_data"
    },
    {
     "data": {
      "image/png": "[encoded data removed]",
      "text/plain": [
       "<Figure size 432x288 with 2 Axes>"
      ]
     },
     "metadata": {
      "needs_background": "light"
     },
     "output_type": "display_data"
    }
   ],
   "source": [
    "sentiment_svm(df_train_data, df_test_data, C=10, frac=0.1, kernel='rbf', gamma=0.1)"
   ]
  },
  {
   "cell_type": "markdown",
   "metadata": {},
   "source": [
    "### Neural Net Model"
   ]
  },
  {
   "cell_type": "code",
   "execution_count": 12,
   "metadata": {},
   "outputs": [],
   "source": [
    "import torch\n",
    "from torchtext import data\n",
    "from torchtext import datasets"
   ]
  },
  {
   "cell_type": "code",
   "execution_count": 11,
   "metadata": {},
   "outputs": [],
   "source": [
    "SEED = 1234\n",
    "torch.manual_seed(SEED)\n",
    "torch.cuda.manual_seed(SEED)\n",
    "torch.backends.cudnn.deterministic = True\n",
    "\n",
    "TEXT = data.Field(tokenize='spacy')\n",
    "LABEL = data.LabelField(dtype=torch.float)"
   ]
  },
  {
   "cell_type": "code",
   "execution_count": 13,
   "metadata": {},
   "outputs": [
    {
     "name": "stdout",
     "output_type": "stream",
     "text": [
      "downloading aclImdb_v1.tar.gz\n"
     ]
    },
    {
     "name": "stderr",
     "output_type": "stream",
     "text": [
      ".data\\imdb\\aclImdb_v1.tar.gz: 100%|███████████████████████████████████████████████| 84.1M/84.1M [01:14<00:00, 1.13MB/s]\n"
     ]
    },
    {
     "ename": "KeyboardInterrupt",
     "evalue": "",
     "output_type": "error",
     "traceback": [
      "\u001b[1;31m---------------------------------------------------------------------------\u001b[0m",
      "\u001b[1;31mKeyboardInterrupt\u001b[0m                         Traceback (most recent call last)",
      "\u001b[1;32m<ipython-input-13-fefa5a4f01c8>\u001b[0m in \u001b[0;36m<module>\u001b[1;34m\u001b[0m\n\u001b[1;32m----> 1\u001b[1;33m \u001b[0mtrain_data\u001b[0m\u001b[1;33m,\u001b[0m \u001b[0mtest_data\u001b[0m \u001b[1;33m=\u001b[0m \u001b[0mdatasets\u001b[0m\u001b[1;33m.\u001b[0m\u001b[0mIMDB\u001b[0m\u001b[1;33m.\u001b[0m\u001b[0msplits\u001b[0m\u001b[1;33m(\u001b[0m\u001b[0mTEXT\u001b[0m\u001b[1;33m,\u001b[0m \u001b[0mLABEL\u001b[0m\u001b[1;33m)\u001b[0m\u001b[1;33m\u001b[0m\u001b[1;33m\u001b[0m\u001b[0m\n\u001b[0m",
      "\u001b[1;32mE:\\Anaconda\\Anaconda3\\envs\\machine_learning\\lib\\site-packages\\torchtext\\datasets\\imdb.py\u001b[0m in \u001b[0;36msplits\u001b[1;34m(cls, text_field, label_field, root, train, test, **kwargs)\u001b[0m\n\u001b[0;32m     53\u001b[0m         return super(IMDB, cls).splits(\n\u001b[0;32m     54\u001b[0m             \u001b[0mroot\u001b[0m\u001b[1;33m=\u001b[0m\u001b[0mroot\u001b[0m\u001b[1;33m,\u001b[0m \u001b[0mtext_field\u001b[0m\u001b[1;33m=\u001b[0m\u001b[0mtext_field\u001b[0m\u001b[1;33m,\u001b[0m \u001b[0mlabel_field\u001b[0m\u001b[1;33m=\u001b[0m\u001b[0mlabel_field\u001b[0m\u001b[1;33m,\u001b[0m\u001b[1;33m\u001b[0m\u001b[1;33m\u001b[0m\u001b[0m\n\u001b[1;32m---> 55\u001b[1;33m             train=train, validation=None, test=test, **kwargs)\n\u001b[0m\u001b[0;32m     56\u001b[0m \u001b[1;33m\u001b[0m\u001b[0m\n\u001b[0;32m     57\u001b[0m     \u001b[1;33m@\u001b[0m\u001b[0mclassmethod\u001b[0m\u001b[1;33m\u001b[0m\u001b[1;33m\u001b[0m\u001b[0m\n",
      "\u001b[1;32mE:\\Anaconda\\Anaconda3\\envs\\machine_learning\\lib\\site-packages\\torchtext\\data\\dataset.py\u001b[0m in \u001b[0;36msplits\u001b[1;34m(cls, path, root, train, validation, test, **kwargs)\u001b[0m\n\u001b[0;32m     74\u001b[0m         \"\"\"\n\u001b[0;32m     75\u001b[0m         \u001b[1;32mif\u001b[0m \u001b[0mpath\u001b[0m \u001b[1;32mis\u001b[0m \u001b[1;32mNone\u001b[0m\u001b[1;33m:\u001b[0m\u001b[1;33m\u001b[0m\u001b[1;33m\u001b[0m\u001b[0m\n\u001b[1;32m---> 76\u001b[1;33m             \u001b[0mpath\u001b[0m \u001b[1;33m=\u001b[0m \u001b[0mcls\u001b[0m\u001b[1;33m.\u001b[0m\u001b[0mdownload\u001b[0m\u001b[1;33m(\u001b[0m\u001b[0mroot\u001b[0m\u001b[1;33m)\u001b[0m\u001b[1;33m\u001b[0m\u001b[1;33m\u001b[0m\u001b[0m\n\u001b[0m\u001b[0;32m     77\u001b[0m         train_data = None if train is None else cls(\n\u001b[0;32m     78\u001b[0m             os.path.join(path, train), **kwargs)\n",
      "\u001b[1;32mE:\\Anaconda\\Anaconda3\\envs\\machine_learning\\lib\\site-packages\\torchtext\\data\\dataset.py\u001b[0m in \u001b[0;36mdownload\u001b[1;34m(cls, root, check)\u001b[0m\n\u001b[0;32m    191\u001b[0m                     \u001b[1;32mwith\u001b[0m \u001b[0mtarfile\u001b[0m\u001b[1;33m.\u001b[0m\u001b[0mopen\u001b[0m\u001b[1;33m(\u001b[0m\u001b[0mzpath\u001b[0m\u001b[1;33m,\u001b[0m \u001b[1;34m'r:gz'\u001b[0m\u001b[1;33m)\u001b[0m \u001b[1;32mas\u001b[0m \u001b[0mtar\u001b[0m\u001b[1;33m:\u001b[0m\u001b[1;33m\u001b[0m\u001b[1;33m\u001b[0m\u001b[0m\n\u001b[0;32m    192\u001b[0m                         \u001b[0mdirs\u001b[0m \u001b[1;33m=\u001b[0m \u001b[1;33m[\u001b[0m\u001b[0mmember\u001b[0m \u001b[1;32mfor\u001b[0m \u001b[0mmember\u001b[0m \u001b[1;32min\u001b[0m \u001b[0mtar\u001b[0m\u001b[1;33m.\u001b[0m\u001b[0mgetmembers\u001b[0m\u001b[1;33m(\u001b[0m\u001b[1;33m)\u001b[0m\u001b[1;33m]\u001b[0m\u001b[1;33m\u001b[0m\u001b[1;33m\u001b[0m\u001b[0m\n\u001b[1;32m--> 193\u001b[1;33m                         \u001b[0mtar\u001b[0m\u001b[1;33m.\u001b[0m\u001b[0mextractall\u001b[0m\u001b[1;33m(\u001b[0m\u001b[0mpath\u001b[0m\u001b[1;33m=\u001b[0m\u001b[0mpath\u001b[0m\u001b[1;33m,\u001b[0m \u001b[0mmembers\u001b[0m\u001b[1;33m=\u001b[0m\u001b[0mdirs\u001b[0m\u001b[1;33m)\u001b[0m\u001b[1;33m\u001b[0m\u001b[1;33m\u001b[0m\u001b[0m\n\u001b[0m\u001b[0;32m    194\u001b[0m                 \u001b[1;32melif\u001b[0m \u001b[0mext\u001b[0m \u001b[1;33m==\u001b[0m \u001b[1;34m'.gz'\u001b[0m\u001b[1;33m:\u001b[0m\u001b[1;33m\u001b[0m\u001b[1;33m\u001b[0m\u001b[0m\n\u001b[0;32m    195\u001b[0m                     \u001b[1;32mwith\u001b[0m \u001b[0mgzip\u001b[0m\u001b[1;33m.\u001b[0m\u001b[0mopen\u001b[0m\u001b[1;33m(\u001b[0m\u001b[0mzpath\u001b[0m\u001b[1;33m,\u001b[0m \u001b[1;34m'rb'\u001b[0m\u001b[1;33m)\u001b[0m \u001b[1;32mas\u001b[0m \u001b[0mgz\u001b[0m\u001b[1;33m:\u001b[0m\u001b[1;33m\u001b[0m\u001b[1;33m\u001b[0m\u001b[0m\n",
      "\u001b[1;32mE:\\Anaconda\\Anaconda3\\envs\\machine_learning\\lib\\tarfile.py\u001b[0m in \u001b[0;36mextractall\u001b[1;34m(self, path, members, numeric_owner)\u001b[0m\n\u001b[0;32m   2008\u001b[0m             \u001b[1;31m# Do not set_attrs directories, as we will do that further down\u001b[0m\u001b[1;33m\u001b[0m\u001b[1;33m\u001b[0m\u001b[1;33m\u001b[0m\u001b[0m\n\u001b[0;32m   2009\u001b[0m             self.extract(tarinfo, path, set_attrs=not tarinfo.isdir(),\n\u001b[1;32m-> 2010\u001b[1;33m                          numeric_owner=numeric_owner)\n\u001b[0m\u001b[0;32m   2011\u001b[0m \u001b[1;33m\u001b[0m\u001b[0m\n\u001b[0;32m   2012\u001b[0m         \u001b[1;31m# Reverse sort directories.\u001b[0m\u001b[1;33m\u001b[0m\u001b[1;33m\u001b[0m\u001b[1;33m\u001b[0m\u001b[0m\n",
      "\u001b[1;32mE:\\Anaconda\\Anaconda3\\envs\\machine_learning\\lib\\tarfile.py\u001b[0m in \u001b[0;36mextract\u001b[1;34m(self, member, path, set_attrs, numeric_owner)\u001b[0m\n\u001b[0;32m   2050\u001b[0m             self._extract_member(tarinfo, os.path.join(path, tarinfo.name),\n\u001b[0;32m   2051\u001b[0m                                  \u001b[0mset_attrs\u001b[0m\u001b[1;33m=\u001b[0m\u001b[0mset_attrs\u001b[0m\u001b[1;33m,\u001b[0m\u001b[1;33m\u001b[0m\u001b[1;33m\u001b[0m\u001b[0m\n\u001b[1;32m-> 2052\u001b[1;33m                                  numeric_owner=numeric_owner)\n\u001b[0m\u001b[0;32m   2053\u001b[0m         \u001b[1;32mexcept\u001b[0m \u001b[0mOSError\u001b[0m \u001b[1;32mas\u001b[0m \u001b[0me\u001b[0m\u001b[1;33m:\u001b[0m\u001b[1;33m\u001b[0m\u001b[1;33m\u001b[0m\u001b[0m\n\u001b[0;32m   2054\u001b[0m             \u001b[1;32mif\u001b[0m \u001b[0mself\u001b[0m\u001b[1;33m.\u001b[0m\u001b[0merrorlevel\u001b[0m \u001b[1;33m>\u001b[0m \u001b[1;36m0\u001b[0m\u001b[1;33m:\u001b[0m\u001b[1;33m\u001b[0m\u001b[1;33m\u001b[0m\u001b[0m\n",
      "\u001b[1;32mE:\\Anaconda\\Anaconda3\\envs\\machine_learning\\lib\\tarfile.py\u001b[0m in \u001b[0;36m_extract_member\u001b[1;34m(self, tarinfo, targetpath, set_attrs, numeric_owner)\u001b[0m\n\u001b[0;32m   2120\u001b[0m \u001b[1;33m\u001b[0m\u001b[0m\n\u001b[0;32m   2121\u001b[0m         \u001b[1;32mif\u001b[0m \u001b[0mtarinfo\u001b[0m\u001b[1;33m.\u001b[0m\u001b[0misreg\u001b[0m\u001b[1;33m(\u001b[0m\u001b[1;33m)\u001b[0m\u001b[1;33m:\u001b[0m\u001b[1;33m\u001b[0m\u001b[1;33m\u001b[0m\u001b[0m\n\u001b[1;32m-> 2122\u001b[1;33m             \u001b[0mself\u001b[0m\u001b[1;33m.\u001b[0m\u001b[0mmakefile\u001b[0m\u001b[1;33m(\u001b[0m\u001b[0mtarinfo\u001b[0m\u001b[1;33m,\u001b[0m \u001b[0mtargetpath\u001b[0m\u001b[1;33m)\u001b[0m\u001b[1;33m\u001b[0m\u001b[1;33m\u001b[0m\u001b[0m\n\u001b[0m\u001b[0;32m   2123\u001b[0m         \u001b[1;32melif\u001b[0m \u001b[0mtarinfo\u001b[0m\u001b[1;33m.\u001b[0m\u001b[0misdir\u001b[0m\u001b[1;33m(\u001b[0m\u001b[1;33m)\u001b[0m\u001b[1;33m:\u001b[0m\u001b[1;33m\u001b[0m\u001b[1;33m\u001b[0m\u001b[0m\n\u001b[0;32m   2124\u001b[0m             \u001b[0mself\u001b[0m\u001b[1;33m.\u001b[0m\u001b[0mmakedir\u001b[0m\u001b[1;33m(\u001b[0m\u001b[0mtarinfo\u001b[0m\u001b[1;33m,\u001b[0m \u001b[0mtargetpath\u001b[0m\u001b[1;33m)\u001b[0m\u001b[1;33m\u001b[0m\u001b[1;33m\u001b[0m\u001b[0m\n",
      "\u001b[1;32mE:\\Anaconda\\Anaconda3\\envs\\machine_learning\\lib\\tarfile.py\u001b[0m in \u001b[0;36mmakefile\u001b[1;34m(self, tarinfo, targetpath)\u001b[0m\n\u001b[0;32m   2169\u001b[0m                 \u001b[0mtarget\u001b[0m\u001b[1;33m.\u001b[0m\u001b[0mtruncate\u001b[0m\u001b[1;33m(\u001b[0m\u001b[1;33m)\u001b[0m\u001b[1;33m\u001b[0m\u001b[1;33m\u001b[0m\u001b[0m\n\u001b[0;32m   2170\u001b[0m             \u001b[1;32melse\u001b[0m\u001b[1;33m:\u001b[0m\u001b[1;33m\u001b[0m\u001b[1;33m\u001b[0m\u001b[0m\n\u001b[1;32m-> 2171\u001b[1;33m                 \u001b[0mcopyfileobj\u001b[0m\u001b[1;33m(\u001b[0m\u001b[0msource\u001b[0m\u001b[1;33m,\u001b[0m \u001b[0mtarget\u001b[0m\u001b[1;33m,\u001b[0m \u001b[0mtarinfo\u001b[0m\u001b[1;33m.\u001b[0m\u001b[0msize\u001b[0m\u001b[1;33m,\u001b[0m \u001b[0mReadError\u001b[0m\u001b[1;33m,\u001b[0m \u001b[0mbufsize\u001b[0m\u001b[1;33m)\u001b[0m\u001b[1;33m\u001b[0m\u001b[1;33m\u001b[0m\u001b[0m\n\u001b[0m\u001b[0;32m   2172\u001b[0m \u001b[1;33m\u001b[0m\u001b[0m\n\u001b[0;32m   2173\u001b[0m     \u001b[1;32mdef\u001b[0m \u001b[0mmakeunknown\u001b[0m\u001b[1;33m(\u001b[0m\u001b[0mself\u001b[0m\u001b[1;33m,\u001b[0m \u001b[0mtarinfo\u001b[0m\u001b[1;33m,\u001b[0m \u001b[0mtargetpath\u001b[0m\u001b[1;33m)\u001b[0m\u001b[1;33m:\u001b[0m\u001b[1;33m\u001b[0m\u001b[1;33m\u001b[0m\u001b[0m\n",
      "\u001b[1;31mKeyboardInterrupt\u001b[0m: "
     ]
    }
   ],
   "source": [
    "train_data, test_data = datasets.IMDB.splits(TEXT, LABEL)"
   ]
  },
  {
   "cell_type": "code",
   "execution_count": 41,
   "metadata": {},
   "outputs": [],
   "source": [
    "from keras.layers import *\n",
    "from keras.models import Model\n",
    "from keras.preprocessing.text import Tokenizer\n",
    "from keras.preprocessing.sequence import pad_sequences\n",
    "from sklearn.utils import shuffle"
   ]
  },
  {
   "cell_type": "code",
   "execution_count": 21,
   "metadata": {},
   "outputs": [
    {
     "data": {
      "text/html": [
       "<div>\n",
       "<style scoped>\n",
       "    .dataframe tbody tr th:only-of-type {\n",
       "        vertical-align: middle;\n",
       "    }\n",
       "\n",
       "    .dataframe tbody tr th {\n",
       "        vertical-align: top;\n",
       "    }\n",
       "\n",
       "    .dataframe thead th {\n",
       "        text-align: right;\n",
       "    }\n",
       "</style>\n",
       "<table border=\"1\" class=\"dataframe\">\n",
       "  <thead>\n",
       "    <tr style=\"text-align: right;\">\n",
       "      <th></th>\n",
       "      <th>tweet</th>\n",
       "      <th>target</th>\n",
       "    </tr>\n",
       "  </thead>\n",
       "  <tbody>\n",
       "    <tr>\n",
       "      <th>0</th>\n",
       "      <td>dived many times for the ball managed to save ...</td>\n",
       "      <td>0</td>\n",
       "    </tr>\n",
       "    <tr>\n",
       "      <th>1</th>\n",
       "      <td>not the whole crew</td>\n",
       "      <td>0</td>\n",
       "    </tr>\n",
       "    <tr>\n",
       "      <th>2</th>\n",
       "      <td>nope they did not have it</td>\n",
       "      <td>0</td>\n",
       "    </tr>\n",
       "    <tr>\n",
       "      <th>3</th>\n",
       "      <td>spring break in plain city it snowing</td>\n",
       "      <td>0</td>\n",
       "    </tr>\n",
       "    <tr>\n",
       "      <th>4</th>\n",
       "      <td>could not bear to watch it and thought the ua ...</td>\n",
       "      <td>0</td>\n",
       "    </tr>\n",
       "  </tbody>\n",
       "</table>\n",
       "</div>"
      ],
      "text/plain": [
       "                                               tweet  target\n",
       "0  dived many times for the ball managed to save ...       0\n",
       "1                                 not the whole crew       0\n",
       "2                          nope they did not have it       0\n",
       "3              spring break in plain city it snowing       0\n",
       "4  could not bear to watch it and thought the ua ...       0"
      ]
     },
     "execution_count": 21,
     "metadata": {},
     "output_type": "execute_result"
    }
   ],
   "source": [
    "df_train_data.drop(['target_'], axis=1, inplace=True)\n",
    "df_train_data.head()"
   ]
  },
  {
   "cell_type": "code",
   "execution_count": 26,
   "metadata": {},
   "outputs": [],
   "source": [
    "X_train = list(df_train_data.tweet)\n",
    "X_test = list(df_test_data.tweet)"
   ]
  },
  {
   "cell_type": "code",
   "execution_count": 40,
   "metadata": {},
   "outputs": [],
   "source": [
    "y_train = [[1,0] if x == 0 else [0,1] for x in df_train_data.target]\n",
    "y_test = [[1,0] if x == 0 else [0,1] for x in df_test_data.target]"
   ]
  },
  {
   "cell_type": "code",
   "execution_count": 42,
   "metadata": {},
   "outputs": [],
   "source": [
    "X_train, y_train = shuffle(X_train, y_train)\n",
    "X_test, y_test = shuffle(X_test, y_test)\n",
    "\n",
    "y_train = np.array(y_train)\n",
    "y_test = np.array(y_test)"
   ]
  },
  {
   "cell_type": "code",
   "execution_count": 43,
   "metadata": {},
   "outputs": [],
   "source": [
    "max_feature = 5000\n",
    "maxlen = 128\n",
    "embed_size = 64"
   ]
  },
  {
   "cell_type": "code",
   "execution_count": 44,
   "metadata": {},
   "outputs": [],
   "source": [
    "tokenizer = Tokenizer(num_words=max_feature)\n",
    "tokenizer.fit_on_texts(X_train)"
   ]
  },
  {
   "cell_type": "code",
   "execution_count": 45,
   "metadata": {},
   "outputs": [],
   "source": [
    "token_train = tokenizer.texts_to_sequences(X_train)\n",
    "token_test = tokenizer.texts_to_sequences(X_test)"
   ]
  },
  {
   "cell_type": "code",
   "execution_count": 54,
   "metadata": {},
   "outputs": [],
   "source": [
    "X_train_final = pad_sequences(token_train, maxlen=maxlen, padding='post')\n",
    "X_test_final = pad_sequences(token_test, maxlen=maxlen, padding='post')"
   ]
  },
  {
   "cell_type": "code",
   "execution_count": 56,
   "metadata": {},
   "outputs": [
    {
     "name": "stdout",
     "output_type": "stream",
     "text": [
      "_________________________________________________________________\n",
      "Layer (type)                 Output Shape              Param #   \n",
      "=================================================================\n",
      "input_2 (InputLayer)         (None, 128)               0         \n",
      "_________________________________________________________________\n",
      "embedding_1 (Embedding)      (None, 128, 64)           320000    \n",
      "_________________________________________________________________\n",
      "dropout_1 (Dropout)          (None, 128, 64)           0         \n",
      "_________________________________________________________________\n",
      "batch_normalization_1 (Batch (None, 128, 64)           256       \n",
      "_________________________________________________________________\n",
      "conv1d_1 (Conv1D)            (None, 128, 32)           14368     \n",
      "_________________________________________________________________\n",
      "batch_normalization_2 (Batch (None, 128, 32)           128       \n",
      "_________________________________________________________________\n",
      "conv1d_2 (Conv1D)            (None, 128, 32)           3104      \n",
      "_________________________________________________________________\n",
      "batch_normalization_3 (Batch (None, 128, 32)           128       \n",
      "_________________________________________________________________\n",
      "conv1d_3 (Conv1D)            (None, 128, 32)           3104      \n",
      "_________________________________________________________________\n",
      "batch_normalization_4 (Batch (None, 128, 32)           128       \n",
      "_________________________________________________________________\n",
      "conv1d_4 (Conv1D)            (None, 128, 32)           3104      \n",
      "_________________________________________________________________\n",
      "conv1d_5 (Conv1D)            (None, 128, 2)            66        \n",
      "_________________________________________________________________\n",
      "global_average_pooling1d_1 ( (None, 2)                 0         \n",
      "_________________________________________________________________\n",
      "activation_1 (Activation)    (None, 2)                 0         \n",
      "=================================================================\n",
      "Total params: 344,386\n",
      "Trainable params: 344,066\n",
      "Non-trainable params: 320\n",
      "_________________________________________________________________\n"
     ]
    }
   ],
   "source": [
    "input = Input(shape=(maxlen,))\n",
    "net = Embedding(max_feature, embed_size)(input)\n",
    "net = Dropout(0.2)(net)\n",
    "net = BatchNormalization()(net)\n",
    "\n",
    "net = Conv1D(32, 7, padding='same', activation='relu')(net)\n",
    "net = BatchNormalization()(net)\n",
    "net = Conv1D(32, 3, padding='same', activation='relu')(net)\n",
    "net = BatchNormalization()(net)\n",
    "net = Conv1D(32, 3, padding='same', activation='relu')(net)\n",
    "net = BatchNormalization()(net)\n",
    "net = Conv1D(32, 3, padding='same', activation='relu')(net)\n",
    "net1 = BatchNormalization()(net)\n",
    "\n",
    "net = Conv1D(2, 1)(net)\n",
    "net = GlobalAveragePooling1D()(net)\n",
    "output = Activation('softmax')(net)\n",
    "model = Model(inputs = input, outputs = output)\n",
    "model.compile(optimizer='adam', loss='categorical_crossentropy', metrics=['acc'])\n",
    "model.summary()"
   ]
  },
  {
   "cell_type": "code",
   "execution_count": null,
   "metadata": {},
   "outputs": [
    {
     "name": "stdout",
     "output_type": "stream",
     "text": [
      "Train on 507264 samples, validate on 56363 samples\n",
      "Epoch 1/5\n",
      " 30720/507264 [>.............................] - ETA: 13:01:30 - loss: 0.6706 - acc: 0.5858"
     ]
    }
   ],
   "source": [
    "model.fit(X_train_final, y_train, batch_size=2048, epochs=5, validation_split=0.1)"
   ]
  },
  {
   "cell_type": "code",
   "execution_count": null,
   "metadata": {},
   "outputs": [],
   "source": []
  }
 ],
 "metadata": {
  "kernelspec": {
   "display_name": "Python 3",
   "language": "python",
   "name": "python3"
  },
  "language_info": {
   "codemirror_mode": {
    "name": "ipython",
    "version": 3
   },
   "file_extension": ".py",
   "mimetype": "text/x-python",
   "name": "python",
   "nbconvert_exporter": "python",
   "pygments_lexer": "ipython3",
   "version": "3.6.8"
  }
 },
 "nbformat": 4,
 "nbformat_minor": 2
}
