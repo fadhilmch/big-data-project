{
 "cells": [
  {
   "cell_type": "markdown",
   "metadata": {},
   "source": [
    "### Support Vector Machine Module"
   ]
  },
  {
   "cell_type": "code",
   "execution_count": null,
   "metadata": {},
   "outputs": [],
   "source": [
    "def svm_classifier_sampling(train, test, vectorizer, sampling_type, ngram_range = None, use_params = False):\n",
    "    if vectorizer == 'cv':\n",
    "        vctr = CountVectorizer()\n",
    "    elif vectorizer == 'ngram':\n",
    "        vctr = CountVectorizer(ngram_range=ngram_range)\n",
    "    elif vectorizer == 'tfidf':\n",
    "        vctr = TfidfVectorizer(ngram_range=ngram_range)\n",
    "    \n",
    "    sc = StandardScaler()\n",
    "    train_review = train['review']\n",
    "    test_review = test['review']\n",
    "    \n",
    "    train_review = vctr.fit_transform(train_review).toarray()\n",
    "    test_review = vctr.transform(test_review).toarray()\n",
    "    \n",
    "    train_review = sc.fit_transform(train_review)\n",
    "    test_review = sc.transform(test_review)\n",
    "    \n",
    "    train_label = train['sentiment']\n",
    "    test_label = test['sentiment']\n",
    "    \n",
    "    if sampling_type == 'over':\n",
    "        ros = RandomOverSampler(random_state=10)\n",
    "        ros_train_review, ros_train_label = ros.fit_sample(train_review, train_label)\n",
    "    elif sampling_type == 'under':\n",
    "        ros = RandomUnderSampler(random_state=10)\n",
    "        ros_train_review, ros_train_label = ros.fit_sample(train_review, train_label)        \n",
    "    elif sampling_type == 'smote':\n",
    "        ros = SMOTE(kind='svm')\n",
    "        ros_train_review, ros_train_label = ros.fit_sample(train_review, train_label)\n",
    "    else:\n",
    "        ros_train_review = train_review\n",
    "        ros_train_label = train_label\n",
    "        \n",
    "    if(use_params):\n",
    "        params = find_params(ros_train_review, ros_train_label)\n",
    "        print('Best params: %s' % (params))\n",
    "        svm_clf = SVC(C=params['C'], gamma=params['gamma'])\n",
    "    else:\n",
    "        svm_clf = SVC()\n",
    "    svm_clf.fit(ros_train_review, ros_train_label)\n",
    "    \n",
    "    label_pred = svm_clf.predict(test_review)\n",
    "    \n",
    "    cm = confusion_matrix(test_label, label_pred)\n",
    "    \n",
    "    accuracy = accuracy_score(label_pred, test_label)\n",
    "    \n",
    "    return label_pred, cm, svm_clf, accuracy, label_pred, test_label"
   ]
  },
  {
   "cell_type": "code",
   "execution_count": null,
   "metadata": {},
   "outputs": [],
   "source": [
    "def find_params(x_train, y_train):\n",
    "    C_range = np.logspace(6, 13, 15)\n",
    "    gamma_range = np.logspace(-13,-10,15)\n",
    "    param_grid = dict(gamma=gamma_range, C=C_range)\n",
    "    cv = StratifiedShuffleSplit(n_splits=5, test_size=0.2, random_state=42)\n",
    "    grid = GridSearchCV(SVC(), param_grid=param_grid, cv=cv)\n",
    "    grid.fit(x_train, y_train)\n",
    "    \n",
    "    # Draw plot for gamma-C value result\n",
    "    score_dict = grid.grid_scores_\n",
    "\n",
    "    scores = [x[1] for x in score_dict]\n",
    "    scores = np.array(scores).reshape(len(C_range), len(gamma_range))\n",
    "    \n",
    "    plt.figure(figsize=(8, 6))\n",
    "    plt.subplots_adjust(left=0.15, right=0.95, bottom=0.15, top=0.95)\n",
    "    plt.imshow(scores, interpolation='nearest', cmap=plt.cm.get_cmap(\"Spectral\"))\n",
    "    plt.xlabel('gamma')\n",
    "    plt.ylabel('C')\n",
    "    plt.colorbar()\n",
    "    plt.xticks(np.arange(len(gamma_range)), gamma_range, rotation=45)\n",
    "    plt.yticks(np.arange(len(C_range)), C_range)\n",
    "    plt.show()\n",
    "    \n",
    "    return grid.best_params_"
   ]
  }
 ],
 "metadata": {
  "kernelspec": {
   "display_name": "Python 3",
   "language": "python",
   "name": "python3"
  },
  "language_info": {
   "codemirror_mode": {
    "name": "ipython",
    "version": 3
   },
   "file_extension": ".py",
   "mimetype": "text/x-python",
   "name": "python",
   "nbconvert_exporter": "python",
   "pygments_lexer": "ipython3",
   "version": "3.6.5"
  }
 },
 "nbformat": 4,
 "nbformat_minor": 2
}
