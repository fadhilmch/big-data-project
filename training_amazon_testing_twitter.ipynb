{
 "cells": [
  {
   "cell_type": "markdown",
   "metadata": {},
   "source": [
    "# Predicting Sentiment on Social Media Data Using Supervised Approaches\n",
    "[DM2583 Big Data in Media Technology Course](https://www.kth.se/student/kurser/kurs/DM2583?l=en),[KTH Royal Institute of Technology](https://www.kth.se), Spring 2019  "
   ]
  },
  {
   "cell_type": "markdown",
   "metadata": {},
   "source": [
    "Authors: [Fadhil Mochammad](https://www.github.com/fadhilmch) (fadhilm@kth.se), [M. Irfan Handarbeni](https://www.github.com/handarbeni) (handa@kth.se), Mehrdad Darraji"
   ]
  },
  {
   "cell_type": "code",
   "execution_count": 1,
   "metadata": {
    "_uuid": "c288dbb9671fe5ccc526b3e96cf46cbc8de34160",
    "scrolled": true
   },
   "outputs": [],
   "source": [
    "import pandas as pd\n",
    "import numpy as np\n",
    "import matplotlib.pyplot as plt\n",
    "from sklearn.model_selection import train_test_split\n",
    "from textblob import TextBlob\n",
    "from sklearn.metrics import accuracy_score, classification_report, confusion_matrix\n",
    "from sklearn.feature_extraction.text import CountVectorizer, TfidfVectorizer\n",
    "from sklearn.pipeline import Pipeline\n",
    "from sklearn.metrics import roc_curve, auc\n",
    "from sklearn.svm import LinearSVC\n",
    "from sklearn.svm import SVC\n",
    "from sklearn.decomposition import PCA\n",
    "from sklearn.decomposition import TruncatedSVD\n",
    "from time import time"
   ]
  },
  {
   "cell_type": "markdown",
   "metadata": {},
   "source": [
    "### Import Dataset"
   ]
  },
  {
   "cell_type": "markdown",
   "metadata": {},
   "source": [
    "Import the cleaned training and test data from the path '../data/'"
   ]
  },
  {
   "cell_type": "code",
   "execution_count": 2,
   "metadata": {
    "_uuid": "64281313da065a8c6d5e5cf3bfdf973eb5c40542"
   },
   "outputs": [],
   "source": [
    "df_train_data = pd.read_csv('../data/cleaned_train.csv')\n",
    "df_test_data = pd.read_csv('../idata/cleaned_test.csv')\n",
    "\n",
    "#df_train_data = pd.read_csv('../data/train_cleaned_reviews.csv')\n",
    "#df_test_data = pd.read_csv('../data/test_cleaned_reviews.csv')"
   ]
  },
  {
   "cell_type": "code",
   "execution_count": 3,
   "metadata": {
    "_uuid": "a6cf766e30daeb2225ddb1b0b9e2d129bc77f80c"
   },
   "outputs": [
    {
     "data": {
      "text/plain": [
       "(99762, 2)"
      ]
     },
     "execution_count": 3,
     "metadata": {},
     "output_type": "execute_result"
    }
   ],
   "source": [
    "df_train_data.columns = ['tweet','target']\n",
    "df_train_data = df_train_data.sample(frac = 0.177)\n",
    "df_train_data.shape"
   ]
  },
  {
   "cell_type": "code",
   "execution_count": 4,
   "metadata": {
    "_uuid": "980495c21fb89e7116eca02092e273ecc6de7100"
   },
   "outputs": [
    {
     "data": {
      "text/plain": [
       "(1000000, 2)"
      ]
     },
     "execution_count": 4,
     "metadata": {},
     "output_type": "execute_result"
    }
   ],
   "source": [
    "df_test_data.columns = ['tweet','target']\n",
    "df_test_data.shape\n"
   ]
  },
  {
   "cell_type": "markdown",
   "metadata": {
    "_uuid": "c9205d2bfc1d1a1413916e471556eb3d6e5a6415"
   },
   "source": [
    "### Split Training and Validation Data"
   ]
  },
  {
   "cell_type": "code",
   "execution_count": 5,
   "metadata": {
    "_uuid": "0a0362218712cc5905b213e9c15c661deb94fc10"
   },
   "outputs": [
    {
     "name": "stdout",
     "output_type": "stream",
     "text": [
      "training data has 97766 entries. 49.44% positive and 50.56% negative\n",
      "validation data has 1996 entries. 48.60% positive and 51.40% negative\n"
     ]
    }
   ],
   "source": [
    "X_train, X_validation, y_train, y_validation = train_test_split(df_train_data.tweet, df_train_data.target, test_size = 0.02, random_state = 1234)\n",
    "\n",
    "print(\"training data has {0} entries. {1:.2f}% positive and {2:.2f}% negative\".format(len(y_train), len(y_train[y_train==1])/len(y_train)*100, len(y_train[y_train==0])/len(y_train)*100))\n",
    "print(\"validation data has {0} entries. {1:.2f}% positive and {2:.2f}% negative\".format(len(y_validation), len(y_validation[y_validation==1])/len(y_validation)*100, len(y_validation[y_validation==0])/len(y_validation)*100))"
   ]
  },
  {
   "cell_type": "code",
   "execution_count": 7,
   "metadata": {
    "_uuid": "e748555d76baee6719e2f1ed7501c2fffdc37dee"
   },
   "outputs": [
    {
     "data": {
      "text/plain": [
       "0.4943743223615572"
      ]
     },
     "execution_count": 7,
     "metadata": {},
     "output_type": "execute_result"
    }
   ],
   "source": [
    "len(y_train[y_train==1])/len(y_train)"
   ]
  },
  {
   "cell_type": "markdown",
   "metadata": {
    "_uuid": "f81a805fabb473745120361428b5f9b3eafe6081"
   },
   "source": [
    "### Sentiment Pred with TextBlob"
   ]
  },
  {
   "cell_type": "markdown",
   "metadata": {},
   "source": [
    "We experiment the sentiment analysis using TextBlob library"
   ]
  },
  {
   "cell_type": "code",
   "execution_count": 8,
   "metadata": {
    "_uuid": "d08adcafc887e9da7822971747df2b61fd40e7f8"
   },
   "outputs": [],
   "source": [
    "tb_sentiment = [TextBlob(i).sentiment.polarity for i in X_validation]\n",
    "tb_sentiment = [0 if x < 0 else 1 for x in tb_sentiment]"
   ]
  },
  {
   "cell_type": "code",
   "execution_count": 9,
   "metadata": {
    "_uuid": "a8d574da88a8a9478b97f2c37713531ed17e1b44"
   },
   "outputs": [
    {
     "data": {
      "text/plain": [
       "array([[316, 710],\n",
       "       [105, 865]])"
      ]
     },
     "execution_count": 9,
     "metadata": {},
     "output_type": "execute_result"
    }
   ],
   "source": [
    "cm = confusion_matrix(y_validation, tb_sentiment)\n",
    "cm"
   ]
  },
  {
   "cell_type": "code",
   "execution_count": 10,
   "metadata": {
    "_uuid": "9fdc34ad9ea22ee7037954b56aada28d965d6946"
   },
   "outputs": [
    {
     "name": "stdout",
     "output_type": "stream",
     "text": [
      "accuracy = 0.59\n",
      "              precision    recall  f1-score   support\n",
      "\n",
      "           0       0.75      0.31      0.44      1026\n",
      "           1       0.55      0.89      0.68       970\n",
      "\n",
      "    accuracy                           0.59      1996\n",
      "   macro avg       0.65      0.60      0.56      1996\n",
      "weighted avg       0.65      0.59      0.55      1996\n",
      "\n"
     ]
    }
   ],
   "source": [
    "print(\"accuracy = {:.2f}\".format(accuracy_score(y_validation, tb_sentiment)))\n",
    "print(classification_report(y_validation, tb_sentiment))"
   ]
  },
  {
   "cell_type": "markdown",
   "metadata": {
    "_uuid": "e56fed16829a14c1a58070c40d3605e71edbe4b1"
   },
   "source": [
    "### Naive Bayes Model"
   ]
  },
  {
   "cell_type": "code",
   "execution_count": 11,
   "metadata": {
    "_uuid": "993e95788e3db1b2e442186dc29b9d4216256463"
   },
   "outputs": [],
   "source": [
    "from sklearn.naive_bayes import MultinomialNB\n",
    "from sklearn.linear_model import LogisticRegression"
   ]
  },
  {
   "cell_type": "code",
   "execution_count": 12,
   "metadata": {
    "_uuid": "e2331c2e530fc4c408fdcadb438759f0e5ce7932"
   },
   "outputs": [],
   "source": [
    "vectorizer = CountVectorizer()\n",
    "clf = MultinomialNB()\n",
    "n_features = np.arange(10000, 100001, 10000)"
   ]
  },
  {
   "cell_type": "code",
   "execution_count": 13,
   "metadata": {
    "_uuid": "d07f3423ef931f82b52bbdd5886d0c0d74f4b46b"
   },
   "outputs": [],
   "source": [
    "def calc_accuracy(pipeline, X_train, X_test, y_train, y_test):\n",
    "    t0 = time()\n",
    "    sentiment_clf = pipeline.fit(X_train, y_train)\n",
    "    y_pred = sentiment_clf.predict(X_test)\n",
    "    train_test_time = time() - t0\n",
    "    accuracy = accuracy_score(y_test, y_pred)\n",
    "    fpr = dict()\n",
    "    tpr = dict()\n",
    "    roc_auc = dict()\n",
    "\n",
    "    fpr, tpr, _ = roc_curve(y_test, y_pred, pos_label=1)\n",
    "    roc_auc = auc(fpr, tpr)\n",
    "    \n",
    "    print(\"model accuracy : {0:.2f}\".format(accuracy))\n",
    "    print(\"model auc : {0:.2f}\".format(roc_auc))\n",
    "    print(\"train validation time : {0:.2f}s\".format(train_test_time))\n",
    "    print(\"=========================================================\")\n",
    "    \n",
    "    return accuracy, roc_auc, train_test_time"
   ]
  },
  {
   "cell_type": "code",
   "execution_count": 14,
   "metadata": {
    "_uuid": "eee6776fcd4e0463bb67c17b2781bf56c8b4622e"
   },
   "outputs": [],
   "source": [
    "def compare_clf_nfeature(X_train, X_test, y_train, y_test, vectorizer=vectorizer, clf=clf, n_features=n_features, stop_words=None, ngram_range = (1,1)):\n",
    "    res = []\n",
    "    print(clf)\n",
    "    for feature in n_features:\n",
    "        vectorizer.set_params(stop_words=stop_words, ngram_range=ngram_range, max_features=feature)\n",
    "        acc_pipeline = Pipeline([('vectorizer', vectorizer), ('classifier', clf)])\n",
    "        print(\"result on model with {} features\".format(feature))\n",
    "        accuracy, auc, time = calc_accuracy(acc_pipeline, X_train, X_test, y_train, y_test)\n",
    "        res.append((feature, accuracy, auc, time))\n",
    "        \n",
    "    return res"
   ]
  },
  {
   "cell_type": "code",
   "execution_count": 15,
   "metadata": {
    "_uuid": "a1da5f5b155e21e2183b63b64585ca1a6cfa9dec"
   },
   "outputs": [
    {
     "data": {
      "text/html": [
       "<div>\n",
       "<style scoped>\n",
       "    .dataframe tbody tr th:only-of-type {\n",
       "        vertical-align: middle;\n",
       "    }\n",
       "\n",
       "    .dataframe tbody tr th {\n",
       "        vertical-align: top;\n",
       "    }\n",
       "\n",
       "    .dataframe thead th {\n",
       "        text-align: right;\n",
       "    }\n",
       "</style>\n",
       "<table border=\"1\" class=\"dataframe\">\n",
       "  <thead>\n",
       "    <tr style=\"text-align: right;\">\n",
       "      <th></th>\n",
       "      <th>word</th>\n",
       "      <th>neg</th>\n",
       "      <th>pos</th>\n",
       "      <th>total</th>\n",
       "    </tr>\n",
       "  </thead>\n",
       "  <tbody>\n",
       "    <tr>\n",
       "      <td>0</td>\n",
       "      <td>to</td>\n",
       "      <td>313164</td>\n",
       "      <td>252567</td>\n",
       "      <td>565731</td>\n",
       "    </tr>\n",
       "    <tr>\n",
       "      <td>1</td>\n",
       "      <td>the</td>\n",
       "      <td>257870</td>\n",
       "      <td>266013</td>\n",
       "      <td>523883</td>\n",
       "    </tr>\n",
       "    <tr>\n",
       "      <td>2</td>\n",
       "      <td>not</td>\n",
       "      <td>238226</td>\n",
       "      <td>103119</td>\n",
       "      <td>341345</td>\n",
       "    </tr>\n",
       "    <tr>\n",
       "      <td>3</td>\n",
       "      <td>my</td>\n",
       "      <td>190845</td>\n",
       "      <td>125979</td>\n",
       "      <td>316824</td>\n",
       "    </tr>\n",
       "    <tr>\n",
       "      <td>4</td>\n",
       "      <td>it</td>\n",
       "      <td>157482</td>\n",
       "      <td>147804</td>\n",
       "      <td>305286</td>\n",
       "    </tr>\n",
       "    <tr>\n",
       "      <td>5</td>\n",
       "      <td>and</td>\n",
       "      <td>153972</td>\n",
       "      <td>149649</td>\n",
       "      <td>303621</td>\n",
       "    </tr>\n",
       "    <tr>\n",
       "      <td>6</td>\n",
       "      <td>you</td>\n",
       "      <td>103890</td>\n",
       "      <td>198340</td>\n",
       "      <td>302230</td>\n",
       "    </tr>\n",
       "    <tr>\n",
       "      <td>7</td>\n",
       "      <td>is</td>\n",
       "      <td>135021</td>\n",
       "      <td>111667</td>\n",
       "      <td>246688</td>\n",
       "    </tr>\n",
       "    <tr>\n",
       "      <td>8</td>\n",
       "      <td>in</td>\n",
       "      <td>115543</td>\n",
       "      <td>101163</td>\n",
       "      <td>216706</td>\n",
       "    </tr>\n",
       "    <tr>\n",
       "      <td>9</td>\n",
       "      <td>for</td>\n",
       "      <td>99003</td>\n",
       "      <td>117372</td>\n",
       "      <td>216375</td>\n",
       "    </tr>\n",
       "    <tr>\n",
       "      <td>10</td>\n",
       "      <td>of</td>\n",
       "      <td>92739</td>\n",
       "      <td>91098</td>\n",
       "      <td>183837</td>\n",
       "    </tr>\n",
       "    <tr>\n",
       "      <td>11</td>\n",
       "      <td>on</td>\n",
       "      <td>84194</td>\n",
       "      <td>84197</td>\n",
       "      <td>168391</td>\n",
       "    </tr>\n",
       "    <tr>\n",
       "      <td>12</td>\n",
       "      <td>that</td>\n",
       "      <td>82860</td>\n",
       "      <td>83157</td>\n",
       "      <td>166017</td>\n",
       "    </tr>\n",
       "    <tr>\n",
       "      <td>13</td>\n",
       "      <td>me</td>\n",
       "      <td>91862</td>\n",
       "      <td>71600</td>\n",
       "      <td>163462</td>\n",
       "    </tr>\n",
       "    <tr>\n",
       "      <td>14</td>\n",
       "      <td>have</td>\n",
       "      <td>90105</td>\n",
       "      <td>66293</td>\n",
       "      <td>156398</td>\n",
       "    </tr>\n",
       "    <tr>\n",
       "      <td>15</td>\n",
       "      <td>so</td>\n",
       "      <td>88518</td>\n",
       "      <td>65630</td>\n",
       "      <td>154148</td>\n",
       "    </tr>\n",
       "    <tr>\n",
       "      <td>16</td>\n",
       "      <td>do</td>\n",
       "      <td>80973</td>\n",
       "      <td>53944</td>\n",
       "      <td>134917</td>\n",
       "    </tr>\n",
       "    <tr>\n",
       "      <td>17</td>\n",
       "      <td>but</td>\n",
       "      <td>84920</td>\n",
       "      <td>48606</td>\n",
       "      <td>133526</td>\n",
       "    </tr>\n",
       "    <tr>\n",
       "      <td>18</td>\n",
       "      <td>just</td>\n",
       "      <td>64016</td>\n",
       "      <td>62953</td>\n",
       "      <td>126969</td>\n",
       "    </tr>\n",
       "    <tr>\n",
       "      <td>19</td>\n",
       "      <td>with</td>\n",
       "      <td>50153</td>\n",
       "      <td>65180</td>\n",
       "      <td>115333</td>\n",
       "    </tr>\n",
       "    <tr>\n",
       "      <td>20</td>\n",
       "      <td>be</td>\n",
       "      <td>58616</td>\n",
       "      <td>54480</td>\n",
       "      <td>113096</td>\n",
       "    </tr>\n",
       "    <tr>\n",
       "      <td>21</td>\n",
       "      <td>at</td>\n",
       "      <td>62732</td>\n",
       "      <td>49625</td>\n",
       "      <td>112357</td>\n",
       "    </tr>\n",
       "    <tr>\n",
       "      <td>22</td>\n",
       "      <td>can</td>\n",
       "      <td>64738</td>\n",
       "      <td>46719</td>\n",
       "      <td>111457</td>\n",
       "    </tr>\n",
       "    <tr>\n",
       "      <td>23</td>\n",
       "      <td>was</td>\n",
       "      <td>63955</td>\n",
       "      <td>47463</td>\n",
       "      <td>111418</td>\n",
       "    </tr>\n",
       "    <tr>\n",
       "      <td>24</td>\n",
       "      <td>this</td>\n",
       "      <td>53000</td>\n",
       "      <td>41574</td>\n",
       "      <td>94574</td>\n",
       "    </tr>\n",
       "  </tbody>\n",
       "</table>\n",
       "</div>"
      ],
      "text/plain": [
       "    word     neg     pos   total\n",
       "0     to  313164  252567  565731\n",
       "1    the  257870  266013  523883\n",
       "2    not  238226  103119  341345\n",
       "3     my  190845  125979  316824\n",
       "4     it  157482  147804  305286\n",
       "5    and  153972  149649  303621\n",
       "6    you  103890  198340  302230\n",
       "7     is  135021  111667  246688\n",
       "8     in  115543  101163  216706\n",
       "9    for   99003  117372  216375\n",
       "10    of   92739   91098  183837\n",
       "11    on   84194   84197  168391\n",
       "12  that   82860   83157  166017\n",
       "13    me   91862   71600  163462\n",
       "14  have   90105   66293  156398\n",
       "15    so   88518   65630  154148\n",
       "16    do   80973   53944  134917\n",
       "17   but   84920   48606  133526\n",
       "18  just   64016   62953  126969\n",
       "19  with   50153   65180  115333\n",
       "20    be   58616   54480  113096\n",
       "21    at   62732   49625  112357\n",
       "22   can   64738   46719  111457\n",
       "23   was   63955   47463  111418\n",
       "24  this   53000   41574   94574"
      ]
     },
     "execution_count": 15,
     "metadata": {},
     "output_type": "execute_result"
    }
   ],
   "source": [
    "df_word_freq = pd.read_csv('../input/amazon-reviews-cleaned-big-data-project/word_freq.csv')\n",
    "df_word_freq.columns = ['word', 'neg', 'pos', 'total']\n",
    "df_word_freq.head(25)"
   ]
  },
  {
   "cell_type": "code",
   "execution_count": 16,
   "metadata": {
    "_uuid": "b4f0716480d4a5cca27e83cb47ab42f68cfff8ce"
   },
   "outputs": [
    {
     "data": {
      "text/plain": [
       "['to',\n",
       " 'the',\n",
       " 'my',\n",
       " 'it',\n",
       " 'and',\n",
       " 'you',\n",
       " 'is',\n",
       " 'in',\n",
       " 'for',\n",
       " 'of',\n",
       " 'on',\n",
       " 'that',\n",
       " 'me',\n",
       " 'have',\n",
       " 'so',\n",
       " 'do',\n",
       " 'but',\n",
       " 'just',\n",
       " 'with']"
      ]
     },
     "execution_count": 16,
     "metadata": {},
     "output_type": "execute_result"
    }
   ],
   "source": [
    "custom_stop_words = list(df_word_freq.head(20).word)\n",
    "del custom_stop_words[2]\n",
    "custom_stop_words"
   ]
  },
  {
   "cell_type": "markdown",
   "metadata": {
    "_uuid": "70562c92f3c3d8acf1b53a386cc05cf8583293d3"
   },
   "source": [
    "### Investigate stopwords effect"
   ]
  },
  {
   "cell_type": "code",
   "execution_count": 17,
   "metadata": {
    "_uuid": "e83839b6f2cc7cab79ebb87ab9140bd7ecd0f297"
   },
   "outputs": [
    {
     "name": "stdout",
     "output_type": "stream",
     "text": [
      "MultinomialNB(alpha=1.0, class_prior=None, fit_prior=True)\n",
      "result on model with 10000 features\n",
      "model accuracy : 0.77\n",
      "model auc : 0.77\n",
      "train validation time : 2.22s\n",
      "=========================================================\n",
      "result on model with 20000 features\n",
      "model accuracy : 0.78\n",
      "model auc : 0.78\n",
      "train validation time : 2.18s\n",
      "=========================================================\n",
      "result on model with 30000 features\n",
      "model accuracy : 0.78\n",
      "model auc : 0.78\n",
      "train validation time : 2.15s\n",
      "=========================================================\n",
      "result on model with 40000 features\n",
      "model accuracy : 0.78\n",
      "model auc : 0.78\n",
      "train validation time : 2.15s\n",
      "=========================================================\n",
      "result on model with 50000 features\n",
      "model accuracy : 0.78\n",
      "model auc : 0.78\n",
      "train validation time : 2.14s\n",
      "=========================================================\n",
      "result on model with 60000 features\n",
      "model accuracy : 0.78\n",
      "model auc : 0.78\n",
      "train validation time : 2.22s\n",
      "=========================================================\n",
      "result on model with 70000 features\n",
      "model accuracy : 0.78\n",
      "model auc : 0.78\n",
      "train validation time : 2.17s\n",
      "=========================================================\n",
      "result on model with 80000 features\n",
      "model accuracy : 0.78\n",
      "model auc : 0.78\n",
      "train validation time : 2.18s\n",
      "=========================================================\n",
      "result on model with 90000 features\n",
      "model accuracy : 0.78\n",
      "model auc : 0.78\n",
      "train validation time : 2.19s\n",
      "=========================================================\n",
      "result on model with 100000 features\n",
      "model accuracy : 0.78\n",
      "model auc : 0.78\n",
      "train validation time : 2.17s\n",
      "=========================================================\n"
     ]
    }
   ],
   "source": [
    "res_w_sw = compare_clf_nfeature(X_train, X_validation, y_train, y_validation)"
   ]
  },
  {
   "cell_type": "code",
   "execution_count": 18,
   "metadata": {
    "_uuid": "16e37f7ffe0a14a9cf3beb3719265ee0f1fb095e"
   },
   "outputs": [
    {
     "name": "stdout",
     "output_type": "stream",
     "text": [
      "MultinomialNB(alpha=1.0, class_prior=None, fit_prior=True)\n",
      "result on model with 10000 features\n",
      "model accuracy : 0.75\n",
      "model auc : 0.75\n",
      "train validation time : 1.97s\n",
      "=========================================================\n",
      "result on model with 20000 features\n",
      "model accuracy : 0.75\n",
      "model auc : 0.75\n",
      "train validation time : 1.97s\n",
      "=========================================================\n",
      "result on model with 30000 features\n",
      "model accuracy : 0.75\n",
      "model auc : 0.75\n",
      "train validation time : 1.93s\n",
      "=========================================================\n",
      "result on model with 40000 features\n",
      "model accuracy : 0.75\n",
      "model auc : 0.75\n",
      "train validation time : 1.95s\n",
      "=========================================================\n",
      "result on model with 50000 features\n",
      "model accuracy : 0.75\n",
      "model auc : 0.75\n",
      "train validation time : 1.94s\n",
      "=========================================================\n",
      "result on model with 60000 features\n",
      "model accuracy : 0.75\n",
      "model auc : 0.75\n",
      "train validation time : 1.96s\n",
      "=========================================================\n",
      "result on model with 70000 features\n",
      "model accuracy : 0.75\n",
      "model auc : 0.75\n",
      "train validation time : 1.94s\n",
      "=========================================================\n",
      "result on model with 80000 features\n",
      "model accuracy : 0.75\n",
      "model auc : 0.75\n",
      "train validation time : 1.96s\n",
      "=========================================================\n",
      "result on model with 90000 features\n",
      "model accuracy : 0.75\n",
      "model auc : 0.75\n",
      "train validation time : 1.94s\n",
      "=========================================================\n",
      "result on model with 100000 features\n",
      "model accuracy : 0.75\n",
      "model auc : 0.75\n",
      "train validation time : 1.96s\n",
      "=========================================================\n"
     ]
    }
   ],
   "source": [
    "res_wo_sw = compare_clf_nfeature(X_train, X_validation, y_train, y_validation, stop_words='english')"
   ]
  },
  {
   "cell_type": "code",
   "execution_count": 19,
   "metadata": {
    "_uuid": "fa69931511c8434e8a693fc73118b827f49324fb"
   },
   "outputs": [
    {
     "name": "stdout",
     "output_type": "stream",
     "text": [
      "MultinomialNB(alpha=1.0, class_prior=None, fit_prior=True)\n",
      "result on model with 10000 features\n",
      "model accuracy : 0.76\n",
      "model auc : 0.76\n",
      "train validation time : 2.16s\n",
      "=========================================================\n",
      "result on model with 20000 features\n",
      "model accuracy : 0.77\n",
      "model auc : 0.77\n",
      "train validation time : 2.18s\n",
      "=========================================================\n",
      "result on model with 30000 features\n",
      "model accuracy : 0.77\n",
      "model auc : 0.77\n",
      "train validation time : 2.16s\n",
      "=========================================================\n",
      "result on model with 40000 features\n",
      "model accuracy : 0.77\n",
      "model auc : 0.77\n",
      "train validation time : 2.15s\n",
      "=========================================================\n",
      "result on model with 50000 features\n",
      "model accuracy : 0.77\n",
      "model auc : 0.77\n",
      "train validation time : 2.36s\n",
      "=========================================================\n",
      "result on model with 60000 features\n",
      "model accuracy : 0.77\n",
      "model auc : 0.77\n",
      "train validation time : 2.58s\n",
      "=========================================================\n",
      "result on model with 70000 features\n",
      "model accuracy : 0.77\n",
      "model auc : 0.77\n",
      "train validation time : 2.27s\n",
      "=========================================================\n",
      "result on model with 80000 features\n",
      "model accuracy : 0.77\n",
      "model auc : 0.77\n",
      "train validation time : 2.27s\n",
      "=========================================================\n",
      "result on model with 90000 features\n",
      "model accuracy : 0.77\n",
      "model auc : 0.77\n",
      "train validation time : 2.22s\n",
      "=========================================================\n",
      "result on model with 100000 features\n",
      "model accuracy : 0.77\n",
      "model auc : 0.77\n",
      "train validation time : 2.25s\n",
      "=========================================================\n"
     ]
    }
   ],
   "source": [
    "res_cust_sw = compare_clf_nfeature(X_train, X_validation, y_train, y_validation, stop_words=custom_stop_words)"
   ]
  },
  {
   "cell_type": "code",
   "execution_count": 20,
   "metadata": {
    "_uuid": "5ed5bc46d580a50f62272f15ade75899aecb1b97"
   },
   "outputs": [],
   "source": [
    "cols = ['n_features', 'val_acc', 'val_auc', 'time']\n",
    "res_w_sw = pd.DataFrame(res_w_sw, columns=cols)\n",
    "res_wo_sw = pd.DataFrame(res_wo_sw, columns=cols)\n",
    "res_cust_sw = pd.DataFrame(res_cust_sw, columns=cols)"
   ]
  },
  {
   "cell_type": "code",
   "execution_count": 21,
   "metadata": {
    "_uuid": "b97f547fb04719de87c87c872340212e275bcbda"
   },
   "outputs": [
    {
     "data": {
      "text/plain": [
       "<matplotlib.legend.Legend at 0x7f6a881f7668>"
      ]
     },
     "execution_count": 21,
     "metadata": {},
     "output_type": "execute_result"
    },
    {
     "data": {
      "image/png": "[encoded data removed]",
      "text/plain": [
       "<Figure size 576x288 with 1 Axes>"
      ]
     },
     "metadata": {
      "needs_background": "light"
     },
     "output_type": "display_data"
    }
   ],
   "source": [
    "plt.figure(figsize=(8,4))\n",
    "plt.plot(res_w_sw.n_features, res_w_sw.val_acc, label='with stopwords')\n",
    "plt.plot(res_wo_sw.n_features, res_wo_sw.val_acc, label='without stopwords')\n",
    "plt.plot(res_cust_sw.n_features, res_cust_sw.val_acc, label='without custom stopwords')\n",
    "plt.title(\"comparison of model performance with and without stopwords\")\n",
    "plt.xlabel(\"num of features\")\n",
    "plt.ylabel(\"model validation accuracy\")\n",
    "plt.legend()"
   ]
  },
  {
   "cell_type": "markdown",
   "metadata": {
    "_uuid": "5b5cbf5c5604142c1d596674277d54b03fc41b8b"
   },
   "source": [
    "### Investigate gram length effect"
   ]
  },
  {
   "cell_type": "code",
   "execution_count": 22,
   "metadata": {
    "_uuid": "4099545530fe8832975cbef93afff3249daeb2e6"
   },
   "outputs": [
    {
     "name": "stdout",
     "output_type": "stream",
     "text": [
      "MultinomialNB(alpha=1.0, class_prior=None, fit_prior=True)\n",
      "result on model with 10000 features\n",
      "model accuracy : 0.77\n",
      "model auc : 0.77\n",
      "train validation time : 6.30s\n",
      "=========================================================\n",
      "result on model with 20000 features\n",
      "model accuracy : 0.77\n",
      "model auc : 0.77\n",
      "train validation time : 6.01s\n",
      "=========================================================\n",
      "result on model with 30000 features\n",
      "model accuracy : 0.78\n",
      "model auc : 0.78\n",
      "train validation time : 6.00s\n",
      "=========================================================\n",
      "result on model with 40000 features\n",
      "model accuracy : 0.78\n",
      "model auc : 0.78\n",
      "train validation time : 6.03s\n",
      "=========================================================\n",
      "result on model with 50000 features\n",
      "model accuracy : 0.78\n",
      "model auc : 0.78\n",
      "train validation time : 5.99s\n",
      "=========================================================\n",
      "result on model with 60000 features\n",
      "model accuracy : 0.78\n",
      "model auc : 0.78\n",
      "train validation time : 5.95s\n",
      "=========================================================\n",
      "result on model with 70000 features\n",
      "model accuracy : 0.78\n",
      "model auc : 0.78\n",
      "train validation time : 6.00s\n",
      "=========================================================\n",
      "result on model with 80000 features\n",
      "model accuracy : 0.78\n",
      "model auc : 0.78\n",
      "train validation time : 6.04s\n",
      "=========================================================\n",
      "result on model with 90000 features\n",
      "model accuracy : 0.78\n",
      "model auc : 0.78\n",
      "train validation time : 6.17s\n",
      "=========================================================\n",
      "result on model with 100000 features\n",
      "model accuracy : 0.79\n",
      "model auc : 0.78\n",
      "train validation time : 6.08s\n",
      "=========================================================\n"
     ]
    }
   ],
   "source": [
    "res_bigram = compare_clf_nfeature(X_train, X_validation, y_train, y_validation, ngram_range=(1,2))"
   ]
  },
  {
   "cell_type": "code",
   "execution_count": 23,
   "metadata": {
    "_uuid": "1e9adf91feb30ab95e653a88c14480320639d518"
   },
   "outputs": [
    {
     "name": "stdout",
     "output_type": "stream",
     "text": [
      "MultinomialNB(alpha=1.0, class_prior=None, fit_prior=True)\n",
      "result on model with 10000 features\n",
      "model accuracy : 0.76\n",
      "model auc : 0.76\n",
      "train validation time : 11.98s\n",
      "=========================================================\n",
      "result on model with 20000 features\n",
      "model accuracy : 0.77\n",
      "model auc : 0.77\n",
      "train validation time : 12.03s\n",
      "=========================================================\n",
      "result on model with 30000 features\n",
      "model accuracy : 0.78\n",
      "model auc : 0.78\n",
      "train validation time : 11.97s\n",
      "=========================================================\n",
      "result on model with 40000 features\n",
      "model accuracy : 0.78\n",
      "model auc : 0.77\n",
      "train validation time : 11.95s\n",
      "=========================================================\n",
      "result on model with 50000 features\n",
      "model accuracy : 0.77\n",
      "model auc : 0.77\n",
      "train validation time : 11.80s\n",
      "=========================================================\n",
      "result on model with 60000 features\n",
      "model accuracy : 0.77\n",
      "model auc : 0.77\n",
      "train validation time : 11.93s\n",
      "=========================================================\n",
      "result on model with 70000 features\n",
      "model accuracy : 0.78\n",
      "model auc : 0.78\n",
      "train validation time : 11.83s\n",
      "=========================================================\n",
      "result on model with 80000 features\n",
      "model accuracy : 0.78\n",
      "model auc : 0.78\n",
      "train validation time : 12.19s\n",
      "=========================================================\n",
      "result on model with 90000 features\n",
      "model accuracy : 0.78\n",
      "model auc : 0.78\n",
      "train validation time : 11.84s\n",
      "=========================================================\n",
      "result on model with 100000 features\n",
      "model accuracy : 0.78\n",
      "model auc : 0.78\n",
      "train validation time : 11.93s\n",
      "=========================================================\n"
     ]
    }
   ],
   "source": [
    "res_trigram = compare_clf_nfeature(X_train, X_validation, y_train, y_validation, ngram_range=(1,3))"
   ]
  },
  {
   "cell_type": "code",
   "execution_count": 24,
   "metadata": {
    "_uuid": "00237120c833010c81277aacfd99394c7b9f2718"
   },
   "outputs": [],
   "source": [
    "res_bigram = pd.DataFrame(res_bigram, columns=cols)\n",
    "res_trigram = pd.DataFrame(res_trigram, columns=cols)"
   ]
  },
  {
   "cell_type": "code",
   "execution_count": 25,
   "metadata": {
    "_uuid": "5d59bc1dbace70cdb625dcfdae267741f6db88c9"
   },
   "outputs": [
    {
     "data": {
      "text/plain": [
       "<matplotlib.legend.Legend at 0x7f6a8804a470>"
      ]
     },
     "execution_count": 25,
     "metadata": {},
     "output_type": "execute_result"
    },
    {
     "data": {
      "image/png": "[encoded data removed]",
      "text/plain": [
       "<Figure size 576x288 with 1 Axes>"
      ]
     },
     "metadata": {
      "needs_background": "light"
     },
     "output_type": "display_data"
    }
   ],
   "source": [
    "plt.figure(figsize=(8,4))\n",
    "plt.plot(res_w_sw.n_features, res_w_sw.val_acc, label='unigram')\n",
    "plt.plot(res_bigram.n_features, res_bigram.val_acc, label='bigram')\n",
    "plt.plot(res_trigram.n_features, res_trigram.val_acc, label='trigram')\n",
    "plt.title(\"comparison of model performance (n-gram)\")\n",
    "plt.xlabel(\"num of features\")\n",
    "plt.ylabel(\"model validation accuracy\")\n",
    "plt.legend()"
   ]
  },
  {
   "cell_type": "markdown",
   "metadata": {
    "_uuid": "75f1c001ca4a0c233a8b6b67ec00d9a9e154e61f"
   },
   "source": [
    "### Lemmatize"
   ]
  },
  {
   "cell_type": "code",
   "execution_count": 26,
   "metadata": {
    "_uuid": "c006715f62249dbed0ba818c084fc82ac5b3581c"
   },
   "outputs": [],
   "source": [
    "from nltk.stem import WordNetLemmatizer"
   ]
  },
  {
   "cell_type": "code",
   "execution_count": 27,
   "metadata": {
    "_uuid": "a19f30b7c4098f4db734f95073a0ae4a8cfd54d2"
   },
   "outputs": [],
   "source": [
    "normalizer = WordNetLemmatizer()"
   ]
  },
  {
   "cell_type": "code",
   "execution_count": 28,
   "metadata": {
    "_uuid": "b1993148bf95ec38ec5b42f6a425ec9dc6f04d23"
   },
   "outputs": [],
   "source": [
    "df_train_data_2 = df_train_data.copy()\n",
    "df_train_data_2['tweet'] = [' '.join([normalizer.lemmatize(word) for word in t.split()]) for t in df_train_data_2['tweet'].tolist()]\n",
    "X_train, X_validation, y_train, y_validation = train_test_split(df_train_data.tweet, df_train_data.target, test_size = 0.02, random_state = 1234)"
   ]
  },
  {
   "cell_type": "code",
   "execution_count": 29,
   "metadata": {
    "_uuid": "b9bbd0f41a0f1a0f70f2e5a94592794cca889367"
   },
   "outputs": [
    {
     "name": "stdout",
     "output_type": "stream",
     "text": [
      "MultinomialNB(alpha=1.0, class_prior=None, fit_prior=True)\n",
      "result on model with 10000 features\n",
      "model accuracy : 0.76\n",
      "model auc : 0.76\n",
      "train validation time : 11.72s\n",
      "=========================================================\n",
      "result on model with 20000 features\n",
      "model accuracy : 0.77\n",
      "model auc : 0.77\n",
      "train validation time : 11.75s\n",
      "=========================================================\n",
      "result on model with 30000 features\n",
      "model accuracy : 0.78\n",
      "model auc : 0.78\n",
      "train validation time : 11.88s\n",
      "=========================================================\n",
      "result on model with 40000 features\n",
      "model accuracy : 0.78\n",
      "model auc : 0.77\n",
      "train validation time : 12.30s\n",
      "=========================================================\n",
      "result on model with 50000 features\n",
      "model accuracy : 0.77\n",
      "model auc : 0.77\n",
      "train validation time : 12.08s\n",
      "=========================================================\n",
      "result on model with 60000 features\n",
      "model accuracy : 0.77\n",
      "model auc : 0.77\n",
      "train validation time : 11.74s\n",
      "=========================================================\n",
      "result on model with 70000 features\n",
      "model accuracy : 0.78\n",
      "model auc : 0.78\n",
      "train validation time : 11.83s\n",
      "=========================================================\n",
      "result on model with 80000 features\n",
      "model accuracy : 0.78\n",
      "model auc : 0.78\n",
      "train validation time : 11.82s\n",
      "=========================================================\n",
      "result on model with 90000 features\n",
      "model accuracy : 0.78\n",
      "model auc : 0.78\n",
      "train validation time : 12.36s\n",
      "=========================================================\n",
      "result on model with 100000 features\n",
      "model accuracy : 0.78\n",
      "model auc : 0.78\n",
      "train validation time : 11.91s\n",
      "=========================================================\n"
     ]
    }
   ],
   "source": [
    "res_trigram_lemma = compare_clf_nfeature(X_train, X_validation, y_train, y_validation, ngram_range=(1,3))"
   ]
  },
  {
   "cell_type": "markdown",
   "metadata": {
    "_uuid": "fe7e69e18dea4345930e134ec9a90793a47c7521"
   },
   "source": [
    "### Stem"
   ]
  },
  {
   "cell_type": "code",
   "execution_count": 30,
   "metadata": {
    "_uuid": "9da2feba91333872311129ed619ad771e0990b60"
   },
   "outputs": [],
   "source": [
    "from nltk.stem import PorterStemmer"
   ]
  },
  {
   "cell_type": "code",
   "execution_count": 31,
   "metadata": {
    "_uuid": "485c9c73bcab2236165a090394a3fd42319eb90f"
   },
   "outputs": [],
   "source": [
    "normalizer = PorterStemmer()"
   ]
  },
  {
   "cell_type": "code",
   "execution_count": 32,
   "metadata": {
    "_uuid": "c3b31a0cacc82d096b13b0ac21c96fbd2273cd7d"
   },
   "outputs": [],
   "source": [
    "df_train_data_2 = df_train_data.copy()\n",
    "df_train_data_2['tweet'] = [' '.join([normalizer.stem(word) for word in t.split()]) for t in df_train_data_2['tweet'].tolist()]\n",
    "X_train, X_validation, y_train, y_validation = train_test_split(df_train_data.tweet, df_train_data.target, test_size = 0.02, random_state = 1234)"
   ]
  },
  {
   "cell_type": "code",
   "execution_count": 33,
   "metadata": {
    "_uuid": "9c57f08a94ed2fe1952337be815bbf519f59141d"
   },
   "outputs": [
    {
     "data": {
      "text/html": [
       "<div>\n",
       "<style scoped>\n",
       "    .dataframe tbody tr th:only-of-type {\n",
       "        vertical-align: middle;\n",
       "    }\n",
       "\n",
       "    .dataframe tbody tr th {\n",
       "        vertical-align: top;\n",
       "    }\n",
       "\n",
       "    .dataframe thead th {\n",
       "        text-align: right;\n",
       "    }\n",
       "</style>\n",
       "<table border=\"1\" class=\"dataframe\">\n",
       "  <thead>\n",
       "    <tr style=\"text-align: right;\">\n",
       "      <th></th>\n",
       "      <th>tweet</th>\n",
       "      <th>target</th>\n",
       "    </tr>\n",
       "  </thead>\n",
       "  <tbody>\n",
       "    <tr>\n",
       "      <td>548175</td>\n",
       "      <td>nice photo dude may ask for the origin to make...</td>\n",
       "      <td>1</td>\n",
       "    </tr>\n",
       "    <tr>\n",
       "      <td>445307</td>\n",
       "      <td>ok log out if all care probabl not but whatev ...</td>\n",
       "      <td>1</td>\n",
       "    </tr>\n",
       "    <tr>\n",
       "      <td>198986</td>\n",
       "      <td>grace dr appt get shot daddi will have to hold...</td>\n",
       "      <td>0</td>\n",
       "    </tr>\n",
       "    <tr>\n",
       "      <td>128709</td>\n",
       "      <td>have to go shop for black pant when get off of...</td>\n",
       "      <td>0</td>\n",
       "    </tr>\n",
       "    <tr>\n",
       "      <td>563079</td>\n",
       "      <td>gut could not get ticket for your show tonight...</td>\n",
       "      <td>1</td>\n",
       "    </tr>\n",
       "  </tbody>\n",
       "</table>\n",
       "</div>"
      ],
      "text/plain": [
       "                                                    tweet  target\n",
       "548175  nice photo dude may ask for the origin to make...       1\n",
       "445307  ok log out if all care probabl not but whatev ...       1\n",
       "198986  grace dr appt get shot daddi will have to hold...       0\n",
       "128709  have to go shop for black pant when get off of...       0\n",
       "563079  gut could not get ticket for your show tonight...       1"
      ]
     },
     "execution_count": 33,
     "metadata": {},
     "output_type": "execute_result"
    }
   ],
   "source": [
    "df_train_data_2.tail()"
   ]
  },
  {
   "cell_type": "code",
   "execution_count": 34,
   "metadata": {
    "_uuid": "81930f14db51cd5bb68106b387ce74c35c413471"
   },
   "outputs": [
    {
     "name": "stdout",
     "output_type": "stream",
     "text": [
      "MultinomialNB(alpha=1.0, class_prior=None, fit_prior=True)\n",
      "result on model with 10000 features\n",
      "model accuracy : 0.76\n",
      "model auc : 0.76\n",
      "train validation time : 11.62s\n",
      "=========================================================\n",
      "result on model with 20000 features\n",
      "model accuracy : 0.77\n",
      "model auc : 0.77\n",
      "train validation time : 11.71s\n",
      "=========================================================\n",
      "result on model with 30000 features\n",
      "model accuracy : 0.78\n",
      "model auc : 0.78\n",
      "train validation time : 11.62s\n",
      "=========================================================\n",
      "result on model with 40000 features\n",
      "model accuracy : 0.78\n",
      "model auc : 0.77\n",
      "train validation time : 11.67s\n",
      "=========================================================\n",
      "result on model with 50000 features\n",
      "model accuracy : 0.77\n",
      "model auc : 0.77\n",
      "train validation time : 11.88s\n",
      "=========================================================\n",
      "result on model with 60000 features\n",
      "model accuracy : 0.77\n",
      "model auc : 0.77\n",
      "train validation time : 11.78s\n",
      "=========================================================\n",
      "result on model with 70000 features\n",
      "model accuracy : 0.78\n",
      "model auc : 0.78\n",
      "train validation time : 11.83s\n",
      "=========================================================\n",
      "result on model with 80000 features\n",
      "model accuracy : 0.78\n",
      "model auc : 0.78\n",
      "train validation time : 11.77s\n",
      "=========================================================\n",
      "result on model with 90000 features\n",
      "model accuracy : 0.78\n",
      "model auc : 0.78\n",
      "train validation time : 11.75s\n",
      "=========================================================\n",
      "result on model with 100000 features\n",
      "model accuracy : 0.78\n",
      "model auc : 0.78\n",
      "train validation time : 12.02s\n",
      "=========================================================\n"
     ]
    }
   ],
   "source": [
    "res_trigram_stem = compare_clf_nfeature(X_train, X_validation, y_train, y_validation, ngram_range=(1,3))"
   ]
  },
  {
   "cell_type": "code",
   "execution_count": 35,
   "metadata": {
    "_uuid": "384880f8eb2f5ddba40ae0b7e2444e362b1f57b3"
   },
   "outputs": [],
   "source": [
    "res_trigram_lemma = pd.DataFrame(res_trigram_lemma, columns=cols)\n",
    "res_trigram_stem = pd.DataFrame(res_trigram_stem, columns=cols)"
   ]
  },
  {
   "cell_type": "code",
   "execution_count": 36,
   "metadata": {
    "_uuid": "87567bc83c8aeddff3ff3f561ab5455fdc3ec189"
   },
   "outputs": [
    {
     "data": {
      "text/plain": [
       "<matplotlib.legend.Legend at 0x7f6a81f03710>"
      ]
     },
     "execution_count": 36,
     "metadata": {},
     "output_type": "execute_result"
    },
    {
     "data": {
      "image/png": "[encoded data removed]",
      "text/plain": [
       "<Figure size 576x288 with 1 Axes>"
      ]
     },
     "metadata": {
      "needs_background": "light"
     },
     "output_type": "display_data"
    }
   ],
   "source": [
    "plt.figure(figsize=(8,4))\n",
    "plt.plot(res_trigram.n_features, res_trigram.val_acc, label='trigram')\n",
    "plt.plot(res_trigram_lemma.n_features, res_trigram_lemma.val_acc, label='lemmatized')\n",
    "plt.plot(res_trigram_stem.n_features, res_trigram_stem.val_acc, label='stemmed')\n",
    "plt.title(\"comparison of model performance (different normalization)\")\n",
    "plt.xlabel(\"num of features\")\n",
    "plt.ylabel(\"model validation accuracy\")\n",
    "plt.legend()"
   ]
  },
  {
   "cell_type": "markdown",
   "metadata": {
    "_uuid": "2e706e6ab7305b20853fe8f1fde80ca9a14f6f92"
   },
   "source": [
    "### TfIdf"
   ]
  },
  {
   "cell_type": "code",
   "execution_count": 37,
   "metadata": {
    "_uuid": "2822f661304a82f7f406933264f8fc5c2d3ac2be"
   },
   "outputs": [
    {
     "name": "stdout",
     "output_type": "stream",
     "text": [
      "MultinomialNB(alpha=1.0, class_prior=None, fit_prior=True)\n",
      "result on model with 10000 features\n",
      "model accuracy : 0.76\n",
      "model auc : 0.76\n",
      "train validation time : 11.57s\n",
      "=========================================================\n",
      "result on model with 20000 features\n",
      "model accuracy : 0.78\n",
      "model auc : 0.78\n",
      "train validation time : 11.94s\n",
      "=========================================================\n",
      "result on model with 30000 features\n",
      "model accuracy : 0.78\n",
      "model auc : 0.78\n",
      "train validation time : 11.76s\n",
      "=========================================================\n",
      "result on model with 40000 features\n",
      "model accuracy : 0.78\n",
      "model auc : 0.78\n",
      "train validation time : 11.71s\n",
      "=========================================================\n",
      "result on model with 50000 features\n",
      "model accuracy : 0.78\n",
      "model auc : 0.78\n",
      "train validation time : 11.93s\n",
      "=========================================================\n",
      "result on model with 60000 features\n",
      "model accuracy : 0.78\n",
      "model auc : 0.78\n",
      "train validation time : 11.82s\n",
      "=========================================================\n",
      "result on model with 70000 features\n",
      "model accuracy : 0.78\n",
      "model auc : 0.78\n",
      "train validation time : 11.83s\n",
      "=========================================================\n",
      "result on model with 80000 features\n",
      "model accuracy : 0.78\n",
      "model auc : 0.78\n",
      "train validation time : 11.95s\n",
      "=========================================================\n",
      "result on model with 90000 features\n",
      "model accuracy : 0.78\n",
      "model auc : 0.78\n",
      "train validation time : 11.87s\n",
      "=========================================================\n",
      "result on model with 100000 features\n",
      "model accuracy : 0.78\n",
      "model auc : 0.78\n",
      "train validation time : 11.78s\n",
      "=========================================================\n"
     ]
    }
   ],
   "source": [
    "X_train, X_validation, y_train, y_validation = train_test_split(df_train_data.tweet, df_train_data.target, test_size = 0.02, random_state = 1234)\n",
    "tf_vectorizer = TfidfVectorizer()\n",
    "res_tfidf_trigram = compare_clf_nfeature(X_train, X_validation, y_train, y_validation, ngram_range=(1,3), vectorizer=tf_vectorizer)"
   ]
  },
  {
   "cell_type": "code",
   "execution_count": 38,
   "metadata": {
    "_uuid": "2c927db04f24eb13d470528e18584c28a5d3060e"
   },
   "outputs": [
    {
     "name": "stdout",
     "output_type": "stream",
     "text": [
      "MultinomialNB(alpha=1.0, class_prior=None, fit_prior=True)\n",
      "result on model with 10000 features\n",
      "model accuracy : 0.77\n",
      "model auc : 0.77\n",
      "train validation time : 6.11s\n",
      "=========================================================\n",
      "result on model with 20000 features\n",
      "model accuracy : 0.77\n",
      "model auc : 0.77\n",
      "train validation time : 6.37s\n",
      "=========================================================\n",
      "result on model with 30000 features\n",
      "model accuracy : 0.77\n",
      "model auc : 0.77\n",
      "train validation time : 6.12s\n",
      "=========================================================\n",
      "result on model with 40000 features\n",
      "model accuracy : 0.78\n",
      "model auc : 0.78\n",
      "train validation time : 6.02s\n",
      "=========================================================\n",
      "result on model with 50000 features\n",
      "model accuracy : 0.78\n",
      "model auc : 0.78\n",
      "train validation time : 5.98s\n",
      "=========================================================\n",
      "result on model with 60000 features\n",
      "model accuracy : 0.78\n",
      "model auc : 0.78\n",
      "train validation time : 6.06s\n",
      "=========================================================\n",
      "result on model with 70000 features\n",
      "model accuracy : 0.78\n",
      "model auc : 0.78\n",
      "train validation time : 6.04s\n",
      "=========================================================\n",
      "result on model with 80000 features\n",
      "model accuracy : 0.78\n",
      "model auc : 0.78\n",
      "train validation time : 6.04s\n",
      "=========================================================\n",
      "result on model with 90000 features\n",
      "model accuracy : 0.78\n",
      "model auc : 0.78\n",
      "train validation time : 6.09s\n",
      "=========================================================\n",
      "result on model with 100000 features\n",
      "model accuracy : 0.78\n",
      "model auc : 0.78\n",
      "train validation time : 6.09s\n",
      "=========================================================\n"
     ]
    }
   ],
   "source": [
    "res_tfidf_bigram = compare_clf_nfeature(X_train, X_validation, y_train, y_validation, ngram_range=(1,2), vectorizer=tf_vectorizer)"
   ]
  },
  {
   "cell_type": "code",
   "execution_count": 39,
   "metadata": {
    "_uuid": "20f189b0ecb326fd9cda36cfd6f760ab4fb03cd6"
   },
   "outputs": [
    {
     "name": "stdout",
     "output_type": "stream",
     "text": [
      "MultinomialNB(alpha=1.0, class_prior=None, fit_prior=True)\n",
      "result on model with 10000 features\n",
      "model accuracy : 0.76\n",
      "model auc : 0.76\n",
      "train validation time : 2.16s\n",
      "=========================================================\n",
      "result on model with 20000 features\n",
      "model accuracy : 0.76\n",
      "model auc : 0.76\n",
      "train validation time : 2.16s\n",
      "=========================================================\n",
      "result on model with 30000 features\n",
      "model accuracy : 0.77\n",
      "model auc : 0.76\n",
      "train validation time : 2.17s\n",
      "=========================================================\n",
      "result on model with 40000 features\n",
      "model accuracy : 0.77\n",
      "model auc : 0.77\n",
      "train validation time : 2.16s\n",
      "=========================================================\n",
      "result on model with 50000 features\n",
      "model accuracy : 0.77\n",
      "model auc : 0.77\n",
      "train validation time : 2.22s\n",
      "=========================================================\n",
      "result on model with 60000 features\n",
      "model accuracy : 0.77\n",
      "model auc : 0.77\n",
      "train validation time : 2.20s\n",
      "=========================================================\n",
      "result on model with 70000 features\n",
      "model accuracy : 0.77\n",
      "model auc : 0.77\n",
      "train validation time : 2.31s\n",
      "=========================================================\n",
      "result on model with 80000 features\n",
      "model accuracy : 0.77\n",
      "model auc : 0.77\n",
      "train validation time : 2.27s\n",
      "=========================================================\n",
      "result on model with 90000 features\n",
      "model accuracy : 0.77\n",
      "model auc : 0.77\n",
      "train validation time : 2.19s\n",
      "=========================================================\n",
      "result on model with 100000 features\n",
      "model accuracy : 0.77\n",
      "model auc : 0.77\n",
      "train validation time : 2.17s\n",
      "=========================================================\n"
     ]
    }
   ],
   "source": [
    "res_tfidf_unigram = compare_clf_nfeature(X_train, X_validation, y_train, y_validation, ngram_range=(1,1), vectorizer=tf_vectorizer)"
   ]
  },
  {
   "cell_type": "code",
   "execution_count": 40,
   "metadata": {
    "_uuid": "568c7454eb240de8d1e1527ebd54834d364474ca"
   },
   "outputs": [],
   "source": [
    "res_tfidf_unigram = pd.DataFrame(res_tfidf_unigram, columns=cols)\n",
    "res_tfidf_bigram = pd.DataFrame(res_tfidf_bigram, columns=cols)\n",
    "res_tfidf_trigram = pd.DataFrame(res_tfidf_trigram, columns=cols)"
   ]
  },
  {
   "cell_type": "code",
   "execution_count": 41,
   "metadata": {
    "_uuid": "0fdd0b1c0340da6a1284873ab3a73e5265a02ed2"
   },
   "outputs": [
    {
     "data": {
      "text/plain": [
       "<matplotlib.legend.Legend at 0x7f6a76f00e80>"
      ]
     },
     "execution_count": 41,
     "metadata": {},
     "output_type": "execute_result"
    },
    {
     "data": {
      "image/png": "[encoded data removed]",
      "text/plain": [
       "<Figure size 576x288 with 1 Axes>"
      ]
     },
     "metadata": {
      "needs_background": "light"
     },
     "output_type": "display_data"
    }
   ],
   "source": [
    "plt.figure(figsize=(8,4))\n",
    "plt.plot(res_w_sw.n_features, res_w_sw.val_acc, label='unigram')\n",
    "plt.plot(res_bigram.n_features, res_bigram.val_acc, label='bigram')\n",
    "plt.plot(res_trigram.n_features, res_trigram.val_acc, label='trigram')\n",
    "plt.plot(res_tfidf_unigram.n_features, res_tfidf_unigram.val_acc, label='unigram tfidf', linestyle=':')\n",
    "plt.plot(res_tfidf_bigram.n_features, res_tfidf_bigram.val_acc, label='bigram tfidf', linestyle=':')\n",
    "plt.plot(res_tfidf_trigram.n_features, res_tfidf_trigram.val_acc, label='trigram tfidf', linestyle=':')\n",
    "plt.title(\"comparison of model performance (n-gram)\")\n",
    "plt.xlabel(\"num of features\")\n",
    "plt.ylabel(\"model validation accuracy\")\n",
    "plt.legend()"
   ]
  },
  {
   "cell_type": "markdown",
   "metadata": {
    "_uuid": "144a6e92c038e25719486c960a9b3e8e90c67019"
   },
   "source": [
    "### Final NB Model"
   ]
  },
  {
   "cell_type": "code",
   "execution_count": 42,
   "metadata": {
    "_uuid": "623b49ae8abfb204e3d2c7bcb260d874449842ba"
   },
   "outputs": [],
   "source": [
    "def plot_cm(cm):\n",
    "    labels = ['negative', 'positive']\n",
    "    fig = plt.figure()\n",
    "    ax = fig.add_subplot(111)\n",
    "    cax = ax.matshow(cm)\n",
    "    plt.title('Confusion matrix of the sentiment analysis')\n",
    "    fig.colorbar(cax)\n",
    "    ax.set_xticklabels([''] + labels)\n",
    "    ax.set_yticklabels([''] + labels)\n",
    "    plt.xlabel('Predicted')\n",
    "    plt.ylabel('True')\n",
    "    plt.show()"
   ]
  },
  {
   "cell_type": "markdown",
   "metadata": {
    "_uuid": "68148c5aa628c3c759bbda5224390a10ca81ceb7"
   },
   "source": [
    "#### Count"
   ]
  },
  {
   "cell_type": "code",
   "execution_count": 43,
   "metadata": {
    "_uuid": "ceaff95b45d30f5967e8e4222868f2a0a5c1ef26"
   },
   "outputs": [],
   "source": [
    "X_train, y_train = df_train_data.tweet, df_train_data.target\n",
    "X_test, y_test = df_test_data.tweet, df_test_data.target"
   ]
  },
  {
   "cell_type": "code",
   "execution_count": 44,
   "metadata": {
    "_uuid": "4ebd1400ce0b85e997bd223bd35d823fce09bf15"
   },
   "outputs": [],
   "source": [
    "clf = MultinomialNB()\n",
    "vectorizer = CountVectorizer(ngram_range=(1,3), max_features=90000)\n",
    "X_train = vectorizer.fit_transform(X_train)\n",
    "X_test = vectorizer.transform(X_test)"
   ]
  },
  {
   "cell_type": "code",
   "execution_count": 45,
   "metadata": {
    "_uuid": "a54ca9d7c709f29a61867cd3f77cd74c480ad142"
   },
   "outputs": [
    {
     "name": "stdout",
     "output_type": "stream",
     "text": [
      "0.782328\n",
      "[[395470 104530]\n",
      " [113142 386858]]\n"
     ]
    }
   ],
   "source": [
    "clf.fit(X_train, y_train)\n",
    "probas = clf.predict_proba(X_test)\n",
    "y_pred = np.argmax(probas, axis=-1)\n",
    "y_pred_prob = [i[1] for i in probas]\n",
    "acc_score = accuracy_score(y_test, y_pred)\n",
    "cm = confusion_matrix(y_test, y_pred)\n",
    "\n",
    "print(acc_score)\n",
    "print(cm)"
   ]
  },
  {
   "cell_type": "code",
   "execution_count": 46,
   "metadata": {
    "_uuid": "b1761cf146fc667c816e350996ffdcca4274a46d"
   },
   "outputs": [
    {
     "name": "stdout",
     "output_type": "stream",
     "text": [
      "              precision    recall  f1-score   support\n",
      "\n",
      "           0     0.7775    0.7909    0.7842    500000\n",
      "           1     0.7873    0.7737    0.7804    500000\n",
      "\n",
      "    accuracy                         0.7823   1000000\n",
      "   macro avg     0.7824    0.7823    0.7823   1000000\n",
      "weighted avg     0.7824    0.7823    0.7823   1000000\n",
      "\n"
     ]
    },
    {
     "data": {
      "image/png": "[encoded data removed]",
      "text/plain": [
       "<Figure size 432x288 with 1 Axes>"
      ]
     },
     "metadata": {
      "needs_background": "light"
     },
     "output_type": "display_data"
    },
    {
     "data": {
      "image/png": "[encoded data removed]",
      "text/plain": [
       "<Figure size 432x288 with 2 Axes>"
      ]
     },
     "metadata": {
      "needs_background": "light"
     },
     "output_type": "display_data"
    }
   ],
   "source": [
    "print(classification_report(y_test, y_pred, digits=4))\n",
    "fpr = dict()\n",
    "tpr = dict()\n",
    "roc_auc = dict()\n",
    "\n",
    "fpr, tpr, _ = roc_curve(y_test, y_pred_prob, pos_label=1)\n",
    "roc_auc = auc(fpr, tpr)\n",
    "\n",
    "plt.figure()\n",
    "lw = 2\n",
    "plt.plot(fpr, tpr, color='darkorange',\n",
    "         lw=lw, label='ROC curve (area = %0.2f)' % roc_auc)\n",
    "plt.plot([0, 1], [0, 1], color='navy', lw=lw, linestyle='--')\n",
    "plt.xlim([0.0, 1.0])\n",
    "plt.ylim([0.0, 1.05])\n",
    "plt.xlabel('False Positive Rate')\n",
    "plt.ylabel('True Positive Rate')\n",
    "plt.title('Receiver operating characteristic example')\n",
    "plt.legend(loc=\"lower right\")\n",
    "plt.show()\n",
    "\n",
    "plot_cm(cm)"
   ]
  },
  {
   "cell_type": "markdown",
   "metadata": {
    "_uuid": "6847fd68f0288a3f803191655cb6aaef5347504a"
   },
   "source": [
    "#### TF-Idf"
   ]
  },
  {
   "cell_type": "code",
   "execution_count": 47,
   "metadata": {
    "_uuid": "f9336cf639f523ee9ba139bbff4662de7ad79467"
   },
   "outputs": [
    {
     "name": "stdout",
     "output_type": "stream",
     "text": [
      "0.783869\n",
      "[[401514  98486]\n",
      " [117645 382355]]\n",
      "              precision    recall  f1-score   support\n",
      "\n",
      "           0     0.7734    0.8030    0.7879    500000\n",
      "           1     0.7952    0.7647    0.7796    500000\n",
      "\n",
      "    accuracy                         0.7839   1000000\n",
      "   macro avg     0.7843    0.7839    0.7838   1000000\n",
      "weighted avg     0.7843    0.7839    0.7838   1000000\n",
      "\n"
     ]
    },
    {
     "data": {
      "image/png": "[encoded data removed]",
      "text/plain": [
       "<Figure size 432x288 with 1 Axes>"
      ]
     },
     "metadata": {
      "needs_background": "light"
     },
     "output_type": "display_data"
    },
    {
     "data": {
      "image/png": "[encoded data removed]",
      "text/plain": [
       "<Figure size 432x288 with 2 Axes>"
      ]
     },
     "metadata": {
      "needs_background": "light"
     },
     "output_type": "display_data"
    }
   ],
   "source": [
    "X_train, y_train = df_train_data.tweet, df_train_data.target\n",
    "X_test, y_test = df_test_data.tweet, df_test_data.target\n",
    "clf = MultinomialNB()\n",
    "tf_vectorizer = TfidfVectorizer(ngram_range=(1,3), max_features=90000)\n",
    "X_train = tf_vectorizer.fit_transform(X_train)\n",
    "X_test = tf_vectorizer.transform(X_test)\n",
    "\n",
    "clf.fit(X_train, y_train)\n",
    "probas = clf.predict_proba(X_test)\n",
    "y_pred = np.argmax(probas, axis=-1)\n",
    "y_pred_prob = [i[1] for i in probas]\n",
    "\n",
    "acc_score = accuracy_score(y_test, y_pred)\n",
    "cm = confusion_matrix(y_test, y_pred)\n",
    "\n",
    "print(acc_score)\n",
    "print(cm)\n",
    "\n",
    "print(classification_report(y_test, y_pred, digits=4))\n",
    "fpr = dict()\n",
    "tpr = dict()\n",
    "roc_auc = dict()\n",
    "\n",
    "fpr, tpr, _ = roc_curve(y_test, y_pred_prob, pos_label=1)\n",
    "roc_auc = auc(fpr, tpr)\n",
    "\n",
    "plt.figure()\n",
    "lw = 2\n",
    "plt.plot(fpr, tpr, color='darkorange',\n",
    "         lw=lw, label='ROC curve (area = %0.2f)' % roc_auc)\n",
    "plt.plot([0, 1], [0, 1], color='navy', lw=lw, linestyle='--')\n",
    "plt.xlim([0.0, 1.0])\n",
    "plt.ylim([0.0, 1.05])\n",
    "plt.xlabel('False Positive Rate')\n",
    "plt.ylabel('True Positive Rate')\n",
    "plt.title('Receiver operating characteristic example')\n",
    "plt.legend(loc=\"lower right\")\n",
    "plt.show()\n",
    "\n",
    "plot_cm(cm)"
   ]
  },
  {
   "cell_type": "markdown",
   "metadata": {
    "_uuid": "2f36a6eaf12a9638b9d15bc8f00e1ef20f1e5bfb"
   },
   "source": [
    "### Final Model SVM"
   ]
  },
  {
   "cell_type": "code",
   "execution_count": 48,
   "metadata": {
    "_uuid": "ca88629a2041cfa45a186709d058923b82ad2e57"
   },
   "outputs": [],
   "source": [
    "def plot_auc(label, prediction):\n",
    "    fpr = dict()\n",
    "    tpr = dict()\n",
    "    roc_auc = dict()\n",
    "\n",
    "    fpr, tpr, _ = roc_curve(label, prediction, pos_label=1)\n",
    "    roc_auc = auc(fpr, tpr)\n",
    "\n",
    "    plt.figure()\n",
    "    lw = 2\n",
    "    plt.plot(fpr, tpr, color='darkorange',\n",
    "             lw=lw, label='ROC curve (area = %0.2f)' % roc_auc)\n",
    "    plt.plot([0, 1], [0, 1], color='navy', lw=lw, linestyle='--')\n",
    "    plt.xlim([0.0, 1.0])\n",
    "    plt.ylim([0.0, 1.05])\n",
    "    plt.xlabel('False Positive Rate')\n",
    "    plt.ylabel('True Positive Rate')\n",
    "    plt.title('Receiver operating characteristic example')\n",
    "    plt.legend(loc=\"lower right\")\n",
    "    plt.show()"
   ]
  },
  {
   "cell_type": "code",
   "execution_count": 49,
   "metadata": {
    "_uuid": "752a6a64c0bad000f4ff4dbd82dd6bea1198f7c0"
   },
   "outputs": [],
   "source": [
    "from sklearn.model_selection import StratifiedShuffleSplit, StratifiedKFold\n",
    "from sklearn.model_selection import GridSearchCV\n",
    "from sklearn.calibration import CalibratedClassifierCV\n",
    "\n",
    "def find_params(x_train, y_train):\n",
    "    C_range = np.logspace(-3, 10, 8)\n",
    "    param_grid = dict(C=C_range)\n",
    "    cv = StratifiedShuffleSplit(n_splits=5, test_size=0.2, random_state=42)\n",
    "    grid = GridSearchCV(LinearSVC(), param_grid=param_grid, cv=cv)\n",
    "    grid.fit(x_train, y_train)\n",
    "    \n",
    "    # Draw plot for gamma-C value result\n",
    "    score_dict = grid.grid_scores_\n",
    "\n",
    "    scores = [x[1] for x in score_dict]\n",
    "    scores = np.array(scores).reshape(len(C_range))\n",
    "    \n",
    "    plt.figure(figsize=(8, 6))\n",
    "    plt.subplots_adjust(left=0.15, right=0.95, bottom=0.15, top=0.95)\n",
    "    plt.imshow(scores, interpolation='nearest', cmap=plt.cm.get_cmap(\"Spectral\"))\n",
    "    plt.ylabel('C')\n",
    "    plt.colorbar()\n",
    "    plt.yticks(np.arange(len(C_range)), C_range)\n",
    "    plt.show()\n",
    "    \n",
    "    return grid.best_params_"
   ]
  },
  {
   "cell_type": "code",
   "execution_count": 50,
   "metadata": {
    "_uuid": "95e57b2be1f44c39db5db03f61ebab02847e0800"
   },
   "outputs": [],
   "source": [
    "from sklearn.calibration import CalibratedClassifierCV\n",
    "\n",
    "def sentiment_svm(train, test, C, frac = 1, max_features = None, kernel='linear', ngram_range=(1,3), gamma=0, use_params=False):\n",
    "    X_train, y_train = train.sample(frac=frac, random_state=1234).tweet, train.sample(frac=frac, random_state=1234).target\n",
    "    X_test, y_test = test.sample(frac=frac, random_state=1234).tweet, test.sample(frac=frac, random_state=1234).target\n",
    "\n",
    "    tf_vectorizer = TfidfVectorizer(ngram_range=ngram_range, max_features=max_features)\n",
    "    X_train = tf_vectorizer.fit_transform(X_train)\n",
    "    X_test = tf_vectorizer.transform(X_test)\n",
    "\n",
    "    #svd = TruncatedSVD(n_components=10)\n",
    "    #X_train = svd.fit_transform(X_train)\n",
    "    #X_test = svd.transform(X_test)\n",
    "    \n",
    "    if kernel == 'linear':\n",
    "        if use_params:\n",
    "            params = find_params(X_train, y_train)\n",
    "            print ('Best params: %s' % (params))\n",
    "#             svm = LinearSVC(C=params['C'])\n",
    "            svm = CalibratedClassifierCV(base_estimator=LinearSVC(C=params['C']), cv=5)\n",
    "        else:\n",
    "#             svm = LinearSVC(C=C)\n",
    "            svm = CalibratedClassifierCV(base_estimator=LinearSVC(C=C), cv=5)\n",
    "    else:\n",
    "#         svm = SVC(C=C, gamma=gamma)\n",
    "        svm = CalibratedClassifierCV(base_estimator=SVC(C=C, gamma=gamma), cv=5)\n",
    "        \n",
    "    print(svm)    \n",
    "    \n",
    "    t0 = time()\n",
    "    svm.fit(X_train, y_train)\n",
    "    train_test_time = time() - t0\n",
    "    print(\"training time: {0:.2f}s\".format(train_test_time))\n",
    "    \n",
    "    probas = svm.predict_proba(X_test)\n",
    "    y_pred = np.argmax(probas, axis=-1)\n",
    "    y_pred_prob = [i[1] for i in probas]\n",
    "\n",
    "    acc_score = accuracy_score(y_test, y_pred)\n",
    "    cm = confusion_matrix(y_test, y_pred)\n",
    "    print(\"Model accuracy = {0:.3f}%\".format(acc_score*100))\n",
    "    print(classification_report(y_test, y_pred, digits=4))\n",
    "\n",
    "    plot_auc(y_test, y_pred_prob)\n",
    "    plot_cm(cm)"
   ]
  },
  {
   "cell_type": "code",
   "execution_count": 51,
   "metadata": {
    "_uuid": "d4f3d99fb0143586c1fa0bb24d2a4efa712920fb"
   },
   "outputs": [
    {
     "name": "stdout",
     "output_type": "stream",
     "text": [
      "CalibratedClassifierCV(base_estimator=LinearSVC(C=0.5, class_weight=None,\n",
      "                                                dual=True, fit_intercept=True,\n",
      "                                                intercept_scaling=1,\n",
      "                                                loss='squared_hinge',\n",
      "                                                max_iter=1000,\n",
      "                                                multi_class='ovr', penalty='l2',\n",
      "                                                random_state=None, tol=0.0001,\n",
      "                                                verbose=0),\n",
      "                       cv=5, method='sigmoid')\n",
      "training time: 5.30s\n",
      "Model accuracy = 79.868%\n",
      "              precision    recall  f1-score   support\n",
      "\n",
      "           0     0.7806    0.8309    0.8050    500000\n",
      "           1     0.8192    0.7665    0.7920    500000\n",
      "\n",
      "    accuracy                         0.7987   1000000\n",
      "   macro avg     0.7999    0.7987    0.7985   1000000\n",
      "weighted avg     0.7999    0.7987    0.7985   1000000\n",
      "\n"
     ]
    },
    {
     "data": {
      "image/png": "[encoded data removed]",
      "text/plain": [
       "<Figure size 432x288 with 1 Axes>"
      ]
     },
     "metadata": {
      "needs_background": "light"
     },
     "output_type": "display_data"
    },
    {
     "data": {
      "image/png": "[encoded data removed]",
      "text/plain": [
       "<Figure size 432x288 with 2 Axes>"
      ]
     },
     "metadata": {
      "needs_background": "light"
     },
     "output_type": "display_data"
    }
   ],
   "source": [
    "sentiment_svm(df_train_data, df_test_data, 0.5)"
   ]
  },
  {
   "cell_type": "code",
   "execution_count": 52,
   "metadata": {
    "_uuid": "012d07d993c2bc7943a8254ad9cacf93a7f1ef28"
   },
   "outputs": [
    {
     "name": "stdout",
     "output_type": "stream",
     "text": [
      "CalibratedClassifierCV(base_estimator=SVC(C=10, cache_size=200,\n",
      "                                          class_weight=None, coef0=0.0,\n",
      "                                          decision_function_shape='ovr',\n",
      "                                          degree=3, gamma=0.1, kernel='rbf',\n",
      "                                          max_iter=-1, probability=False,\n",
      "                                          random_state=None, shrinking=True,\n",
      "                                          tol=0.001, verbose=False),\n",
      "                       cv=5, method='sigmoid')\n",
      "training time: 19.00s\n",
      "Model accuracy = 73.800%\n",
      "              precision    recall  f1-score   support\n",
      "\n",
      "           0     0.7191    0.7856    0.7509     25129\n",
      "           1     0.7610    0.6899    0.7237     24871\n",
      "\n",
      "    accuracy                         0.7380     50000\n",
      "   macro avg     0.7401    0.7378    0.7373     50000\n",
      "weighted avg     0.7399    0.7380    0.7374     50000\n",
      "\n"
     ]
    },
    {
     "data": {
      "image/png": "[encoded data removed]",
      "text/plain": [
       "<Figure size 432x288 with 1 Axes>"
      ]
     },
     "metadata": {
      "needs_background": "light"
     },
     "output_type": "display_data"
    },
    {
     "data": {
      "image/png": "[encoded data removed]",
      "text/plain": [
       "<Figure size 432x288 with 2 Axes>"
      ]
     },
     "metadata": {
      "needs_background": "light"
     },
     "output_type": "display_data"
    }
   ],
   "source": [
    "sentiment_svm(df_train_data, df_test_data, C=10, frac=0.05, kernel='rbf', gamma=0.1)"
   ]
  },
  {
   "cell_type": "code",
   "execution_count": 53,
   "metadata": {
    "_uuid": "ab3b520c09716cde1d09491f7219ca1145308abf"
   },
   "outputs": [
    {
     "name": "stdout",
     "output_type": "stream",
     "text": [
      "CalibratedClassifierCV(base_estimator=SVC(C=10, cache_size=200,\n",
      "                                          class_weight=None, coef0=0.0,\n",
      "                                          decision_function_shape='ovr',\n",
      "                                          degree=3, gamma=0.1, kernel='rbf',\n",
      "                                          max_iter=-1, probability=False,\n",
      "                                          random_state=None, shrinking=True,\n",
      "                                          tol=0.001, verbose=False),\n",
      "                       cv=5, method='sigmoid')\n",
      "training time: 118.09s\n",
      "Model accuracy = 75.509%\n",
      "              precision    recall  f1-score   support\n",
      "\n",
      "           0     0.7322    0.8048    0.7668     50036\n",
      "           1     0.7830    0.7053    0.7421     49964\n",
      "\n",
      "    accuracy                         0.7551    100000\n",
      "   macro avg     0.7576    0.7551    0.7545    100000\n",
      "weighted avg     0.7576    0.7551    0.7545    100000\n",
      "\n"
     ]
    },
    {
     "data": {
      "image/png": "[encoded data removed]",
      "text/plain": [
       "<Figure size 432x288 with 1 Axes>"
      ]
     },
     "metadata": {
      "needs_background": "light"
     },
     "output_type": "display_data"
    },
    {
     "data": {
      "image/png": "[encoded data removed]",
      "text/plain": [
       "<Figure size 432x288 with 2 Axes>"
      ]
     },
     "metadata": {
      "needs_background": "light"
     },
     "output_type": "display_data"
    }
   ],
   "source": [
    "sentiment_svm(df_train_data, df_test_data, C=10, frac=0.1, kernel='rbf', gamma=0.1)"
   ]
  },
  {
   "cell_type": "markdown",
   "metadata": {
    "_uuid": "66d6a5f7b0e170e3abb0c3860a2092066ce359a2"
   },
   "source": [
    "### Neural Net Model"
   ]
  },
  {
   "cell_type": "code",
   "execution_count": 57,
   "metadata": {
    "_uuid": "9e6736d53d1fe292d596f484f383160749acfbb1"
   },
   "outputs": [
    {
     "name": "stderr",
     "output_type": "stream",
     "text": [
      "Using TensorFlow backend.\n"
     ]
    }
   ],
   "source": [
    "from keras.layers import *\n",
    "from keras.models import Model\n",
    "from keras.preprocessing.text import Tokenizer\n",
    "from keras.preprocessing.sequence import pad_sequences\n",
    "from sklearn.utils import shuffle"
   ]
  },
  {
   "cell_type": "code",
   "execution_count": 58,
   "metadata": {
    "_uuid": "a93a82a742e4a69a7713591586cd1f051cbdc2fe"
   },
   "outputs": [],
   "source": [
    "X_train = list(df_train_data.tweet)\n",
    "X_test = list(df_test_data.tweet)"
   ]
  },
  {
   "cell_type": "code",
   "execution_count": 59,
   "metadata": {
    "_uuid": "abcd96c0d3b17006b89005bb074eaef1db1842ad"
   },
   "outputs": [],
   "source": [
    "y_train = [[1,0] if x == 0 else [0,1] for x in df_train_data.target]\n",
    "y_test = [[1,0] if x == 0 else [0,1] for x in df_test_data.target]"
   ]
  },
  {
   "cell_type": "code",
   "execution_count": 60,
   "metadata": {
    "_uuid": "5be508874cd040aefb1f46b6a7cf82ad76c72583"
   },
   "outputs": [],
   "source": [
    "X_train, y_train = shuffle(X_train, y_train)\n",
    "X_test, y_test = shuffle(X_test, y_test)\n",
    "\n",
    "y_train = np.array(y_train)\n",
    "y_test = np.array(y_test)"
   ]
  },
  {
   "cell_type": "code",
   "execution_count": 61,
   "metadata": {
    "_uuid": "af9e05f669083e124a618e1960c15fef77c9c592"
   },
   "outputs": [],
   "source": [
    "max_feature = 5000\n",
    "maxlen = 50\n",
    "embed_size = 25"
   ]
  },
  {
   "cell_type": "code",
   "execution_count": 62,
   "metadata": {
    "_uuid": "4e29779d583ed9980405da7076c6d6722f690a25"
   },
   "outputs": [],
   "source": [
    "tokenizer = Tokenizer(num_words=max_feature)\n",
    "tokenizer.fit_on_texts(X_train)"
   ]
  },
  {
   "cell_type": "code",
   "execution_count": 63,
   "metadata": {
    "_uuid": "ff4e0b397963bd462a42a8cc8811ca1c3f3ff892"
   },
   "outputs": [],
   "source": [
    "token_train = tokenizer.texts_to_sequences(X_train)\n",
    "token_test = tokenizer.texts_to_sequences(X_test)"
   ]
  },
  {
   "cell_type": "code",
   "execution_count": 64,
   "metadata": {
    "_uuid": "4854fd4f7fbacb67fa8c08d566f83dc286dc9a97"
   },
   "outputs": [],
   "source": [
    "X_train_final = pad_sequences(token_train, maxlen=maxlen, padding='post')\n",
    "X_test_final = pad_sequences(token_test, maxlen=maxlen, padding='post')"
   ]
  },
  {
   "cell_type": "code",
   "execution_count": 65,
   "metadata": {
    "_uuid": "b800fb3c3b312d0b93a26997a508ded5819927ed"
   },
   "outputs": [],
   "source": [
    "from IPython.display import clear_output\n",
    "import keras\n",
    "\n",
    "class PlotLosses(keras.callbacks.Callback):\n",
    "    def on_train_begin(self, logs={}):\n",
    "        self.i = 0\n",
    "        self.x = []\n",
    "        self.losses = []\n",
    "        self.val_losses = []\n",
    "        \n",
    "        self.fig = plt.figure()\n",
    "        \n",
    "        self.logs = []\n",
    "\n",
    "    def on_epoch_end(self, epoch, logs={}):\n",
    "        \n",
    "        self.logs.append(logs)\n",
    "        self.x.append(self.i)\n",
    "        self.losses.append(logs.get('loss'))\n",
    "        self.val_losses.append(logs.get('val_loss'))\n",
    "        self.i += 1\n",
    "        \n",
    "        clear_output(wait=True)\n",
    "        plt.plot(self.x, self.losses, label=\"loss\")\n",
    "        plt.plot(self.x, self.val_losses, label=\"val_loss\")\n",
    "        plt.legend()\n",
    "        plt.show();\n",
    "        \n",
    "plot_losses = PlotLosses()"
   ]
  },
  {
   "cell_type": "code",
   "execution_count": 66,
   "metadata": {
    "_uuid": "50a5a95e8214e1d158cd59ceb14cce6346e40077"
   },
   "outputs": [
    {
     "name": "stdout",
     "output_type": "stream",
     "text": [
      "Model: \"model_1\"\n",
      "_________________________________________________________________\n",
      "Layer (type)                 Output Shape              Param #   \n",
      "=================================================================\n",
      "input_1 (InputLayer)         (None, 50)                0         \n",
      "_________________________________________________________________\n",
      "embedding_1 (Embedding)      (None, 50, 25)            125000    \n",
      "_________________________________________________________________\n",
      "dropout_1 (Dropout)          (None, 50, 25)            0         \n",
      "_________________________________________________________________\n",
      "batch_normalization_1 (Batch (None, 50, 25)            100       \n",
      "_________________________________________________________________\n",
      "conv1d_1 (Conv1D)            (None, 50, 16)            3216      \n",
      "_________________________________________________________________\n",
      "dropout_2 (Dropout)          (None, 50, 16)            0         \n",
      "_________________________________________________________________\n",
      "batch_normalization_2 (Batch (None, 50, 16)            64        \n",
      "_________________________________________________________________\n",
      "conv1d_2 (Conv1D)            (None, 50, 16)            1040      \n",
      "_________________________________________________________________\n",
      "dropout_3 (Dropout)          (None, 50, 16)            0         \n",
      "_________________________________________________________________\n",
      "batch_normalization_3 (Batch (None, 50, 16)            64        \n",
      "_________________________________________________________________\n",
      "conv1d_3 (Conv1D)            (None, 50, 16)            1040      \n",
      "_________________________________________________________________\n",
      "dropout_4 (Dropout)          (None, 50, 16)            0         \n",
      "_________________________________________________________________\n",
      "batch_normalization_4 (Batch (None, 50, 16)            64        \n",
      "_________________________________________________________________\n",
      "conv1d_4 (Conv1D)            (None, 50, 16)            1040      \n",
      "_________________________________________________________________\n",
      "dropout_5 (Dropout)          (None, 50, 16)            0         \n",
      "_________________________________________________________________\n",
      "conv1d_5 (Conv1D)            (None, 50, 2)             34        \n",
      "_________________________________________________________________\n",
      "global_average_pooling1d_1 ( (None, 2)                 0         \n",
      "_________________________________________________________________\n",
      "activation_1 (Activation)    (None, 2)                 0         \n",
      "=================================================================\n",
      "Total params: 131,662\n",
      "Trainable params: 131,516\n",
      "Non-trainable params: 146\n",
      "_________________________________________________________________\n"
     ]
    }
   ],
   "source": [
    "from keras import optimizers\n",
    "from keras import regularizers\n",
    "eta = 1\n",
    "\n",
    "input = Input(shape=(maxlen,))\n",
    "net = Embedding(max_feature, embed_size)(input)\n",
    "net = Dropout(0.2)(net)\n",
    "net = BatchNormalization()(net)\n",
    "\n",
    "net = Conv1D(16, 8, padding='same', activation='relu')(net)\n",
    "net = Dropout(0.2)(net)\n",
    "net = BatchNormalization()(net)\n",
    "net = Conv1D(16, 4, padding='same', activation='relu')(net)\n",
    "net = Dropout(0.2)(net)\n",
    "net = BatchNormalization()(net)\n",
    "net = Conv1D(16, 4, padding='same', activation='relu')(net)\n",
    "net = Dropout(0.2)(net)\n",
    "net = BatchNormalization()(net)\n",
    "net = Conv1D(16, 4, padding='same', activation='relu')(net)\n",
    "net = Dropout(0.2)(net)\n",
    "net1 = BatchNormalization()(net)\n",
    "\n",
    "net = Conv1D(2, 1)(net)\n",
    "net = GlobalAveragePooling1D()(net)\n",
    "output = Activation('softmax')(net)\n",
    "model = Model(inputs = input, outputs = output)\n",
    "ada = optimizers.Adadelta(lr=eta, rho=0.95, epsilon=None, decay=0.0)\n",
    "model.compile(optimizer=ada, loss='categorical_crossentropy', metrics=['acc'])\n",
    "model.summary()"
   ]
  },
  {
   "cell_type": "code",
   "execution_count": 69,
   "metadata": {
    "_uuid": "27b6e0bd4f930b5d60375c8d16d5e39ddb9b7c94"
   },
   "outputs": [
    {
     "data": {
      "image/png": "[encoded data removed]",
      "text/plain": [
       "<Figure size 432x288 with 1 Axes>"
      ]
     },
     "metadata": {
      "needs_background": "light"
     },
     "output_type": "display_data"
    },
    {
     "data": {
      "image/png": "[encoded data removed]",
      "text/plain": [
       "<Figure size 432x288 with 2 Axes>"
      ]
     },
     "metadata": {
      "needs_background": "light"
     },
     "output_type": "display_data"
    },
    {
     "name": "stderr",
     "output_type": "stream",
     "text": [
      "/opt/conda/lib/python3.6/site-packages/sklearn/metrics/classification.py:1437: UndefinedMetricWarning: Precision and F-score are ill-defined and being set to 0.0 in labels with no predicted samples.\n",
      "  'precision', 'predicted', average, warn_for)\n"
     ]
    },
    {
     "name": "stdout",
     "output_type": "stream",
     "text": [
      "              precision    recall  f1-score   support\n",
      "\n",
      "           0     0.0000    0.0000    0.0000    500000\n",
      "           1     0.5000    1.0000    0.6667    500000\n",
      "\n",
      "    accuracy                         0.5000   1000000\n",
      "   macro avg     0.2500    0.5000    0.3333   1000000\n",
      "weighted avg     0.2500    0.5000    0.3333   1000000\n",
      "\n"
     ]
    }
   ],
   "source": [
    "y_prob = model.predict(X_test_final)\n",
    "y_pred = y_prob.argmax(axis=-1)\n",
    "y_test_raw = [0 if (x == [1,0]).all() else 1 for x in y_test]\n",
    "y_pred_prob = [i[1] for i in y_prob]\n",
    "plot_auc(y_test_raw, y_pred_prob)\n",
    "plot_cm(confusion_matrix(y_test_raw, y_pred))\n",
    "print(classification_report(y_test_raw, y_pred, digits=4))"
   ]
  },
  {
   "cell_type": "code",
   "execution_count": null,
   "metadata": {
    "_uuid": "40258bd2cf79613a568a332e98390011444d77e0"
   },
   "outputs": [],
   "source": []
  },
  {
   "cell_type": "code",
   "execution_count": 70,
   "metadata": {
    "_uuid": "17f52e98c61f24afb0d3cd47f0b4c72d2daef33a"
   },
   "outputs": [],
   "source": [
    "from keras.utils import to_categorical\n",
    "from keras.models import Sequential\n",
    "\n",
    "def lstm_rnn_classifier(train_df, test_df, vectorizer):\n",
    "    if vectorizer == 'cv':\n",
    "        vctr = CountVectorizer()\n",
    "    elif vectorizer == 'ngram':\n",
    "        vctr = CountVectorizer()\n",
    "    elif vectorizer == 'tfidf':\n",
    "        vctr = TfidfVectorizer()\n",
    "        \n",
    "    X_train, y_train = vctr.fit_transform(train_df['tweet']), train_df['target']\n",
    "    X_test, y_test = vctr.transform(test_df['tweet']), test_df['target']\n",
    "    \n",
    "    y_train = to_categorical(y_train)\n",
    "    y_test = to_categorical(y_test)\n",
    "    embed_dim = 128\n",
    "    lstm_out = 196\n",
    "    max_features = 2000\n",
    "    \n",
    "    model = Sequential()\n",
    "    model.add(Embedding(max_features, embed_dim, input_length = X_train.shape[1]))\n",
    "    model.add(SpatialDropout1D(0.4))\n",
    "    model.add(LSTM(lstm_out, dropout=0.2, recurrent_dropout=0.2))\n",
    "    model.add(Dense(2, activation='softmax'))\n",
    "    model.compile(loss = 'categorical_crossentropy', optimizer='adam', metrics = ['accuracy'])\n",
    "    print(model.summary())\n",
    "        \n",
    "    batch_size = 32\n",
    "    epochs = 7\n",
    "    model.fit(X_train, y_train, epochs = epochs, batch_size=batch_size, verbose = 2)\n",
    "    \n",
    "    y_pred = model.predict(X_test)\n",
    "    cm = confusion_matrix(y_test, y_pred)\n",
    "    accuracy = accuracy_score(y_pred, y_test)\n",
    "    plot_auc(y_test, y_pred)\n",
    "    \n",
    "    return y_pred, cm, model, accuracy, y_test"
   ]
  },
  {
   "cell_type": "code",
   "execution_count": null,
   "metadata": {
    "_uuid": "79f7b9fee2f5d1f6d234dd95afde9c7d80d8c8d4"
   },
   "outputs": [
    {
     "name": "stdout",
     "output_type": "stream",
     "text": [
      "Model: \"sequential_1\"\n",
      "_________________________________________________________________\n",
      "Layer (type)                 Output Shape              Param #   \n",
      "=================================================================\n",
      "embedding_2 (Embedding)      (None, 52872, 128)        256000    \n",
      "_________________________________________________________________\n",
      "spatial_dropout1d_1 (Spatial (None, 52872, 128)        0         \n",
      "_________________________________________________________________\n",
      "lstm_1 (LSTM)                (None, 196)               254800    \n",
      "_________________________________________________________________\n",
      "dense_1 (Dense)              (None, 2)                 394       \n",
      "=================================================================\n",
      "Total params: 511,194\n",
      "Trainable params: 511,194\n",
      "Non-trainable params: 0\n",
      "_________________________________________________________________\n",
      "None\n",
      "Epoch 1/7\n"
     ]
    }
   ],
   "source": [
    "lstm_rnn_classifier(df_train_data, df_test_data, 'tfidf')"
   ]
  },
  {
   "cell_type": "code",
   "execution_count": null,
   "metadata": {},
   "outputs": [],
   "source": []
  }
 ],
 "metadata": {
  "kernelspec": {
   "display_name": "Python 3",
   "language": "python",
   "name": "python3"
  },
  "language_info": {
   "codemirror_mode": {
    "name": "ipython",
    "version": 3
   },
   "file_extension": ".py",
   "mimetype": "text/x-python",
   "name": "python",
   "nbconvert_exporter": "python",
   "pygments_lexer": "ipython3",
   "version": "3.6.5"
  }
 },
 "nbformat": 4,
 "nbformat_minor": 1
}
