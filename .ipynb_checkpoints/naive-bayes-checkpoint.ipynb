{
 "cells": [
  {
   "cell_type": "code",
   "execution_count": 12,
   "metadata": {},
   "outputs": [
    {
     "name": "stdout",
     "output_type": "stream",
     "text": [
      "[nltk_data] Downloading package wordnet to /Users/fadhil/nltk_data...\n",
      "[nltk_data]   Package wordnet is already up-to-date!\n"
     ]
    }
   ],
   "source": [
    "import numpy as np\n",
    "import pandas as pd\n",
    "import matplotlib.pyplot as plt\n",
    "import nltk\n",
    "nltk.download('wordnet')\n",
    "from nltk.corpus import stopwords\n",
    "from nltk.stem.porter import *\n",
    "from nltk.stem import WordNetLemmatizer\n",
    "from sklearn.feature_extraction.text import CountVectorizer\n",
    "from sklearn.feature_extraction.text import TfidfVectorizer\n",
    "from sklearn.model_selection import train_test_split\n",
    "from sklearn.naive_bayes import GaussianNB\n",
    "from sklearn.svm import LinearSVC\n",
    "from sklearn.metrics import confusion_matrix\n",
    "# from imblearn.over_sampling import RandomOverSampler\n",
    "# from imblearn.under_sampling import RandomUnderSampler"
   ]
  },
  {
   "cell_type": "code",
   "execution_count": 13,
   "metadata": {},
   "outputs": [
    {
     "data": {
      "text/html": [
       "<div>\n",
       "<style scoped>\n",
       "    .dataframe tbody tr th:only-of-type {\n",
       "        vertical-align: middle;\n",
       "    }\n",
       "\n",
       "    .dataframe tbody tr th {\n",
       "        vertical-align: top;\n",
       "    }\n",
       "\n",
       "    .dataframe thead th {\n",
       "        text-align: right;\n",
       "    }\n",
       "</style>\n",
       "<table border=\"1\" class=\"dataframe\">\n",
       "  <thead>\n",
       "    <tr style=\"text-align: right;\">\n",
       "      <th></th>\n",
       "      <th>review</th>\n",
       "      <th>score</th>\n",
       "    </tr>\n",
       "  </thead>\n",
       "  <tbody>\n",
       "    <tr>\n",
       "      <th>0</th>\n",
       "      <td>Before I begin I'd just like point out that I ...</td>\n",
       "      <td>1.0</td>\n",
       "    </tr>\n",
       "    <tr>\n",
       "      <th>1</th>\n",
       "      <td>I love all 4 of the movies. The way the storyl...</td>\n",
       "      <td>5.0</td>\n",
       "    </tr>\n",
       "    <tr>\n",
       "      <th>2</th>\n",
       "      <td>i love this movie. it is something i would cal...</td>\n",
       "      <td>5.0</td>\n",
       "    </tr>\n",
       "    <tr>\n",
       "      <th>3</th>\n",
       "      <td>I really enjoy this movie so much,that I told ...</td>\n",
       "      <td>5.0</td>\n",
       "    </tr>\n",
       "    <tr>\n",
       "      <th>4</th>\n",
       "      <td>Having been a fan of Walt Disney movies for ye...</td>\n",
       "      <td>5.0</td>\n",
       "    </tr>\n",
       "  </tbody>\n",
       "</table>\n",
       "</div>"
      ],
      "text/plain": [
       "                                              review  score\n",
       "0  Before I begin I'd just like point out that I ...    1.0\n",
       "1  I love all 4 of the movies. The way the storyl...    5.0\n",
       "2  i love this movie. it is something i would cal...    5.0\n",
       "3  I really enjoy this movie so much,that I told ...    5.0\n",
       "4  Having been a fan of Walt Disney movies for ye...    5.0"
      ]
     },
     "execution_count": 13,
     "metadata": {},
     "output_type": "execute_result"
    }
   ],
   "source": [
    "# train_data = pd.read_csv('data/lab_train.csv')\n",
    "\n",
    "# Fadel\n",
    "train_data = pd.read_csv('./Lab1/lab_train.txt', sep=\",\")\n",
    "\n",
    "train_data = train_data[['review', 'score']]\n",
    "\n",
    "\n",
    "train_data.head()"
   ]
  },
  {
   "cell_type": "code",
   "execution_count": 5,
   "metadata": {},
   "outputs": [
    {
     "data": {
      "text/html": [
       "<div>\n",
       "<style scoped>\n",
       "    .dataframe tbody tr th:only-of-type {\n",
       "        vertical-align: middle;\n",
       "    }\n",
       "\n",
       "    .dataframe tbody tr th {\n",
       "        vertical-align: top;\n",
       "    }\n",
       "\n",
       "    .dataframe thead th {\n",
       "        text-align: right;\n",
       "    }\n",
       "</style>\n",
       "<table border=\"1\" class=\"dataframe\">\n",
       "  <thead>\n",
       "    <tr style=\"text-align: right;\">\n",
       "      <th></th>\n",
       "      <th>review</th>\n",
       "      <th>score</th>\n",
       "    </tr>\n",
       "  </thead>\n",
       "  <tbody>\n",
       "    <tr>\n",
       "      <th>0</th>\n",
       "      <td>How I thank the Lord for this DVD and movie......</td>\n",
       "      <td>5.0</td>\n",
       "    </tr>\n",
       "    <tr>\n",
       "      <th>1</th>\n",
       "      <td>A chance meeting on a train changes the life o...</td>\n",
       "      <td>5.0</td>\n",
       "    </tr>\n",
       "    <tr>\n",
       "      <th>2</th>\n",
       "      <td>Although I bought this box set only a week or ...</td>\n",
       "      <td>5.0</td>\n",
       "    </tr>\n",
       "    <tr>\n",
       "      <th>3</th>\n",
       "      <td>This film has tons of highlights. The waxing s...</td>\n",
       "      <td>4.0</td>\n",
       "    </tr>\n",
       "    <tr>\n",
       "      <th>4</th>\n",
       "      <td>\"Shaun\" is supposed to be a comedic 'spoof' an...</td>\n",
       "      <td>4.0</td>\n",
       "    </tr>\n",
       "  </tbody>\n",
       "</table>\n",
       "</div>"
      ],
      "text/plain": [
       "                                              review  score\n",
       "0  How I thank the Lord for this DVD and movie......    5.0\n",
       "1  A chance meeting on a train changes the life o...    5.0\n",
       "2  Although I bought this box set only a week or ...    5.0\n",
       "3  This film has tons of highlights. The waxing s...    4.0\n",
       "4  \"Shaun\" is supposed to be a comedic 'spoof' an...    4.0"
      ]
     },
     "execution_count": 5,
     "metadata": {},
     "output_type": "execute_result"
    }
   ],
   "source": [
    "# test_data = pd.read_csv('data/lab_test.csv')\n",
    "\n",
    "test_data = pd.read_csv('./Lab1/lab_test.txt', sep=\",\")\n",
    "\n",
    "test_data = test_data[['review', 'score']]\n",
    "test_data.head()"
   ]
  },
  {
   "cell_type": "code",
   "execution_count": 199,
   "metadata": {},
   "outputs": [
    {
     "data": {
      "text/html": [
       "<div>\n",
       "<style scoped>\n",
       "    .dataframe tbody tr th:only-of-type {\n",
       "        vertical-align: middle;\n",
       "    }\n",
       "\n",
       "    .dataframe tbody tr th {\n",
       "        vertical-align: top;\n",
       "    }\n",
       "\n",
       "    .dataframe thead th {\n",
       "        text-align: right;\n",
       "    }\n",
       "</style>\n",
       "<table border=\"1\" class=\"dataframe\">\n",
       "  <thead>\n",
       "    <tr style=\"text-align: right;\">\n",
       "      <th></th>\n",
       "      <th>review</th>\n",
       "    </tr>\n",
       "  </thead>\n",
       "  <tbody>\n",
       "    <tr>\n",
       "      <th>0</th>\n",
       "      <td>thecheckinstaffwereveryfriendlyandcouldnotdoen...</td>\n",
       "    </tr>\n",
       "    <tr>\n",
       "      <th>1</th>\n",
       "      <td>theroomwagreatmoderncleanrobeslipperwereawelco...</td>\n",
       "    </tr>\n",
       "    <tr>\n",
       "      <th>2</th>\n",
       "      <td>thisisagreathotelthestaffareveryfriendlyandpro...</td>\n",
       "    </tr>\n",
       "    <tr>\n",
       "      <th>3</th>\n",
       "      <td>thepriceoftheroomwhichwestayedinwawithoutbreak...</td>\n",
       "    </tr>\n",
       "    <tr>\n",
       "      <th>4</th>\n",
       "      <td>theparkingfacilityareexcellentbutdidfindthecha...</td>\n",
       "    </tr>\n",
       "  </tbody>\n",
       "</table>\n",
       "</div>"
      ],
      "text/plain": [
       "                                              review\n",
       "0  thecheckinstaffwereveryfriendlyandcouldnotdoen...\n",
       "1  theroomwagreatmoderncleanrobeslipperwereawelco...\n",
       "2  thisisagreathotelthestaffareveryfriendlyandpro...\n",
       "3  thepriceoftheroomwhichwestayedinwawithoutbreak...\n",
       "4  theparkingfacilityareexcellentbutdidfindthecha..."
      ]
     },
     "execution_count": 199,
     "metadata": {},
     "output_type": "execute_result"
    }
   ],
   "source": [
    "hotel_review_data = pd.read_csv('data/evaluation_dataset.csv')\n",
    "hotel_review_data_cleaned = data_preprocess_lemmatize(hotel_review_data.copy())\n",
    "hotel_review_data_cleaned.head()"
   ]
  },
  {
   "cell_type": "code",
   "execution_count": 6,
   "metadata": {},
   "outputs": [],
   "source": [
    "def naive_bayes_clf(train, test, vectorizer, ngram_range = None):\n",
    "    ## generate train and test data\n",
    "\n",
    "    if vectorizer == 'cv':\n",
    "        vctr = CountVectorizer()\n",
    "    elif vectorizer == 'ngram':\n",
    "        vctr = CountVectorizer(ngram_range=ngram_range)\n",
    "    elif vectorizer == 'tfidf':\n",
    "        vctr = TfidfVectorizer(ngram_range=ngram_range)\n",
    "    \n",
    "    train_review = vctr.fit_transform(train['review'])\n",
    "    test_review = vctr.transform(test['review'])\n",
    "\n",
    "    train_label = train['sentiment']\n",
    "    test_label = test['sentiment']\n",
    "    \n",
    "    ## create naive bayes model\n",
    "    clf = GaussianNB()\n",
    "    clf.fit(train_review.toarray(), train_label)\n",
    "\n",
    "    label_pred = clf.predict(test_review.toarray())\n",
    "\n",
    "    # generate confusion matrix of the prediction\n",
    "    cm = confusion_matrix(test_label, label_pred)\n",
    "    \n",
    "    return label_pred, cm, clf"
   ]
  },
  {
   "cell_type": "code",
   "execution_count": 14,
   "metadata": {},
   "outputs": [],
   "source": [
    "def svm_clf(train, test, vectorizer, ngram_range = None):\n",
    "    ## generate train and test data\n",
    "\n",
    "    if vectorizer == 'cv':\n",
    "        vctr = CountVectorizer()\n",
    "    elif vectorizer == 'ngram':\n",
    "        vctr = CountVectorizer(ngram_range=ngram_range)\n",
    "    elif vectorizer == 'tfidf':\n",
    "        vctr = TfidfVectorizer(ngram_range=ngram_range)\n",
    "    \n",
    "    train_review = vctr.fit_transform(train['review'])\n",
    "    test_review = vctr.transform(test['review'])\n",
    "\n",
    "    train_label = train['sentiment']\n",
    "    test_label = test['sentiment']\n",
    "    \n",
    "    ## create naive bayes model\n",
    "    clf = LinearSVC()\n",
    "    clf.fit(train_review.toarray(), train_label)\n",
    "\n",
    "    label_pred = clf.predict(test_review.toarray())\n",
    "\n",
    "    # generate confusion matrix of the prediction\n",
    "    cm = confusion_matrix(test_label, label_pred)\n",
    "    \n",
    "    return label_pred, cm, clf"
   ]
  },
  {
   "cell_type": "markdown",
   "metadata": {},
   "source": [
    "### Experiment 1 (Stemming only)"
   ]
  },
  {
   "cell_type": "code",
   "execution_count": 23,
   "metadata": {},
   "outputs": [],
   "source": [
    "#mapping score to sentiment\n",
    "def map_score(data):\n",
    "#     data['sentiment'] = 0\n",
    "    data.loc[data['score'] >= 3, 'sentiment'] = 1\n",
    "    data.loc[data['score'] < 3, 'sentiment'] = -1\n",
    "    \n",
    "    return data"
   ]
  },
  {
   "cell_type": "code",
   "execution_count": 8,
   "metadata": {},
   "outputs": [],
   "source": [
    "def data_preprocess(data, norm_type):\n",
    "    replace_no_space = re.compile(\"(\\\\n)|(\\.)|(\\;)|(\\:)|(\\!)|(\\')|(\\?)|(\\,)|(\\\")|(\\()|(\\))|(\\[)|(\\])\")\n",
    "    replace_with_space = re.compile(\"(<[^>]*>)|(<br\\s*/><br\\s*/>)|(\\-)|(\\/)|([^a-zA-z])\")\n",
    "    stop_words = ['in', 'of', 'the', 'at', 'a', 'an', 'is', 'are', 'am', 'was', 'were']\n",
    "    \n",
    "    data['review'] = data['review'].str.lower()\n",
    "    \n",
    "    data['review'] = [''.join(replace_no_space.sub(\"\", x)) for x in data['review'].tolist()] #remove special char\n",
    "    data['review'] = [''.join(replace_with_space.sub(\" \", x)) for x in data['review'].tolist()] #remove special char\n",
    "    \n",
    "    data['review'] = [' '.join([word for word in x.split() if word not in stop_words]) \n",
    "                               for x in data['review'].tolist()] # remove stop words\n",
    "    \n",
    "    if norm_type == 'stem':\n",
    "        normalizer = PorterStemmer()\n",
    "        data['review'] = [' '.join([normalizer.stem(word) for word in x.split()]) \n",
    "                               for x in data['review'].tolist()] #stem words\n",
    "    elif norm_type == 'lemma':\n",
    "        normalizer = WordNetLemmatizer()\n",
    "        data['review'] = [' '.join([normalizer.lemmatize(word) for word in x.split()]) \n",
    "                               for x in data['review'].tolist()] #lemmatize words\n",
    "        \n",
    "    return data"
   ]
  },
  {
   "cell_type": "code",
   "execution_count": 15,
   "metadata": {},
   "outputs": [],
   "source": [
    "def plot_cm(cm):\n",
    "    labels = ['negative', 'positive']\n",
    "    fig = plt.figure()\n",
    "    ax = fig.add_subplot(111)\n",
    "    cax = ax.matshow(cm)\n",
    "    plt.title('Confusion matrix of the sentiment analysis')\n",
    "    fig.colorbar(cax)\n",
    "    ax.set_xticklabels([''] + labels)\n",
    "    ax.set_yticklabels([''] + labels)\n",
    "    plt.xlabel('Predicted')\n",
    "    plt.ylabel('True')\n",
    "    plt.show()"
   ]
  },
  {
   "cell_type": "code",
   "execution_count": 24,
   "metadata": {},
   "outputs": [],
   "source": [
    "df_train_data = train_data.copy()\n",
    "df_test_data = test_data.copy()\n",
    "\n",
    "## map score to sentiment\n",
    "df_train_data = map_score(df_train_data)\n",
    "df_test_data = map_score(df_test_data)\n",
    "\n",
    "## preprocess data\n",
    "df_train_data = data_preprocess(df_train_data, 'stem')\n",
    "df_test_data = data_preprocess(df_test_data, 'stem')"
   ]
  },
  {
   "cell_type": "code",
   "execution_count": 25,
   "metadata": {},
   "outputs": [],
   "source": [
    "## build model an predict\n",
    "label_pred, cm, clf = naive_bayes_clf(df_train_data, df_test_data, 'cv')"
   ]
  },
  {
   "cell_type": "code",
   "execution_count": 26,
   "metadata": {},
   "outputs": [],
   "source": [
    "## build model an predict using SVC\n",
    "label_pred, cm, clf = svm_clf(df_train_data, df_test_data, 'cv')"
   ]
  },
  {
   "cell_type": "code",
   "execution_count": 27,
   "metadata": {},
   "outputs": [
    {
     "data": {
      "text/plain": [
       "array([[ 3,  9],\n",
       "       [ 5, 83]])"
      ]
     },
     "execution_count": 27,
     "metadata": {},
     "output_type": "execute_result"
    }
   ],
   "source": [
    "cm"
   ]
  },
  {
   "cell_type": "code",
   "execution_count": 241,
   "metadata": {},
   "outputs": [],
   "source": [
    "vctr = TfidfVectorizer()\n",
    "vctr.fit(df_train_data['review'])\n",
    "hotel_review_data_vec = vctr.transform(hotel_review_data_cleaned['review'])\n",
    "res = clf.predict(hotel_review_data_vec.toarray())"
   ]
  },
  {
   "cell_type": "code",
   "execution_count": 242,
   "metadata": {},
   "outputs": [
    {
     "data": {
      "text/html": [
       "<div>\n",
       "<style scoped>\n",
       "    .dataframe tbody tr th:only-of-type {\n",
       "        vertical-align: middle;\n",
       "    }\n",
       "\n",
       "    .dataframe tbody tr th {\n",
       "        vertical-align: top;\n",
       "    }\n",
       "\n",
       "    .dataframe thead th {\n",
       "        text-align: right;\n",
       "    }\n",
       "</style>\n",
       "<table border=\"1\" class=\"dataframe\">\n",
       "  <thead>\n",
       "    <tr style=\"text-align: right;\">\n",
       "      <th></th>\n",
       "      <th>review</th>\n",
       "      <th>sentiment</th>\n",
       "    </tr>\n",
       "  </thead>\n",
       "  <tbody>\n",
       "    <tr>\n",
       "      <th>0</th>\n",
       "      <td>The check in staff were very friendly and coul...</td>\n",
       "      <td>1</td>\n",
       "    </tr>\n",
       "    <tr>\n",
       "      <th>1</th>\n",
       "      <td>The room was great - modern &amp; clean. Robes &amp; s...</td>\n",
       "      <td>1</td>\n",
       "    </tr>\n",
       "    <tr>\n",
       "      <th>2</th>\n",
       "      <td>This is a great hotel. The staff are very frie...</td>\n",
       "      <td>1</td>\n",
       "    </tr>\n",
       "    <tr>\n",
       "      <th>3</th>\n",
       "      <td>The price of the room which we stayed in was £...</td>\n",
       "      <td>1</td>\n",
       "    </tr>\n",
       "    <tr>\n",
       "      <th>4</th>\n",
       "      <td>The parking facilities are excellent but did f...</td>\n",
       "      <td>0</td>\n",
       "    </tr>\n",
       "  </tbody>\n",
       "</table>\n",
       "</div>"
      ],
      "text/plain": [
       "                                              review  sentiment\n",
       "0  The check in staff were very friendly and coul...          1\n",
       "1  The room was great - modern & clean. Robes & s...          1\n",
       "2  This is a great hotel. The staff are very frie...          1\n",
       "3  The price of the room which we stayed in was £...          1\n",
       "4  The parking facilities are excellent but did f...          0"
      ]
     },
     "execution_count": 242,
     "metadata": {},
     "output_type": "execute_result"
    }
   ],
   "source": [
    "hotel_review_data['sentiment'] = res\n",
    "hotel_review_data.head()"
   ]
  },
  {
   "cell_type": "code",
   "execution_count": 243,
   "metadata": {},
   "outputs": [
    {
     "data": {
      "text/plain": [
       " 1    160\n",
       " 0     24\n",
       "-1     16\n",
       "Name: sentiment, dtype: int64"
      ]
     },
     "execution_count": 243,
     "metadata": {},
     "output_type": "execute_result"
    }
   ],
   "source": [
    "hotel_review_data.sentiment.value_counts()"
   ]
  },
  {
   "cell_type": "code",
   "execution_count": 244,
   "metadata": {},
   "outputs": [],
   "source": [
    "hotel_review_data.to_csv('data/hotel_review_sentiment_newest.csv')"
   ]
  },
  {
   "cell_type": "code",
   "execution_count": 28,
   "metadata": {},
   "outputs": [
    {
     "data": {
      "image/png": "[encoded data removed]",
      "text/plain": [
       "<Figure size 432x288 with 2 Axes>"
      ]
     },
     "metadata": {},
     "output_type": "display_data"
    }
   ],
   "source": [
    "plot_cm(cm)"
   ]
  },
  {
   "cell_type": "code",
   "execution_count": 246,
   "metadata": {},
   "outputs": [
    {
     "data": {
      "text/plain": [
       "array([[ 1,  0, 11],\n",
       "       [ 0,  0,  9],\n",
       "       [ 3,  3, 73]], dtype=int64)"
      ]
     },
     "execution_count": 246,
     "metadata": {},
     "output_type": "execute_result"
    }
   ],
   "source": [
    "cm"
   ]
  },
  {
   "cell_type": "markdown",
   "metadata": {},
   "source": [
    "### Experiment 2 (Lemmatize)"
   ]
  },
  {
   "cell_type": "code",
   "execution_count": 20,
   "metadata": {},
   "outputs": [],
   "source": [
    "df_train_data = train_data.copy()\n",
    "df_test_data = test_data.copy()\n",
    "\n",
    "## map score to sentiment\n",
    "df_train_data = map_score(df_train_data)\n",
    "df_test_data = map_score(df_test_data)\n",
    "\n",
    "## preprocess data\n",
    "df_train_data = data_preprocess(df_train_data, 'lemma')\n",
    "df_test_data = data_preprocess(df_test_data, 'lemma')"
   ]
  },
  {
   "cell_type": "code",
   "execution_count": 21,
   "metadata": {},
   "outputs": [],
   "source": [
    "## build model an predict\n",
    "label_pred, cm, clf = svm_clf(df_train_data, df_test_data, 'cv')"
   ]
  },
  {
   "cell_type": "code",
   "execution_count": 22,
   "metadata": {},
   "outputs": [
    {
     "data": {
      "image/png": "[encoded data removed]",
      "text/plain": [
       "<Figure size 432x288 with 2 Axes>"
      ]
     },
     "metadata": {},
     "output_type": "display_data"
    }
   ],
   "source": [
    "plot_cm(cm)"
   ]
  },
  {
   "cell_type": "code",
   "execution_count": 253,
   "metadata": {},
   "outputs": [
    {
     "data": {
      "text/plain": [
       "array([[ 1,  0, 11],\n",
       "       [ 0,  0,  9],\n",
       "       [ 3,  2, 74]], dtype=int64)"
      ]
     },
     "execution_count": 253,
     "metadata": {},
     "output_type": "execute_result"
    }
   ],
   "source": [
    "cm"
   ]
  },
  {
   "cell_type": "markdown",
   "metadata": {},
   "source": [
    "### Experiment 3 - Lemmatize + n-gram"
   ]
  },
  {
   "cell_type": "code",
   "execution_count": 255,
   "metadata": {},
   "outputs": [],
   "source": [
    "df_train_data = train_data.copy()\n",
    "df_test_data = test_data.copy()\n",
    "\n",
    "## map score to sentiment\n",
    "df_train_data = map_score(df_train_data)\n",
    "df_test_data = map_score(df_test_data)\n",
    "\n",
    "## preprocess data\n",
    "df_train_data = data_preprocess(df_train_data, 'lemma')\n",
    "df_test_data = data_preprocess(df_test_data, 'lemma')"
   ]
  },
  {
   "cell_type": "code",
   "execution_count": 258,
   "metadata": {},
   "outputs": [],
   "source": [
    "## build model an predict\n",
    "label_pred, cm, clf = naive_bayes_clf(df_train_data, df_test_data, 'ngram', (1,3))"
   ]
  },
  {
   "cell_type": "code",
   "execution_count": 259,
   "metadata": {},
   "outputs": [
    {
     "data": {
      "text/plain": [
       "array([[ 0,  0, 12],\n",
       "       [ 0,  0,  9],\n",
       "       [ 1,  1, 77]], dtype=int64)"
      ]
     },
     "execution_count": 259,
     "metadata": {},
     "output_type": "execute_result"
    }
   ],
   "source": [
    "cm"
   ]
  },
  {
   "cell_type": "markdown",
   "metadata": {},
   "source": [
    "### Experiment 4 - Lemmatize + tf-idf"
   ]
  },
  {
   "cell_type": "code",
   "execution_count": 272,
   "metadata": {},
   "outputs": [],
   "source": [
    "df_train_data = train_data.copy()\n",
    "df_test_data = test_data.copy()\n",
    "\n",
    "## map score to sentiment\n",
    "df_train_data = map_score(df_train_data)\n",
    "df_test_data = map_score(df_test_data)\n",
    "\n",
    "## preprocess data\n",
    "df_train_data = data_preprocess(df_train_data, 'lemma')\n",
    "df_test_data = data_preprocess(df_test_data, 'lemma')"
   ]
  },
  {
   "cell_type": "code",
   "execution_count": 275,
   "metadata": {},
   "outputs": [],
   "source": [
    "## build model an predict\n",
    "label_pred, cm, clf = naive_bayes_clf(df_train_data, df_test_data, 'tfidf', (1,3))"
   ]
  },
  {
   "cell_type": "code",
   "execution_count": 276,
   "metadata": {},
   "outputs": [
    {
     "data": {
      "text/plain": [
       "array([[ 0,  0, 12],\n",
       "       [ 0,  0,  9],\n",
       "       [ 1,  1, 77]], dtype=int64)"
      ]
     },
     "execution_count": 276,
     "metadata": {},
     "output_type": "execute_result"
    }
   ],
   "source": [
    "cm"
   ]
  },
  {
   "cell_type": "markdown",
   "metadata": {},
   "source": [
    "### Experiment 5 - over/under sampling"
   ]
  },
  {
   "cell_type": "code",
   "execution_count": 291,
   "metadata": {},
   "outputs": [],
   "source": [
    "def naive_bayes_clf_sampling(train, test, vectorizer, sampling_type, ngram_range = None):\n",
    "    ## generate train and test data\n",
    "\n",
    "    if vectorizer == 'cv':\n",
    "        vctr = CountVectorizer()\n",
    "    elif vectorizer == 'ngram':\n",
    "        vctr = CountVectorizer(ngram_range=ngram_range)\n",
    "    elif vectorizer == 'tfidf':\n",
    "        vctr = TfidfVectorizer(ngram_range=ngram_range)\n",
    "    \n",
    "    train_review = vctr.fit_transform(train['review'])\n",
    "    test_review = vctr.transform(test['review'])\n",
    "\n",
    "    train_label = train['sentiment']\n",
    "    test_label = test['sentiment']\n",
    "    \n",
    "    if sampling_type == 'over':\n",
    "        ros = RandomOverSampler(random_state=10)\n",
    "        ros_train_review, ros_train_label = ros.fit_sample(train_review, train_label)\n",
    "    elif sampling_type == 'under':\n",
    "        ros = RandomUnderSampler(random_state=10)\n",
    "        ros_train_review, ros_train_label = ros.fit_sample(train_review, train_label)        \n",
    "    \n",
    "    print(len(ros_train_label))\n",
    "    ## create naive bayes model\n",
    "    clf = GaussianNB()\n",
    "    clf.fit(ros_train_review.toarray(), ros_train_label)\n",
    "\n",
    "    label_pred = clf.predict(test_review.toarray())\n",
    "\n",
    "    # generate confusion matrix of the prediction\n",
    "    cm = confusion_matrix(test_label, label_pred)\n",
    "    \n",
    "    return label_pred, cm"
   ]
  },
  {
   "cell_type": "code",
   "execution_count": 277,
   "metadata": {},
   "outputs": [],
   "source": [
    "df_train_data = train_data.copy()\n",
    "df_test_data = test_data.copy()\n",
    "\n",
    "## map score to sentiment\n",
    "df_train_data = map_score(df_train_data)\n",
    "df_test_data = map_score(df_test_data)\n",
    "\n",
    "## preprocess data\n",
    "df_train_data = data_preprocess(df_train_data, 'lemma')\n",
    "df_test_data = data_preprocess(df_test_data, 'lemma')"
   ]
  },
  {
   "cell_type": "code",
   "execution_count": 285,
   "metadata": {},
   "outputs": [
    {
     "data": {
      "text/plain": [
       "100"
      ]
     },
     "execution_count": 285,
     "metadata": {},
     "output_type": "execute_result"
    }
   ],
   "source": [
    "len(test_data)"
   ]
  },
  {
   "cell_type": "code",
   "execution_count": 292,
   "metadata": {},
   "outputs": [
    {
     "name": "stdout",
     "output_type": "stream",
     "text": [
      "45\n"
     ]
    }
   ],
   "source": [
    "## build model an predict\n",
    "label_pred, cm = naive_bayes_clf_sampling(df_train_data, df_test_data, 'tfidf', 'under', (1,2))"
   ]
  },
  {
   "cell_type": "code",
   "execution_count": 293,
   "metadata": {},
   "outputs": [
    {
     "data": {
      "text/plain": [
       "array([[ 1,  7,  4],\n",
       "       [ 1,  5,  3],\n",
       "       [ 7, 37, 35]], dtype=int64)"
      ]
     },
     "execution_count": 293,
     "metadata": {},
     "output_type": "execute_result"
    }
   ],
   "source": [
    "cm"
   ]
  },
  {
   "cell_type": "code",
   "execution_count": 81,
   "metadata": {},
   "outputs": [
    {
     "name": "stderr",
     "output_type": "stream",
     "text": [
      "E:\\Anaconda\\Anaconda3\\envs\\machine_learning\\lib\\site-packages\\ipykernel_launcher.py:2: DeprecationWarning: `itemfreq` is deprecated!\n",
      "`itemfreq` is deprecated and will be removed in a future version. Use instead `np.unique(..., return_counts=True)`\n",
      "  \n"
     ]
    },
    {
     "data": {
      "text/plain": [
       "array([[ -1, 158],\n",
       "       [  0, 158],\n",
       "       [  1, 158]], dtype=int64)"
      ]
     },
     "execution_count": 81,
     "metadata": {},
     "output_type": "execute_result"
    }
   ],
   "source": [
    "from scipy.stats import itemfreq\n",
    "itemfreq(ros_train_label)"
   ]
  },
  {
   "cell_type": "markdown",
   "metadata": {},
   "source": [
    "### Use different data for model building"
   ]
  },
  {
   "cell_type": "code",
   "execution_count": 20,
   "metadata": {},
   "outputs": [],
   "source": [
    "data_imdb = pd.read_csv('data/imdb_master.csv', encoding='latin-1')\n",
    "data_imdb = data_imdb.drop(data_imdb.columns[[-1,0]], axis=1)\n",
    "data_imdb = data_imdb[data_imdb.label != 'unsup']\n",
    "data_imdb.loc[data_imdb.label == 'pos', 'sentiment'] = 1\n",
    "data_imdb.loc[data_imdb.label == 'neg', 'sentiment'] = -1\n",
    "data_imdb_train = data_imdb[data_imdb.type == 'train'][['review', 'sentiment']].reset_index(drop = True)\n",
    "data_imdb_test = data_imdb[data_imdb.type == 'test'][['review', 'sentiment']].reset_index(drop = True)\n",
    "data_imdb_train = data_imdb_train.sample(frac=0.1).reset_index(drop = True)\n",
    "data_imdb_test = data_imdb_test.sample(frac=0.1).reset_index(drop = True)"
   ]
  },
  {
   "cell_type": "code",
   "execution_count": 21,
   "metadata": {},
   "outputs": [],
   "source": [
    "df_train_data = data_preprocess(data_imdb_train, 'lemma')\n",
    "df_test_data = data_preprocess(data_imdb_test, 'lemma')"
   ]
  },
  {
   "cell_type": "code",
   "execution_count": 22,
   "metadata": {},
   "outputs": [],
   "source": [
    "label_pred, cm, clf = naive_bayes_clf(df_train_data, df_test_data, 'tfidf', (1,2))"
   ]
  },
  {
   "cell_type": "code",
   "execution_count": 37,
   "metadata": {},
   "outputs": [
    {
     "data": {
      "text/plain": [
       "0.7112"
      ]
     },
     "execution_count": 37,
     "metadata": {},
     "output_type": "execute_result"
    }
   ],
   "source": [
    "accuracy_score(label_pred, data_imdb_test.sentiment)"
   ]
  },
  {
   "cell_type": "code",
   "execution_count": 39,
   "metadata": {},
   "outputs": [
    {
     "data": {
      "text/plain": [
       "0.6524214656857263"
      ]
     },
     "execution_count": 39,
     "metadata": {},
     "output_type": "execute_result"
    }
   ],
   "source": [
    "from sklearn.metrics import average_precision_score\n",
    "from sklearn.metrics import average_re\n",
    "average_precision = average_precision_score(label_pred, data_imdb_test.sentiment)\n",
    "average_precision"
   ]
  },
  {
   "cell_type": "code",
   "execution_count": 41,
   "metadata": {},
   "outputs": [
    {
     "data": {
      "text/plain": [
       "(array([0.70991136, 0.71247021]),\n",
       " array([0.70876911, 0.71360382]),\n",
       " array([0.70933977, 0.71303657]),\n",
       " array([1243, 1257], dtype=int64))"
      ]
     },
     "execution_count": 41,
     "metadata": {},
     "output_type": "execute_result"
    }
   ],
   "source": [
    "from sklearn.metrics import precision_recall_fscore_support\n",
    "precision_recall = precision_recall_fscore_support(label_pred, data_imdb_test.sentiment)\n",
    "precision_recall"
   ]
  },
  {
   "cell_type": "code",
   "execution_count": 33,
   "metadata": {},
   "outputs": [
    {
     "data": {
      "image/png": "[encoded data removed]",
      "text/plain": [
       "<Figure size 432x288 with 2 Axes>"
      ]
     },
     "metadata": {
      "needs_background": "light"
     },
     "output_type": "display_data"
    }
   ],
   "source": [
    "plot_cm(cm)"
   ]
  },
  {
   "cell_type": "code",
   "execution_count": 16,
   "metadata": {},
   "outputs": [
    {
     "data": {
      "text/plain": [
       "array([[908, 327],\n",
       "       [360, 905]], dtype=int64)"
      ]
     },
     "execution_count": 16,
     "metadata": {},
     "output_type": "execute_result"
    }
   ],
   "source": [
    "cm"
   ]
  },
  {
   "cell_type": "code",
   "execution_count": 17,
   "metadata": {},
   "outputs": [
    {
     "data": {
      "text/html": [
       "<div>\n",
       "<style scoped>\n",
       "    .dataframe tbody tr th:only-of-type {\n",
       "        vertical-align: middle;\n",
       "    }\n",
       "\n",
       "    .dataframe tbody tr th {\n",
       "        vertical-align: top;\n",
       "    }\n",
       "\n",
       "    .dataframe thead th {\n",
       "        text-align: right;\n",
       "    }\n",
       "</style>\n",
       "<table border=\"1\" class=\"dataframe\">\n",
       "  <thead>\n",
       "    <tr style=\"text-align: right;\">\n",
       "      <th></th>\n",
       "      <th>review</th>\n",
       "    </tr>\n",
       "  </thead>\n",
       "  <tbody>\n",
       "    <tr>\n",
       "      <th>0</th>\n",
       "      <td>check staff very friendly and could not do eno...</td>\n",
       "    </tr>\n",
       "    <tr>\n",
       "      <th>1</th>\n",
       "      <td>room great modern clean robe slipper welcome t...</td>\n",
       "    </tr>\n",
       "    <tr>\n",
       "      <th>2</th>\n",
       "      <td>this great hotel staff very friendly and profe...</td>\n",
       "    </tr>\n",
       "    <tr>\n",
       "      <th>3</th>\n",
       "      <td>price room which we stayed without breakfast i...</td>\n",
       "    </tr>\n",
       "    <tr>\n",
       "      <th>4</th>\n",
       "      <td>parking facility excellent but did find charge...</td>\n",
       "    </tr>\n",
       "  </tbody>\n",
       "</table>\n",
       "</div>"
      ],
      "text/plain": [
       "                                              review\n",
       "0  check staff very friendly and could not do eno...\n",
       "1  room great modern clean robe slipper welcome t...\n",
       "2  this great hotel staff very friendly and profe...\n",
       "3  price room which we stayed without breakfast i...\n",
       "4  parking facility excellent but did find charge..."
      ]
     },
     "execution_count": 17,
     "metadata": {},
     "output_type": "execute_result"
    }
   ],
   "source": [
    "hotel_review_data = pd.read_csv('data/evaluation_dataset.csv')\n",
    "hotel_review_data = data_preprocess(hotel_review_data, 'lemma')\n",
    "hotel_review_data.head()"
   ]
  },
  {
   "cell_type": "code",
   "execution_count": 23,
   "metadata": {},
   "outputs": [],
   "source": [
    "vctr = TfidfVectorizer(ngram_range=(1,2))\n",
    "vctr.fit(df_train_data['review'])\n",
    "hotel_review_data_vec = vctr.transform(hotel_review_data['review'])\n",
    "res = clf.predict(hotel_review_data_vec.toarray())"
   ]
  },
  {
   "cell_type": "code",
   "execution_count": 25,
   "metadata": {
    "scrolled": true
   },
   "outputs": [
    {
     "data": {
      "text/html": [
       "<div>\n",
       "<style scoped>\n",
       "    .dataframe tbody tr th:only-of-type {\n",
       "        vertical-align: middle;\n",
       "    }\n",
       "\n",
       "    .dataframe tbody tr th {\n",
       "        vertical-align: top;\n",
       "    }\n",
       "\n",
       "    .dataframe thead th {\n",
       "        text-align: right;\n",
       "    }\n",
       "</style>\n",
       "<table border=\"1\" class=\"dataframe\">\n",
       "  <thead>\n",
       "    <tr style=\"text-align: right;\">\n",
       "      <th></th>\n",
       "      <th>review</th>\n",
       "      <th>sentiment</th>\n",
       "    </tr>\n",
       "  </thead>\n",
       "  <tbody>\n",
       "    <tr>\n",
       "      <th>0</th>\n",
       "      <td>check staff very friendly and could not do eno...</td>\n",
       "      <td>1.0</td>\n",
       "    </tr>\n",
       "    <tr>\n",
       "      <th>1</th>\n",
       "      <td>room great modern clean robe slipper welcome t...</td>\n",
       "      <td>1.0</td>\n",
       "    </tr>\n",
       "    <tr>\n",
       "      <th>2</th>\n",
       "      <td>this great hotel staff very friendly and profe...</td>\n",
       "      <td>1.0</td>\n",
       "    </tr>\n",
       "    <tr>\n",
       "      <th>3</th>\n",
       "      <td>price room which we stayed without breakfast i...</td>\n",
       "      <td>-1.0</td>\n",
       "    </tr>\n",
       "    <tr>\n",
       "      <th>4</th>\n",
       "      <td>parking facility excellent but did find charge...</td>\n",
       "      <td>1.0</td>\n",
       "    </tr>\n",
       "  </tbody>\n",
       "</table>\n",
       "</div>"
      ],
      "text/plain": [
       "                                              review  sentiment\n",
       "0  check staff very friendly and could not do eno...        1.0\n",
       "1  room great modern clean robe slipper welcome t...        1.0\n",
       "2  this great hotel staff very friendly and profe...        1.0\n",
       "3  price room which we stayed without breakfast i...       -1.0\n",
       "4  parking facility excellent but did find charge...        1.0"
      ]
     },
     "execution_count": 25,
     "metadata": {},
     "output_type": "execute_result"
    }
   ],
   "source": [
    "hotel_review_data['sentiment'] = res\n",
    "hotel_review_data.head()"
   ]
  },
  {
   "cell_type": "code",
   "execution_count": 27,
   "metadata": {},
   "outputs": [
    {
     "data": {
      "text/plain": [
       " 1.0    118\n",
       "-1.0     82\n",
       "Name: sentiment, dtype: int64"
      ]
     },
     "execution_count": 27,
     "metadata": {},
     "output_type": "execute_result"
    }
   ],
   "source": [
    "hotel_review_data.sentiment.value_counts()"
   ]
  },
  {
   "cell_type": "code",
   "execution_count": 26,
   "metadata": {},
   "outputs": [],
   "source": [
    "hotel_review_data.to_csv('data/latest.csv', index=False)"
   ]
  },
  {
   "cell_type": "code",
   "execution_count": 29,
   "metadata": {},
   "outputs": [
    {
     "data": {
      "text/html": [
       "<div>\n",
       "<style scoped>\n",
       "    .dataframe tbody tr th:only-of-type {\n",
       "        vertical-align: middle;\n",
       "    }\n",
       "\n",
       "    .dataframe tbody tr th {\n",
       "        vertical-align: top;\n",
       "    }\n",
       "\n",
       "    .dataframe thead th {\n",
       "        text-align: right;\n",
       "    }\n",
       "</style>\n",
       "<table border=\"1\" class=\"dataframe\">\n",
       "  <thead>\n",
       "    <tr style=\"text-align: right;\">\n",
       "      <th></th>\n",
       "      <th>review</th>\n",
       "      <th>sentiment</th>\n",
       "      <th>label</th>\n",
       "    </tr>\n",
       "  </thead>\n",
       "  <tbody>\n",
       "    <tr>\n",
       "      <th>0</th>\n",
       "      <td>check staff very friendly and could not do eno...</td>\n",
       "      <td>1</td>\n",
       "      <td>1</td>\n",
       "    </tr>\n",
       "    <tr>\n",
       "      <th>1</th>\n",
       "      <td>room great modern clean robe slipper welcome t...</td>\n",
       "      <td>1</td>\n",
       "      <td>1</td>\n",
       "    </tr>\n",
       "    <tr>\n",
       "      <th>2</th>\n",
       "      <td>this great hotel staff very friendly and profe...</td>\n",
       "      <td>1</td>\n",
       "      <td>1</td>\n",
       "    </tr>\n",
       "    <tr>\n",
       "      <th>3</th>\n",
       "      <td>price room which we stayed without breakfast i...</td>\n",
       "      <td>-1</td>\n",
       "      <td>-1</td>\n",
       "    </tr>\n",
       "    <tr>\n",
       "      <th>4</th>\n",
       "      <td>parking facility excellent but did find charge...</td>\n",
       "      <td>1</td>\n",
       "      <td>1</td>\n",
       "    </tr>\n",
       "  </tbody>\n",
       "</table>\n",
       "</div>"
      ],
      "text/plain": [
       "                                              review  sentiment  label\n",
       "0  check staff very friendly and could not do eno...          1      1\n",
       "1  room great modern clean robe slipper welcome t...          1      1\n",
       "2  this great hotel staff very friendly and profe...          1      1\n",
       "3  price room which we stayed without breakfast i...         -1     -1\n",
       "4  parking facility excellent but did find charge...          1      1"
      ]
     },
     "execution_count": 29,
     "metadata": {},
     "output_type": "execute_result"
    }
   ],
   "source": [
    "result = pd.read_csv('data/latest.csv')\n",
    "result.head()"
   ]
  },
  {
   "cell_type": "code",
   "execution_count": 31,
   "metadata": {},
   "outputs": [
    {
     "data": {
      "text/plain": [
       "array([[43, 39],\n",
       "       [37, 81]], dtype=int64)"
      ]
     },
     "execution_count": 31,
     "metadata": {},
     "output_type": "execute_result"
    }
   ],
   "source": [
    "cm_res = confusion_matrix(result.sentiment, result.label)\n",
    "cm_res"
   ]
  },
  {
   "cell_type": "code",
   "execution_count": 34,
   "metadata": {},
   "outputs": [
    {
     "data": {
      "image/png": "[encoded data removed]",
      "text/plain": [
       "<Figure size 432x288 with 2 Axes>"
      ]
     },
     "metadata": {
      "needs_background": "light"
     },
     "output_type": "display_data"
    }
   ],
   "source": [
    "plot_cm(cm_res)"
   ]
  },
  {
   "cell_type": "code",
   "execution_count": 36,
   "metadata": {},
   "outputs": [
    {
     "data": {
      "text/plain": [
       "0.62"
      ]
     },
     "execution_count": 36,
     "metadata": {},
     "output_type": "execute_result"
    }
   ],
   "source": [
    "from sklearn.metrics import accuracy_score\n",
    "accuracy_score(result.sentiment, result.label)"
   ]
  },
  {
   "cell_type": "code",
   "execution_count": 42,
   "metadata": {},
   "outputs": [
    {
     "data": {
      "text/plain": [
       "(array([0.5375, 0.675 ]),\n",
       " array([0.52439024, 0.68644068]),\n",
       " array([0.5308642 , 0.68067227]),\n",
       " array([ 82, 118], dtype=int64))"
      ]
     },
     "execution_count": 42,
     "metadata": {},
     "output_type": "execute_result"
    }
   ],
   "source": [
    "from sklearn.metrics import precision_recall_fscore_support\n",
    "precision_recall = precision_recall_fscore_support(result.sentiment, result.label)\n",
    "precision_recall"
   ]
  },
  {
   "cell_type": "code",
   "execution_count": 354,
   "metadata": {},
   "outputs": [
    {
     "data": {
      "text/plain": [
       "'i still cant believe how bad this movie wa if i wasnt massochist i dont know if i would have survived viewing it look like it cost about to make but it wasnt money that brought them down acting wa horrid not just bad rd grader could have read line better second only other reason to watch this kind movie skin and that sorely lacking this flick we dont even get to see more attractive chicas buff ahh well better luck next time eh'"
      ]
     },
     "execution_count": 354,
     "metadata": {},
     "output_type": "execute_result"
    }
   ],
   "source": [
    "df_train_data.iloc[5].review"
   ]
  },
  {
   "cell_type": "code",
   "execution_count": 311,
   "metadata": {},
   "outputs": [
    {
     "data": {
      "text/plain": [
       "\"I went and saw this movie last night after being coaxed to by a few friends of mine. I'll admit that I was reluctant to see it because from what I knew of Ashton Kutcher he was only able to do comedy. I was wrong. Kutcher played the character of Jake Fischer very well, and Kevin Costner played Ben Randall with such professionalism. The sign of a good movie is that it can toy with our emotions. This one did exactly that. The entire theater (which was sold out) was overcome by laughter during the first half of the movie, and were moved to tears during the second half. While exiting the theater I not only saw many women in tears, but many full grown men as well, trying desperately not to let anyone see them crying. This movie was great, and I suggest that you go see it before you judge.\""
      ]
     },
     "execution_count": 311,
     "metadata": {},
     "output_type": "execute_result"
    }
   ],
   "source": [
    "data_movie_review[data_movie_review.label == 'pos'].iloc[0].review"
   ]
  },
  {
   "cell_type": "code",
   "execution_count": 303,
   "metadata": {},
   "outputs": [
    {
     "data": {
      "text/plain": [
       "'privilege watching scarface big screen beautifully restored mm print honor th anniversary films release great see big screen much lost television sets overall largesse project cannot emphasized enough scarface remake classic rags riches depths hell story featuring al pacino cuban drug lord tony montana version tony comes america cuban boat people immigration wave late s early s tony cohorts quickly get green cards offing political figure tent city brief stay cuban restaurant tony launched horrific path towards total destruction many characters movie played skilled manner enjoyable watch forgot little film last twenty years robert loggia tony s patron frank lopez wonderful character flawed trusting tony quickly figures out soft lopez s right hand omar suarez portrayed one greatest actors f murray abraham amadeus suarez ultimate toady anything frank like mind own tony quickly sees constantly battles suarez really sees minor problem get way top character always comes back played perfectly mel bernstein audaciously corrupt miami narcotics detective played harris yulin training day mel without guilt extorts great sums money form sides drug industry plays tony frank catches scene marks exit film frank mel priceless hear frank asking mel intercede tony kill hear mel reply it s tree frank you re sitting it man frank paying protection tony s rise meteoric matched speed intensity quick crash burn offing frank taking wife business tony s greed takes never seem get enough tony plunges deeper world drugs greed inability trust eventually kills best friend sister fallen love married sets ending tony s compound stormed army supplier feels betrayed tony would go political assassination ordered stems form compassionate moment tony refused accomplice murder would involved victim s wife children all great depiction s excess cocaine culture depalma nice job holding together one fastest moving three hour movies around violence extremely graphic contains scenes forever etched viewers mind particularly gruesome chainsaw seen two point blank shots head entire bloody melee ends movie highly recommended stylistically done film squeamish need upbeat endings potential sequels depalma let fly right here'"
      ]
     },
     "execution_count": 303,
     "metadata": {},
     "output_type": "execute_result"
    }
   ],
   "source": [
    "data_movie_review.iloc[7].review"
   ]
  },
  {
   "cell_type": "code",
   "execution_count": null,
   "metadata": {},
   "outputs": [],
   "source": []
  }
 ],
 "metadata": {
  "kernelspec": {
   "display_name": "Python 3",
   "language": "python",
   "name": "python3"
  },
  "language_info": {
   "codemirror_mode": {
    "name": "ipython",
    "version": 3
   },
   "file_extension": ".py",
   "mimetype": "text/x-python",
   "name": "python",
   "nbconvert_exporter": "python",
   "pygments_lexer": "ipython3",
   "version": "3.6.8"
  }
 },
 "nbformat": 4,
 "nbformat_minor": 2
}
